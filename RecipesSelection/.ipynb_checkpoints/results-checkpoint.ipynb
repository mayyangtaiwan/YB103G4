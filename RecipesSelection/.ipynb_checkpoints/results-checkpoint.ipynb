{
 "cells": [
  {
   "cell_type": "code",
   "execution_count": 19,
   "metadata": {
    "collapsed": false
   },
   "outputs": [
    {
     "name": "stdout",
     "output_type": "stream",
     "text": [
      "[{\"name\":\"蒜味香菇雞炊飯\",\"slug\":\"I00001\",\"type\":\"ditem\",\"ditem\":1,\"links\":[\"1800-1900大卡\",\"雞腿排\",\"米\",\"香菇\",\"蔥\",\"蒜\",\"蠔油\",\"蒜\",\"胡椒粉\",\"麻油\",\"醬油膏\",\"麻油\",\"米酒\",\"椒鹽\"]},{\"name\":\"起司蛋捲\",\"slug\":\"I00002\",\"type\":\"ditem\",\"ditem\":2,\"links\":[\"400-500大卡\",\"雞蛋\",\"蜂蜜\",\"奶油\",\"橄欖油\",\"起司\"]},{\"name\":\"一人份美味蒸蛋\",\"slug\":\"I00003\",\"type\":\"ditem\",\"ditem\":3,\"links\":[\"100-200大卡\",\"雞蛋\",\"食鹽\",\"水\"]},{\"name\":\"麻油雞油飯\",\"slug\":\"I00004\",\"type\":\"ditem\",\"ditem\":4,\"links\":[\"1400-1500大卡\",\"糯米\",\"米酒\",\"雞胸肉\",\"薑\",\"麻油\",\"雞精粉\",\"水\"]},{\"name\":\"嫩薑蒸鱈魚\",\"slug\":\"I00005\",\"type\":\"ditem\",\"ditem\":5,\"links\":[\"100-200大卡\",\"鱈魚\",\"薑\",\"蔥\",\"食鹽\",\"胡椒粉\",\"米酒\"]},{\"name\":\"鹹豬肉炒高麗菜\",\"slug\":\"I00006\",\"type\":\"ditem\",\"ditem\":6,\"links\":[\"300-400大卡\",\"蒜\",\"高麗菜\",\"鹹豬肉\",\"油\",\"雞精粉\"]},{\"name\":\"菠菜菇菇\",\"slug\":\"I00007\",\"type\":\"ditem\",\"ditem\":7,\"links\":[\"100-200大卡\",\"金針菇\",\"鴻喜菇\",\"菠菜\",\"薑\",\"油\",\"小茴香\"]},{\"name\":\"醬爆鮮蔬\",\"slug\":\"I00008\",\"type\":\"ditem\",\"ditem\":8,\"links\":[\"100-200大卡\",\"花椰菜\",\"杏鮑菇\",\"胡蘿蔔\",\"洋蔥\",\"水\",\"炸醬\",\"油\"]},{\"name\":\"剝皮辣椒雞湯\",\"slug\":\"I00009\",\"type\":\"ditem\",\"ditem\":9,\"links\":[\"1200-1300大卡\",\"雞肉\",\"辣椒\",\"薑\",\"米酒\"]},{\"name\":\"XO醬涼拌金針菇\",\"slug\":\"I00010\",\"type\":\"ditem\",\"ditem\":10,\"links\":[\"200-300大卡\",\"干貝\",\"海鮮\",\"XO醬\",\"金針菇\",\"西洋芹菜\"]}]\n"
     ]
    }
   ],
   "source": [
    "# -*- coding: utf-8 -*-\n",
    "import pandas as pd\n",
    "import numpy as np\n",
    "import json\n",
    "rcp = pd.read_csv('test-results_rcp.csv')\n",
    "ingre = pd.read_csv('test-results_ingre.csv')\n",
    "\n",
    "#cal list for json 3rd list - fixed one for all.\n",
    "cal = ',\"perspectives\":[{\"type\":\"perspective\",\"name\":\"0-50大卡\",\"group\":\"1\"},{\"type\":\"perspective\",\"name\":\"51-100大卡\",\"group\":\"1\"},{\"type\":\"perspective\",\"name\":\"101-150大卡\",\"group\":\"2\"},{\"type\":\"perspective\",\"name\":\"151-200大卡\",\"group\":\"2\"},{\"type\":\"perspective\",\"name\":\"201-250大卡\",\"group\":\"3\"},{\"type\":\"perspective\",\"name\":\"251-300大卡\",\"group\":\"3\"},{\"type\":\"perspective\",\"name\":\"301-350大卡\",\"count\":\"22\",\"group\":\"4\"},{\"type\":\"perspective\",\"name\":\"351-400大卡\",\"group\":\"4\"},{\"type\":\"perspective\",\"name\":\"401-450大卡\",\"group\":\"5\"},{\"type\":\"perspective\",\"name\":\"451-500大卡\",\"group\":\"5\"},{\"type\":\"perspective\",\"name\":\"501-550大卡\",\"group\":\"6\"},{\"type\":\"perspective\",\"name\":\"551-600大卡\",\"group\":\"6\"},{\"type\":\"perspective\",\"name\":\"601-650大卡\",\"group\":\"7\"},{\"type\":\"perspective\",\"name\":\"651-700大卡\",\"group\":\"7\"},{\"type\":\"perspective\",\"name\":\"701-750大卡\",\"group\":\"8\"},{\"type\":\"perspective\",\"name\":\"751-800大卡\",\"group\":\"8\"},{\"type\":\"perspective\",\"name\":\"801-850大卡\",\"group\":\"9\"},{\"type\":\"perspective\",\"name\":\"851-900大卡\",\"group\":\"9\"},{\"type\":\"perspective\",\"name\":\"901-950大卡\",\"group\":\"10\"},{\"type\":\"perspective\",\"name\":\"951大卡以上\",\"group\":\"10\"}]}'\n",
    "\n",
    "#ingre list for json 2nd list\n",
    "IngreName = ingre.loc[:,['IngreName']].drop_duplicates()\n",
    "IngreName.columns = ['name']\n",
    "IngreName['type'] = ['theme']*len(IngreName)\n",
    "IngreName = IngreName.loc[:,['type','name']]\n",
    "#print IngreName\n",
    "\n",
    "#concate 2 lists\n",
    "theme = IngreName.to_json(path_or_buf=None, orient='records', date_format='epoch', double_precision=10, force_ascii=False, date_unit='ms', default_handler=None)\n",
    "\n",
    "#global formal for 1st json list\n",
    "rcp1 = pd.merge(rcp, ingre, on='RcpNo', how='right')\n",
    "rcp1.to_csv('test-results_main.csv')\n",
    "rcp2 = rcp.loc[:,['RcpName','RcpNo']].drop_duplicates()\n",
    "rcp2.columns = ['name','slug']\n",
    "rcp2['type']=['ditem']*len(rcp2)\n",
    "rcp2['ditem']=np.arange(len(rcp2))+1\n",
    "#print rcp2\n",
    "#ingre+cal in each main json recipe list\n",
    "rcpInfo = []\n",
    "rcpInfo2 = []\n",
    "unique = set()\n",
    "with open('test-results_main.csv') as f:\n",
    "    header_line = next(f)\n",
    "    for line in f:\n",
    "        RcpNo = line.strip().split(',')[1]\n",
    "        RcpName = line.strip().split(',')[2]\n",
    "        RcpTotalCalCat = line.strip().split(',')[3]\n",
    "        IngreName = line.strip().split(',')[4]\n",
    "        if RcpNo in unique: \n",
    "            rcpInfo.append(IngreName) \n",
    "        else:\n",
    "            if rcpInfo:#if rcpInfo is not empty\n",
    "                rcpInfo2.append(rcpInfo)\n",
    "                rcpInfo = []\n",
    "            unique.add(RcpNo)\n",
    "            rcpInfo.append(RcpTotalCalCat)\n",
    "            rcpInfo.append(IngreName)\n",
    "    rcpInfo2.append(rcpInfo)\n",
    "#for i in rcpInfo2:\n",
    " #   print i\n",
    "rcp2['links'] = pd.Series(rcpInfo2)\n",
    "#print rcp2\n",
    "\n",
    "#1st json list\n",
    "ditms = rcp2.to_json(path_or_buf=None, orient='records', date_format='epoch', double_precision=10, force_ascii=False, date_unit='ms', default_handler=None)                                    \n",
    "print ditms\n",
    "WTEjson = '{\"ditems\":'+ditms+',\"themes\":'+ theme + cal\n",
    "\n",
    "metadatajson = open('metadata.json', 'w')\n",
    "metadatajson.write(WTEjson)\n",
    "metadatajson.close()"
   ]
  },
  {
   "cell_type": "code",
   "execution_count": 409,
   "metadata": {
    "collapsed": false
   },
   "outputs": [],
   "source": []
  },
  {
   "cell_type": "code",
   "execution_count": 390,
   "metadata": {
    "collapsed": false
   },
   "outputs": [],
   "source": []
  },
  {
   "cell_type": "code",
   "execution_count": null,
   "metadata": {
    "collapsed": false
   },
   "outputs": [],
   "source": []
  },
  {
   "cell_type": "code",
   "execution_count": null,
   "metadata": {
    "collapsed": false
   },
   "outputs": [],
   "source": [
    "\n",
    "        \n"
   ]
  },
  {
   "cell_type": "code",
   "execution_count": null,
   "metadata": {
    "collapsed": false
   },
   "outputs": [],
   "source": []
  },
  {
   "cell_type": "code",
   "execution_count": null,
   "metadata": {
    "collapsed": false
   },
   "outputs": [],
   "source": []
  },
  {
   "cell_type": "code",
   "execution_count": null,
   "metadata": {
    "collapsed": false,
    "scrolled": true
   },
   "outputs": [],
   "source": []
  },
  {
   "cell_type": "code",
   "execution_count": null,
   "metadata": {
    "collapsed": false
   },
   "outputs": [],
   "source": []
  },
  {
   "cell_type": "code",
   "execution_count": null,
   "metadata": {
    "collapsed": true
   },
   "outputs": [],
   "source": []
  }
 ],
 "metadata": {
  "kernelspec": {
   "display_name": "Python 2",
   "language": "python",
   "name": "python2"
  },
  "language_info": {
   "codemirror_mode": {
    "name": "ipython",
    "version": 2
   },
   "file_extension": ".py",
   "mimetype": "text/x-python",
   "name": "python",
   "nbconvert_exporter": "python",
   "pygments_lexer": "ipython2",
   "version": "2.7.9"
  }
 },
 "nbformat": 4,
 "nbformat_minor": 0
}
