{
 "cells": [
  {
   "cell_type": "code",
   "execution_count": 67,
   "metadata": {
    "collapsed": false
   },
   "outputs": [
    {
     "name": "stdout",
     "output_type": "stream",
     "text": [
      "    RcpNo  RcpName RcpTotalCalCat IngreName\n",
      "0  I00001  蒜味香菇雞炊飯    1800-1900大卡       雞腿排\n",
      "1  I00001  蒜味香菇雞炊飯    1800-1900大卡         米\n",
      "2  I00001  蒜味香菇雞炊飯    1800-1900大卡        香菇\n",
      "3  I00001  蒜味香菇雞炊飯    1800-1900大卡         蔥\n",
      "4  I00001  蒜味香菇雞炊飯    1800-1900大卡         蒜\n",
      "=====\n",
      "  IngreName\n",
      "0       雞腿排\n",
      "1         米\n",
      "2        香菇\n",
      "3         蔥\n",
      "4         蒜\n",
      "=====\n",
      "  name   type\n",
      "0  雞腿排  theme\n",
      "1    米  theme\n",
      "2   香菇  theme\n",
      "3    蔥  theme\n",
      "4    蒜  theme\n",
      "=====\n",
      "    type name\n",
      "0  theme  雞腿排\n",
      "1  theme    米\n",
      "2  theme   香菇\n",
      "3  theme    蔥\n",
      "4  theme    蒜\n",
      "=====\n",
      "[{\"type\":\"theme\",\"name\":\"雞腿排\"},{\"type\":\"theme\",\"name\":\"米\"},{\"type\":\"theme\",\"name\":\"香菇\"},{\"type\":\"theme\",\"name\":\"蔥\"},{\"type\":\"theme\",\"name\":\"蒜\"},{\"type\":\"theme\",\"name\":\"蠔油\"},{\"type\":\"theme\",\"name\":\"胡椒粉\"},{\"type\":\"theme\",\"name\":\"麻油\"},{\"type\":\"theme\",\"name\":\"醬油膏\"},{\"type\":\"theme\",\"name\":\"米酒\"},{\"type\":\"theme\",\"name\":\"椒鹽\"},{\"type\":\"theme\",\"name\":\"雞蛋\"},{\"type\":\"theme\",\"name\":\"蜂蜜\"},{\"type\":\"theme\",\"name\":\"奶油\"},{\"type\":\"theme\",\"name\":\"橄欖油\"},{\"type\":\"theme\",\"name\":\"起司\"},{\"type\":\"theme\",\"name\":\"食鹽\"},{\"type\":\"theme\",\"name\":\"水\"},{\"type\":\"theme\",\"name\":\"糯米\"},{\"type\":\"theme\",\"name\":\"雞胸肉\"},{\"type\":\"theme\",\"name\":\"薑\"},{\"type\":\"theme\",\"name\":\"雞精粉\"},{\"type\":\"theme\",\"name\":\"鱈魚\"},{\"type\":\"theme\",\"name\":\"高麗菜\"},{\"type\":\"theme\",\"name\":\"鹹豬肉\"},{\"type\":\"theme\",\"name\":\"油\"},{\"type\":\"theme\",\"name\":\"金針菇\"},{\"type\":\"theme\",\"name\":\"鴻喜菇\"},{\"type\":\"theme\",\"name\":\"菠菜\"},{\"type\":\"theme\",\"name\":\"小茴香\"},{\"type\":\"theme\",\"name\":\"花椰菜\"},{\"type\":\"theme\",\"name\":\"杏鮑菇\"},{\"type\":\"theme\",\"name\":\"胡蘿蔔\"},{\"type\":\"theme\",\"name\":\"洋蔥\"},{\"type\":\"theme\",\"name\":\"炸醬\"},{\"type\":\"theme\",\"name\":\"雞肉\"},{\"type\":\"theme\",\"name\":\"辣椒\"},{\"type\":\"theme\",\"name\":\"干貝\"},{\"type\":\"theme\",\"name\":\"海鮮\"},{\"type\":\"theme\",\"name\":\"XO醬\"},{\"type\":\"theme\",\"name\":\"西洋芹菜\"}]\n"
     ]
    }
   ],
   "source": [
    "# -*- coding: utf-8 -*-\n",
    "import pandas as pd\n",
    "import numpy as np\n",
    "import json\n",
    "results = pd.read_csv('test-results_sql.csv')\n",
    "print results.head()\n",
    "print '====='\n",
    "\n",
    "#cal list for json 3rd list - fixed one for all.\n",
    "cal = ',\"perspectives\":[{\"type\":\"perspective\",\"name\":\"0-50大卡\",\"group\":\"1\"},{\"type\":\"perspective\",\"name\":\"51-100大卡\",\"group\":\"1\"},{\"type\":\"perspective\",\"name\":\"101-150大卡\",\"group\":\"2\"},{\"type\":\"perspective\",\"name\":\"151-200大卡\",\"group\":\"2\"},{\"type\":\"perspective\",\"name\":\"201-250大卡\",\"group\":\"3\"},{\"type\":\"perspective\",\"name\":\"251-300大卡\",\"group\":\"3\"},{\"type\":\"perspective\",\"name\":\"301-350大卡\",\"count\":\"22\",\"group\":\"4\"},{\"type\":\"perspective\",\"name\":\"351-400大卡\",\"group\":\"4\"},{\"type\":\"perspective\",\"name\":\"401-450大卡\",\"group\":\"5\"},{\"type\":\"perspective\",\"name\":\"451-500大卡\",\"group\":\"5\"},{\"type\":\"perspective\",\"name\":\"501-550大卡\",\"group\":\"6\"},{\"type\":\"perspective\",\"name\":\"551-600大卡\",\"group\":\"6\"},{\"type\":\"perspective\",\"name\":\"601-650大卡\",\"group\":\"7\"},{\"type\":\"perspective\",\"name\":\"651-700大卡\",\"group\":\"7\"},{\"type\":\"perspective\",\"name\":\"701-750大卡\",\"group\":\"8\"},{\"type\":\"perspective\",\"name\":\"751-800大卡\",\"group\":\"8\"},{\"type\":\"perspective\",\"name\":\"801-850大卡\",\"group\":\"9\"},{\"type\":\"perspective\",\"name\":\"851-900大卡\",\"group\":\"9\"},{\"type\":\"perspective\",\"name\":\"901-950大卡\",\"group\":\"10\"},{\"type\":\"perspective\",\"name\":\"951大卡以上\",\"group\":\"10\"}]}'\n",
    "\n",
    "#ingre list for json 2nd list\n",
    "IngreName = results.loc[:,['IngreName']].drop_duplicates() #select only IngreName column, drop dups ingre for all\n",
    "print IngreName.head()\n",
    "print '====='\n",
    "\n",
    "IngreName.columns = ['name'] #change col name from \"IngreName\" to \"name\" to meet our json file format\n",
    "IngreName['type'] = ['theme']*len(IngreName) #add a new col \"type\" with \"theme\" as values, to meet json format\n",
    "print IngreName.head()\n",
    "print '====='\n",
    "IngreName = IngreName.loc[:,['type','name']] #change postion\n",
    "print IngreName.head()\n",
    "print '====='\n",
    "\n",
    "#turn it to 2nd json list\n",
    "theme = IngreName.to_json(path_or_buf=None, orient='records', date_format='epoch', double_precision=10, force_ascii=False, date_unit='ms', default_handler=None)\n",
    "print theme"
   ]
  },
  {
   "cell_type": "code",
   "execution_count": 68,
   "metadata": {
    "collapsed": false
   },
   "outputs": [
    {
     "name": "stdout",
     "output_type": "stream",
     "text": [
      "     RcpNo  RcpName RcpTotalCalCat IngreName\n",
      "0   I00001  蒜味香菇雞炊飯    1800-1900大卡       雞腿排\n",
      "1   I00001  蒜味香菇雞炊飯    1800-1900大卡         米\n",
      "2   I00001  蒜味香菇雞炊飯    1800-1900大卡        香菇\n",
      "3   I00001  蒜味香菇雞炊飯    1800-1900大卡         蔥\n",
      "4   I00001  蒜味香菇雞炊飯    1800-1900大卡         蒜\n",
      "5   I00001  蒜味香菇雞炊飯    1800-1900大卡        蠔油\n",
      "6   I00001  蒜味香菇雞炊飯    1800-1900大卡         蒜\n",
      "7   I00001  蒜味香菇雞炊飯    1800-1900大卡       胡椒粉\n",
      "8   I00001  蒜味香菇雞炊飯    1800-1900大卡        麻油\n",
      "9   I00001  蒜味香菇雞炊飯    1800-1900大卡       醬油膏\n",
      "10  I00001  蒜味香菇雞炊飯    1800-1900大卡        麻油\n",
      "11  I00001  蒜味香菇雞炊飯    1800-1900大卡        米酒\n",
      "12  I00001  蒜味香菇雞炊飯    1800-1900大卡        椒鹽\n",
      "13  I00002     起司蛋捲      400-500大卡        雞蛋\n",
      "14  I00002     起司蛋捲      400-500大卡        蜂蜜\n",
      "15  I00002     起司蛋捲      400-500大卡        奶油\n",
      "16  I00002     起司蛋捲      400-500大卡       橄欖油\n",
      "17  I00002     起司蛋捲      400-500大卡        起司\n",
      "18  I00003  一人份美味蒸蛋      100-200大卡        雞蛋\n",
      "19  I00003  一人份美味蒸蛋      100-200大卡        食鹽\n",
      "=====\n"
     ]
    }
   ],
   "source": [
    "print results.head(20)\n",
    "print '====='"
   ]
  },
  {
   "cell_type": "code",
   "execution_count": 69,
   "metadata": {
    "collapsed": false
   },
   "outputs": [
    {
     "name": "stdout",
     "output_type": "stream",
     "text": [
      "    RcpName   RcpNo\n",
      "0   蒜味香菇雞炊飯  I00001\n",
      "13     起司蛋捲  I00002\n",
      "18  一人份美味蒸蛋  I00003\n",
      "21    麻油雞油飯  I00004\n",
      "28    嫩薑蒸鱈魚  I00005\n",
      "=====\n",
      "       name    slug\n",
      "0   蒜味香菇雞炊飯  I00001\n",
      "13     起司蛋捲  I00002\n",
      "18  一人份美味蒸蛋  I00003\n",
      "21    麻油雞油飯  I00004\n",
      "28    嫩薑蒸鱈魚  I00005\n",
      "=====\n",
      "       name    slug   type  ditem\n",
      "0   蒜味香菇雞炊飯  I00001  ditem      1\n",
      "13     起司蛋捲  I00002  ditem      2\n",
      "18  一人份美味蒸蛋  I00003  ditem      3\n",
      "21    麻油雞油飯  I00004  ditem      4\n",
      "28    嫩薑蒸鱈魚  I00005  ditem      5\n",
      "=====\n",
      "       name    slug   type  ditem\n",
      "0   蒜味香菇雞炊飯  I00001  ditem      1\n",
      "1      起司蛋捲  I00002  ditem      2\n",
      "2   一人份美味蒸蛋  I00003  ditem      3\n",
      "3     麻油雞油飯  I00004  ditem      4\n",
      "4     嫩薑蒸鱈魚  I00005  ditem      5\n",
      "5   鹹豬肉炒高麗菜  I00006  ditem      6\n",
      "6      菠菜菇菇  I00007  ditem      7\n",
      "7      醬爆鮮蔬  I00008  ditem      8\n",
      "8    剝皮辣椒雞湯  I00009  ditem      9\n",
      "9  XO醬涼拌金針菇  I00010  ditem     10\n"
     ]
    }
   ],
   "source": [
    "#global formal for 1st json list\n",
    "rcp2 = results.loc[:,['RcpName','RcpNo']].drop_duplicates()\n",
    "print rcp2.head()\n",
    "print '====='\n",
    "\n",
    "rcp2.columns = ['name','slug'] #change col names to meet our json file format\n",
    "print rcp2.head()\n",
    "print '====='\n",
    "\n",
    "rcp2['type']=['ditem']*len(rcp2) #add a new col \"type\" with \"ditem\" as values, to meet json format\n",
    "rcp2['ditem']=np.arange(len(rcp2))+1 #add a new col \"ditem\" with numbers as values, number generated by numpy 0,1...\n",
    "print rcp2.head()\n",
    "print '====='\n",
    "\n",
    "rcp3 = rcp2.reset_index(drop=True) #reset index\n",
    "print rcp3\n"
   ]
  },
  {
   "cell_type": "code",
   "execution_count": 58,
   "metadata": {
    "collapsed": false
   },
   "outputs": [
    {
     "name": "stdout",
     "output_type": "stream",
     "text": [
      "    RcpNo  RcpName RcpTotalCalCat IngreName\n",
      "0  I00001  蒜味香菇雞炊飯    1800-1900大卡       雞腿排\n",
      "1  I00001  蒜味香菇雞炊飯    1800-1900大卡         米\n",
      "2  I00001  蒜味香菇雞炊飯    1800-1900大卡        香菇\n",
      "3  I00001  蒜味香菇雞炊飯    1800-1900大卡         蔥\n",
      "4  I00001  蒜味香菇雞炊飯    1800-1900大卡         蒜\n"
     ]
    }
   ],
   "source": [
    "print results.head()"
   ]
  },
  {
   "cell_type": "code",
   "execution_count": 71,
   "metadata": {
    "collapsed": false
   },
   "outputs": [
    {
     "name": "stdout",
     "output_type": "stream",
     "text": [
      "       name    slug   type  ditem  \\\n",
      "0   蒜味香菇雞炊飯  I00001  ditem      1   \n",
      "1      起司蛋捲  I00002  ditem      2   \n",
      "2   一人份美味蒸蛋  I00003  ditem      3   \n",
      "3     麻油雞油飯  I00004  ditem      4   \n",
      "4     嫩薑蒸鱈魚  I00005  ditem      5   \n",
      "5   鹹豬肉炒高麗菜  I00006  ditem      6   \n",
      "6      菠菜菇菇  I00007  ditem      7   \n",
      "7      醬爆鮮蔬  I00008  ditem      8   \n",
      "8    剝皮辣椒雞湯  I00009  ditem      9   \n",
      "9  XO醬涼拌金針菇  I00010  ditem     10   \n",
      "\n",
      "                                               links  \n",
      "0  [1800-1900大卡, 雞腿排, 米, 香菇, 蔥, 蒜, 蠔油, 蒜, 胡椒粉, 麻油...  \n",
      "1                   [400-500大卡, 雞蛋, 蜂蜜, 奶油, 橄欖油, 起司]  \n",
      "2                             [100-200大卡, 雞蛋, 食鹽, 水]  \n",
      "3          [1400-1500大卡, 糯米, 米酒, 雞胸肉, 薑, 麻油, 雞精粉, 水]  \n",
      "4                 [100-200大卡, 鱈魚, 薑, 蔥, 食鹽, 胡椒粉, 米酒]  \n",
      "5                   [300-400大卡, 蒜, 高麗菜, 鹹豬肉, 油, 雞精粉]  \n",
      "6               [100-200大卡, 金針菇, 鴻喜菇, 菠菜, 薑, 油, 小茴香]  \n",
      "7           [100-200大卡, 花椰菜, 杏鮑菇, 胡蘿蔔, 洋蔥, 水, 炸醬, 油]  \n",
      "8                       [1200-1300大卡, 雞肉, 辣椒, 薑, 米酒]  \n",
      "9                [200-300大卡, 干貝, 海鮮, XO醬, 金針菇, 西洋芹菜]  \n"
     ]
    }
   ],
   "source": [
    "#ingre+cal in each main json recipe list\n",
    "rcpInfo = []\n",
    "rcpInfo2 = []\n",
    "unique = set()\n",
    "with open('test-results_sql.csv') as f: #python\n",
    "    next(f) #skip headline\n",
    "    for line in f:\n",
    "        RcpNo = line.strip().split(',')[0]\n",
    "        RcpName = line.strip().split(',')[1]\n",
    "        RcpTotalCalCat = line.strip().split(',')[2]\n",
    "        IngreName = line.strip().split(',')[3]\n",
    "        if RcpNo in unique: \n",
    "            rcpInfo.append(IngreName) \n",
    "        else:\n",
    "            if rcpInfo:#if rcpInfo is not empty, the first one is empty\n",
    "                rcpInfo2.append(rcpInfo) #append the complete ingre list for one rcp to recpInfo2\n",
    "                rcpInfo = [] #clean for next recipe\n",
    "            unique.add(RcpNo)\n",
    "            rcpInfo.append(RcpTotalCalCat)\n",
    "            rcpInfo.append(IngreName)\n",
    "    rcpInfo2.append(rcpInfo) #append the final recipe\n",
    "    \n",
    "#for i in rcpInfo2:\n",
    " #   print i\n",
    "\n",
    "rcp3['links'] = pd.Series(rcpInfo2) #add a new col to rcp3, with values from rcpInfo2\n",
    "print rcp3\n"
   ]
  },
  {
   "cell_type": "code",
   "execution_count": 72,
   "metadata": {
    "collapsed": false
   },
   "outputs": [
    {
     "name": "stdout",
     "output_type": "stream",
     "text": [
      "[{\"name\":\"蒜味香菇雞炊飯\",\"slug\":\"I00001\",\"type\":\"ditem\",\"ditem\":1,\"links\":[\"1800-1900大卡\",\"雞腿排\",\"米\",\"香菇\",\"蔥\",\"蒜\",\"蠔油\",\"蒜\",\"胡椒粉\",\"麻油\",\"醬油膏\",\"麻油\",\"米酒\",\"椒鹽\"]},{\"name\":\"起司蛋捲\",\"slug\":\"I00002\",\"type\":\"ditem\",\"ditem\":2,\"links\":[\"400-500大卡\",\"雞蛋\",\"蜂蜜\",\"奶油\",\"橄欖油\",\"起司\"]},{\"name\":\"一人份美味蒸蛋\",\"slug\":\"I00003\",\"type\":\"ditem\",\"ditem\":3,\"links\":[\"100-200大卡\",\"雞蛋\",\"食鹽\",\"水\"]},{\"name\":\"麻油雞油飯\",\"slug\":\"I00004\",\"type\":\"ditem\",\"ditem\":4,\"links\":[\"1400-1500大卡\",\"糯米\",\"米酒\",\"雞胸肉\",\"薑\",\"麻油\",\"雞精粉\",\"水\"]},{\"name\":\"嫩薑蒸鱈魚\",\"slug\":\"I00005\",\"type\":\"ditem\",\"ditem\":5,\"links\":[\"100-200大卡\",\"鱈魚\",\"薑\",\"蔥\",\"食鹽\",\"胡椒粉\",\"米酒\"]},{\"name\":\"鹹豬肉炒高麗菜\",\"slug\":\"I00006\",\"type\":\"ditem\",\"ditem\":6,\"links\":[\"300-400大卡\",\"蒜\",\"高麗菜\",\"鹹豬肉\",\"油\",\"雞精粉\"]},{\"name\":\"菠菜菇菇\",\"slug\":\"I00007\",\"type\":\"ditem\",\"ditem\":7,\"links\":[\"100-200大卡\",\"金針菇\",\"鴻喜菇\",\"菠菜\",\"薑\",\"油\",\"小茴香\"]},{\"name\":\"醬爆鮮蔬\",\"slug\":\"I00008\",\"type\":\"ditem\",\"ditem\":8,\"links\":[\"100-200大卡\",\"花椰菜\",\"杏鮑菇\",\"胡蘿蔔\",\"洋蔥\",\"水\",\"炸醬\",\"油\"]},{\"name\":\"剝皮辣椒雞湯\",\"slug\":\"I00009\",\"type\":\"ditem\",\"ditem\":9,\"links\":[\"1200-1300大卡\",\"雞肉\",\"辣椒\",\"薑\",\"米酒\"]},{\"name\":\"XO醬涼拌金針菇\",\"slug\":\"I00010\",\"type\":\"ditem\",\"ditem\":10,\"links\":[\"200-300大卡\",\"干貝\",\"海鮮\",\"XO醬\",\"金針菇\",\"西洋芹菜\"]}]\n"
     ]
    }
   ],
   "source": [
    "#1st json list\n",
    "ditms = rcp3.to_json(path_or_buf=None, orient='records', date_format='epoch', double_precision=10, force_ascii=False, date_unit='ms', default_handler=None)                                    \n",
    "print ditms\n",
    "\n",
    "#concat 3 json lists and generate 1 file\n",
    "WTEjson = '{\"ditems\":'+ditms+',\"themes\":'+ theme + cal\n",
    "metadatajson = open('metadata.json', 'w')\n",
    "metadatajson.write(WTEjson)\n",
    "metadatajson.close()"
   ]
  },
  {
   "cell_type": "code",
   "execution_count": null,
   "metadata": {
    "collapsed": true
   },
   "outputs": [],
   "source": []
  },
  {
   "cell_type": "code",
   "execution_count": 95,
   "metadata": {
    "collapsed": false
   },
   "outputs": [
    {
     "name": "stdout",
     "output_type": "stream",
     "text": [
      "[{\"name\":\"蒜味香菇雞炊飯\",\"slug\":\"I00001\",\"type\":\"ditem\",\"ditem\":1,\"links\":[\" 1800-1900大卡\",\" 雞腿排\",\" 米\",\" 香菇\",\" 蔥\",\" 蒜\",\" 蠔油\",\" 蒜\",\" 胡椒粉\",\" 麻油\",\" 醬油膏\",\" 麻油\",\" 米酒\",\" 椒鹽\"]},{\"name\":\"起司蛋捲\",\"slug\":\"I00002\",\"type\":\"ditem\",\"ditem\":2,\"links\":[\" 400-500大卡\",\" 雞蛋\",\" 蜂蜜\",\" 奶油\",\" 橄欖油\",\" 起司\"]},{\"name\":\"一人份美味蒸蛋\",\"slug\":\"I00003\",\"type\":\"ditem\",\"ditem\":3,\"links\":[\" 100-200大卡\",\" 雞蛋\",\" 食鹽\",\" 水\"]},{\"name\":\"麻油雞油飯\",\"slug\":\"I00004\",\"type\":\"ditem\",\"ditem\":4,\"links\":[\" 1400-1500大卡\",\" 糯米\",\" 米酒\",\" 雞胸肉\",\" 薑\",\" 麻油\",\" 雞精粉\",\" 水\"]},{\"name\":\"嫩薑蒸鱈魚\",\"slug\":\"I00005\",\"type\":\"ditem\",\"ditem\":5,\"links\":[\" 100-200大卡\",\" 鱈魚\",\" 薑\",\" 蔥\",\" 食鹽\",\" 胡椒粉\",\" 米酒\"]},{\"name\":\"鹹豬肉炒高麗菜\",\"slug\":\"I00006\",\"type\":\"ditem\",\"ditem\":6,\"links\":[\" 300-400大卡\",\" 蒜\",\" 高麗菜\",\" 鹹豬肉\",\" 油\",\" 雞精粉\"]},{\"name\":\"菠菜菇菇\",\"slug\":\"I00007\",\"type\":\"ditem\",\"ditem\":7,\"links\":[\" 100-200大卡\",\" 金針菇\",\" 鴻喜菇\",\" 菠菜\",\" 薑\",\" 油\",\" 小茴香\"]},{\"name\":\"醬爆鮮蔬\",\"slug\":\"I00008\",\"type\":\"ditem\",\"ditem\":8,\"links\":[\" 100-200大卡\",\" 花椰菜\",\" 杏鮑菇\",\" 胡蘿蔔\",\" 洋蔥\",\" 水\",\" 炸醬\",\" 油\"]},{\"name\":\"剝皮辣椒雞湯\",\"slug\":\"I00009\",\"type\":\"ditem\",\"ditem\":9,\"links\":[\" 1200-1300大卡\",\" 雞肉\",\" 辣椒\",\" 薑\",\" 米酒\"]},{\"name\":\"XO醬涼拌金針菇\",\"slug\":\"I00010\",\"type\":\"ditem\",\"ditem\":10,\"links\":[\" 200-300大卡\",\" 干貝\",\" 海鮮\",\" XO醬\",\" 金針菇\",\" 西洋芹菜\"]}]\n"
     ]
    }
   ],
   "source": [
    "# -*- coding: utf-8 -*-\n",
    "import pandas as pd\n",
    "import numpy as np\n",
    "import json\n",
    "import StringIO\n",
    "results = pd.read_csv('test-results_sql.csv')\n",
    "\n",
    "#cal list for json 3rd list - fixed one for all.\n",
    "cal = ',\"perspectives\":[{\"type\":\"perspective\",\"name\":\"0-50大卡\",\"group\":\"1\"},{\"type\":\"perspective\",\"name\":\"51-100大卡\",\"group\":\"1\"},{\"type\":\"perspective\",\"name\":\"101-150大卡\",\"group\":\"2\"},{\"type\":\"perspective\",\"name\":\"151-200大卡\",\"group\":\"2\"},{\"type\":\"perspective\",\"name\":\"201-250大卡\",\"group\":\"3\"},{\"type\":\"perspective\",\"name\":\"251-300大卡\",\"group\":\"3\"},{\"type\":\"perspective\",\"name\":\"301-350大卡\",\"count\":\"22\",\"group\":\"4\"},{\"type\":\"perspective\",\"name\":\"351-400大卡\",\"group\":\"4\"},{\"type\":\"perspective\",\"name\":\"401-450大卡\",\"group\":\"5\"},{\"type\":\"perspective\",\"name\":\"451-500大卡\",\"group\":\"5\"},{\"type\":\"perspective\",\"name\":\"501-550大卡\",\"group\":\"6\"},{\"type\":\"perspective\",\"name\":\"551-600大卡\",\"group\":\"6\"},{\"type\":\"perspective\",\"name\":\"601-650大卡\",\"group\":\"7\"},{\"type\":\"perspective\",\"name\":\"651-700大卡\",\"group\":\"7\"},{\"type\":\"perspective\",\"name\":\"701-750大卡\",\"group\":\"8\"},{\"type\":\"perspective\",\"name\":\"751-800大卡\",\"group\":\"8\"},{\"type\":\"perspective\",\"name\":\"801-850大卡\",\"group\":\"9\"},{\"type\":\"perspective\",\"name\":\"851-900大卡\",\"group\":\"9\"},{\"type\":\"perspective\",\"name\":\"901-950大卡\",\"group\":\"10\"},{\"type\":\"perspective\",\"name\":\"951大卡以上\",\"group\":\"10\"}]}'\n",
    "\n",
    "#ingre list for json 2nd list\n",
    "IngreName = results.loc[:,['IngreName']].drop_duplicates()\n",
    "IngreName.columns = ['name']\n",
    "IngreName['type'] = ['theme']*len(IngreName)\n",
    "IngreName = IngreName.loc[:,['type','name']]\n",
    "\n",
    "#concate 2 lists\n",
    "theme = IngreName.to_json(path_or_buf=None, orient='records', date_format='epoch', double_precision=10, force_ascii=False, date_unit='ms', default_handler=None)\n",
    "\n",
    "#global formal for 1st json list\n",
    "rcp2 = results.loc[:,['RcpName','RcpNo']].drop_duplicates()\n",
    "rcp2.columns = ['name','slug']\n",
    "rcp2['type']=['ditem']*len(rcp2)\n",
    "rcp2['ditem']=np.arange(len(rcp2))+1 \n",
    "rcp3 = rcp2.reset_index(drop=True)\n",
    "\n",
    "#ingre+cal in each main json recipe list\n",
    "rcpInfo = []\n",
    "rcpInfo2 = []\n",
    "unique = set()\n",
    "df = results.astype(str)\n",
    "separators = pd.DataFrame(', ', df.index, df.columns[:-1])\n",
    "separators[df.columns[-1]] = '\\n'\n",
    "f = (df + separators).sum(axis=1).sum()\n",
    "buf = StringIO.StringIO(f)\n",
    "for line in buf.readlines():\n",
    "    RcpNo = line.strip().split(',')[0]\n",
    "    RcpName = line.strip().split(',')[1]\n",
    "    RcpTotalCalCat = line.strip().split(',')[2]\n",
    "    IngreName = line.strip().split(',')[3]\n",
    "    if RcpNo in unique: \n",
    "        rcpInfo.append(IngreName) \n",
    "    else:\n",
    "        if rcpInfo:#if rcpInfo is not empty\n",
    "            rcpInfo2.append(rcpInfo)\n",
    "            rcpInfo = []\n",
    "        unique.add(RcpNo)\n",
    "        rcpInfo.append(RcpTotalCalCat)\n",
    "        rcpInfo.append(IngreName)\n",
    "rcpInfo2.append(rcpInfo)\n",
    "rcp3['links'] = pd.Series(rcpInfo2)\n",
    "#print rcp3\n",
    "\n",
    "#1st json list\n",
    "ditms = rcp3.to_json(path_or_buf=None, orient='records', date_format='epoch', double_precision=10, force_ascii=False, date_unit='ms', default_handler=None)                                    \n",
    "print ditms\n",
    "WTEjson = '{\"ditems\":'+ditms+',\"themes\":'+ theme + cal\n",
    "\n",
    "metadatajson = open('metadata.json', 'w')\n",
    "metadatajson.write(WTEjson)\n",
    "metadatajson.close()"
   ]
  },
  {
   "cell_type": "code",
   "execution_count": 89,
   "metadata": {
    "collapsed": false
   },
   "outputs": [],
   "source": []
  },
  {
   "cell_type": "code",
   "execution_count": null,
   "metadata": {
    "collapsed": true
   },
   "outputs": [],
   "source": []
  }
 ],
 "metadata": {
  "kernelspec": {
   "display_name": "Python 2",
   "language": "python",
   "name": "python2"
  },
  "language_info": {
   "codemirror_mode": {
    "name": "ipython",
    "version": 2
   },
   "file_extension": ".py",
   "mimetype": "text/x-python",
   "name": "python",
   "nbconvert_exporter": "python",
   "pygments_lexer": "ipython2",
   "version": "2.7.9"
  }
 },
 "nbformat": 4,
 "nbformat_minor": 0
}
