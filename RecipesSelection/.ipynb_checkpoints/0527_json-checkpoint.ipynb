{
 "cells": [
  {
   "cell_type": "code",
   "execution_count": 11,
   "metadata": {
    "collapsed": false
   },
   "outputs": [
    {
     "name": "stdout",
     "output_type": "stream",
     "text": [
      "('Y00300',)\n"
     ]
    }
   ],
   "source": [
    "import re\n",
    "s = 'Y00300'\n",
    "m = re.match('([Y,I]\\d+)',s)\n",
    "print m.groups()"
   ]
  },
  {
   "cell_type": "code",
   "execution_count": 28,
   "metadata": {
    "collapsed": false
   },
   "outputs": [
    {
     "name": "stdout",
     "output_type": "stream",
     "text": [
      "<type 'str'>\n"
     ]
    }
   ],
   "source": [
    "# -*- coding: utf-8 -*-\n",
    "import MySQLdb\n",
    "import pandas as pd\n",
    "import numpy as np\n",
    "import json\n",
    "\n",
    "\n",
    "mydb = MySQLdb.connect(host='10.120.28.17',port = 3306 , user='yb103g4', passwd='iii', db='whattoeat_2',charset='utf8')\n",
    "cursor = mydb.cursor()\n",
    "'''\n",
    "sql_drop_temp = \"DROP TABLE temp;\"\n",
    "cursor.execute(sql_drop_temp)\n",
    "mydb.commit()\n",
    "\n",
    "sql_create_temp = \"CREATE TABLE temp (RcpNo NVARCHAR(10) ,MatchIngreCount INT,MainIngreCount INT,Score FLOAT);\"\n",
    "cursor.execute(sql_create_temp)\n",
    "mydb.commit()\n",
    "\n",
    "\n",
    "like=('AA0001','FB0003','HA0001')\n",
    "dislike= ('BA0001','EA0001')\n",
    "#totalcal= (0,1000)\n",
    "\n",
    "l=[]\n",
    "d=[]\n",
    "for i in like:\n",
    "    l1 = 'IngreNo = '+'\\\"' + i +'\\\"'\n",
    "    l.append(l1)\n",
    "\n",
    "for j in dislike:\n",
    "    d1 = 'IngreNo = '+'\\\"' + j +'\\\"'\n",
    "    d.append(d1)\n",
    "\n",
    "sql_insert_temp = \"Insert into temp(RcpNo,MatchIngreCount,MainIngreCount)\" \\\n",
    "\t\t          \"Select RcpNo, count(*), MainIngreCount From test_rcp_rcpingre_ingre Where \" + ' or '.join(l) + \\\n",
    "                  \" Group by RcpNo Having RcpNo not in \" \\\n",
    "                  \"( select RcpNo from rcpingre where \" + ' or '.join(d) + \")\" + ';'\n",
    "                \n",
    "#+ \" and RcpTotalCal is between \" + str(totalcal[0]) + ' and ' + str(totalcal[1])\n",
    "\n",
    "cursor.execute(sql_insert_temp)\n",
    "mydb.commit()\n",
    "'''\n",
    "#row = cursor.fetchall()\n",
    "topten=[]\n",
    "t=[]\n",
    "\n",
    "sql_toptenrecipes = \"select RcpNo from temp order by Score desc limit 10 ; \"\n",
    "cursor.execute(sql_toptenrecipes)\n",
    "toptenrecipes = cursor.fetchall()\n",
    "#print toptenrecipes\n",
    "for n in toptenrecipes:\n",
    "    topten.append(n[0])\n",
    "\n",
    "for i in topten:\n",
    "    t1 = 'ri.RcpNo = '+'\\\"' + i +'\\\"'\n",
    "    t.append(t1)\n",
    "\n",
    "\n",
    "sql_maininformation = \"select ri.RcpNo,r.RcpName,r.RcpTotalCalCat,i.IngreName \" \\\n",
    "\t\t\t\t\t  \"from rcp as r JOIN rcpingre as ri ON r.RcpNo = ri.RcpNo JOIN ingre as i ON ri.IngreNo = i.IngreNo \" \\\n",
    "  \t\t\t\t\t  \"where \" + ' or '.join(t) +' ;'\n",
    "\n",
    "cursor.execute(sql_maininformation)\n",
    "maininformation = cursor.fetchall()\n",
    "\n",
    "results = pd.read_sql(sql_maininformation,mydb)\n",
    "#print type(results)\n",
    "cal = ',\"perspectives\":[{\"type\":\"perspective\",\"name\":\"0-50大卡\",\"group\":\"1\"},{\"type\":\"perspective\",\"name\":\"51-100大卡\",\"group\":\"1\"},{\"type\":\"perspective\",\"name\":\"101-150大卡\",\"group\":\"2\"},{\"type\":\"perspective\",\"name\":\"151-200大卡\",\"group\":\"2\"},{\"type\":\"perspective\",\"name\":\"201-250大卡\",\"group\":\"3\"},{\"type\":\"perspective\",\"name\":\"251-300大卡\",\"group\":\"3\"},{\"type\":\"perspective\",\"name\":\"301-350大卡\",\"count\":\"22\",\"group\":\"4\"},{\"type\":\"perspective\",\"name\":\"351-400大卡\",\"group\":\"4\"},{\"type\":\"perspective\",\"name\":\"401-450大卡\",\"group\":\"5\"},{\"type\":\"perspective\",\"name\":\"451-500大卡\",\"group\":\"5\"},{\"type\":\"perspective\",\"name\":\"501-550大卡\",\"group\":\"6\"},{\"type\":\"perspective\",\"name\":\"551-600大卡\",\"group\":\"6\"},{\"type\":\"perspective\",\"name\":\"601-650大卡\",\"group\":\"7\"},{\"type\":\"perspective\",\"name\":\"651-700大卡\",\"group\":\"7\"},{\"type\":\"perspective\",\"name\":\"701-750大卡\",\"group\":\"8\"},{\"type\":\"perspective\",\"name\":\"751-800大卡\",\"group\":\"8\"},{\"type\":\"perspective\",\"name\":\"801-850大卡\",\"group\":\"9\"},{\"type\":\"perspective\",\"name\":\"851-900大卡\",\"group\":\"9\"},{\"type\":\"perspective\",\"name\":\"901-950大卡\",\"group\":\"10\"},{\"type\":\"perspective\",\"name\":\"951大卡以上\",\"group\":\"10\"}]}'\n",
    "\n",
    "#ingre list for json 2nd list\n",
    "IngreName = results.loc[:,['IngreName']].drop_duplicates()\n",
    "IngreName.columns = ['name']\n",
    "IngreName['type'] = ['theme']*len(IngreName)\n",
    "IngreName = IngreName.loc[:,['type','name']]\n",
    "\n",
    "#concate 2 lists\n",
    "theme = IngreName.to_json(path_or_buf=None, orient='records', date_format='epoch', double_precision=10, force_ascii=False, date_unit='ms', default_handler=None)\n",
    "#toptenrecipes_list = \n",
    "\n",
    "#global formal for 1st json list\n",
    "rcp2 = results.loc[:,['RcpName','RcpNo']].drop_duplicates()\n",
    "rcp2.columns = ['name','slug']\n",
    "rcp2['type']=['ditem']*len(rcp2)\n",
    "rcp2['ditem']=np.arange(len(rcp2))+1 #add a new col \"ditem\" with numbers as values, number generated by numpy 0,1...\n",
    "rcp3 = rcp2.reset_index(drop=True)\n",
    "\n",
    "\n",
    "#ingre+cal in each main json recipe list\n",
    "rcpInfo = []\n",
    "rcpInfo2 = []\n",
    "unique = set()\n",
    "\n",
    "for line in maininformation:\n",
    "    RcpNo = line[0]\n",
    "    RcpName = line[1]\n",
    "    RcpTotalCalCat = line[2]\n",
    "    IngreName = line[3]\n",
    "    if RcpNo in unique: \n",
    "        rcpInfo.append(IngreName) \n",
    "    else:\n",
    "        if rcpInfo:#if rcpInfo is not empty, the first one is empty\n",
    "            rcpInfo2.append(rcpInfo) #append the complete ingre list for one rcp to recpInfo2\n",
    "            rcpInfo = [] #clean for next recipe\n",
    "        unique.add(RcpNo)\n",
    "        rcpInfo.append(RcpTotalCalCat)\n",
    "        rcpInfo.append(IngreName)\n",
    "rcpInfo2.append(rcpInfo) #append the final recipe    \n",
    "    \n",
    "rcp3['links'] = pd.Series(rcpInfo2) #add a new col to rcp3, with values from rcpInfo2\n",
    "\n",
    "#1st json list\n",
    "ditems = rcp3.to_json(path_or_buf=None, orient='records', date_format='epoch', double_precision=10, force_ascii=False, date_unit='ms', default_handler=None)                                    \n",
    "#print ditems\n",
    "\n",
    "#concat 3 json lists and generate 1 file\n",
    "WTEjson = '{\"ditems\":'+ditems+',\"themes\":'+ theme + cal\n",
    "#metadatajson = open('metadata.json', 'w')\n",
    "#metadatajson.write(WTEjson)\n",
    "#metadatajson.close()\n",
    "\n",
    "print \n",
    "\n",
    "cursor.close()\n",
    "mydb.close()"
   ]
  },
  {
   "cell_type": "code",
   "execution_count": 9,
   "metadata": {
    "collapsed": false
   },
   "outputs": [
    {
     "name": "stdout",
     "output_type": "stream",
     "text": [
      "    RcpNo RcpName RcpTotalCalCat IngreName\n",
      "0  I00375    香煎豆干      200-300大卡        豆干\n",
      "1  I00375    香煎豆干      200-300大卡         蔥\n",
      "2  I00375    香煎豆干      200-300大卡       九層塔\n",
      "3  I00886    蔥爆豆干      200-300大卡        豆干\n",
      "4  I00886    蔥爆豆干      200-300大卡         蔥\n"
     ]
    }
   ],
   "source": [
    "print results.head()"
   ]
  },
  {
   "cell_type": "code",
   "execution_count": null,
   "metadata": {
    "collapsed": true
   },
   "outputs": [],
   "source": []
  }
 ],
 "metadata": {
  "kernelspec": {
   "display_name": "Python 2",
   "language": "python",
   "name": "python2"
  },
  "language_info": {
   "codemirror_mode": {
    "name": "ipython",
    "version": 2
   },
   "file_extension": ".py",
   "mimetype": "text/x-python",
   "name": "python",
   "nbconvert_exporter": "python",
   "pygments_lexer": "ipython2",
   "version": "2.7.9"
  }
 },
 "nbformat": 4,
 "nbformat_minor": 0
}
