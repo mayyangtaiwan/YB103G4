{
 "cells": [
  {
   "cell_type": "code",
   "execution_count": 1,
   "metadata": {
    "collapsed": false
   },
   "outputs": [
    {
     "ename": "SyntaxError",
     "evalue": "invalid syntax (<ipython-input-1-1635c064cea1>, line 130)",
     "output_type": "error",
     "traceback": [
      "\u001b[0;36m  File \u001b[0;32m\"<ipython-input-1-1635c064cea1>\"\u001b[0;36m, line \u001b[0;32m130\u001b[0m\n\u001b[0;31m    Qoo$V3 = as.integer(as.character(Qoo$V3))\u001b[0m\n\u001b[0m       ^\u001b[0m\n\u001b[0;31mSyntaxError\u001b[0m\u001b[0;31m:\u001b[0m invalid syntax\n"
     ]
    }
   ],
   "source": [
    "import re \n",
    "in_file = open('All.txt','r')\n",
    "out_file = open('All-no-dup.txt','w')\n",
    "unique = set()\n",
    "for line in in_file.readlines():\n",
    "    if line in unique: \n",
    "        continue \n",
    "    else:\n",
    "        unique.add(line)\n",
    "        out_file.write(line)\n",
    "in_file.close()\n",
    "out_file.close()\n",
    "\n",
    "in_file = open('All-no-dup.txt','r')\n",
    "out_file = open('All-clean.txt','w')\n",
    "for i in in_file.readlines(): \n",
    "    a = i.split(',')[0]\n",
    "    c = i.rsplit(',',3)[1] \n",
    "    d = i.rsplit(',',3)[2] \n",
    "    e = i.rsplit(',',3)[3] \n",
    "    if '（' in a:\n",
    "        b = a.split('（')[0]\n",
    "        out_file.write((b+','+c+','+d+','+e))\n",
    "    elif '(' in a:\n",
    "        b = a.split('(')[0]\n",
    "        out_file.write((b+','+c+','+d+','+e))\n",
    "    else:\n",
    "        out_file.write(i) \n",
    "        \n",
    "in_file.close()\n",
    "out_file.close()\n",
    "\n",
    "test_file1 = open('tagsAll-Cal.csv','r')\n",
    "dic={}\n",
    "lines_counter = 0\n",
    "for i in test_file1.readlines():\n",
    "    aa = i.split(',')[0].strip()\n",
    "    bb = i.split(',')[1].strip()\n",
    "    dic[bb] = aa            \n",
    "test_file1.close()\n",
    "\n",
    "test_file1 = open('All-clean.txt','r') \n",
    "test_file2 = open('All-clean-tag.txt','w')\n",
    "\n",
    "for i in test_file1.readlines():\n",
    "    a = i.split(',')[0]\n",
    "    if a in dic:\n",
    "        test_file2.write(dic[a] + ',' +i)\n",
    "test_file2.close()\n",
    "test_file1.close()\n",
    "\n",
    "in_file = open('All-clean-tag.txt','r')\n",
    "out_file = open('Calories_table.txt','w')\n",
    "\n",
    "for i in in_file.readlines():\n",
    "    q1 = i.split(',')[0].strip()\n",
    "    q2 = i.split(',')[1].strip()\n",
    "    q3 = i.split(',')[2].strip()\n",
    "    q4 = i.split(',')[3].strip()\n",
    "    q5 = i.split(',')[4].strip()\n",
    "    \n",
    "    Amm = re.match(r'(?P<num>\\d+).*',q4)\n",
    "    Bmm = re.match(r'(?P<num>\\d+).*',q5)\n",
    "    if (Amm is not None) & (Bmm is not None):\n",
    "        qq5 = Bmm.group(\"num\")\n",
    "        qq4 = Amm.group(\"num\") \n",
    "        q5 = float(qq5)/float(qq4) \n",
    "        out_file.write(str(q1) +','+str(q2) +','+ str(qq4) +','+ str(qq5) +','+ str(q5) +','+ str(q3) +'\\n') \n",
    "    else:\n",
    "        out_file.write(str(q1) +','+ str(q2) +','+str(q4) +','+ str(q5) +',,'+ str(q3) +'\\n')\n",
    "in_file.close()\n",
    "out_file.close()\n",
    "\n",
    "in_file = open('Calories_table.txt','r')\n",
    "count = {} \n",
    "for i in in_file.readlines(): \n",
    "    a = i.split(',',4)[0]\n",
    "    if a in count:\n",
    "        count[a] = count[a] + 1 \n",
    "    else:\n",
    "        count[a] = 1 \n",
    "in_file.close()\n",
    "\n",
    "dup=[] \n",
    "for k in count:\n",
    "    if count[k] >1:\n",
    "        dup.append(k)\n",
    "        \n",
    "in_file = open('Calories_table.txt','r')        \n",
    "out_file1 = open('ingre_dups.txt','w')\n",
    "QaaList= []\n",
    "for Qaa in in_file.readlines(): \n",
    "    QaaList.append(Qaa)\n",
    "for g in dup: \n",
    "    for j in QaaList: \n",
    "        if g == j.split(',')[0]: \n",
    "            out_file1.write(j) \n",
    "in_file.close()\n",
    "out_file1.close()\n",
    "\n",
    "\n",
    "in_file = open('Calories_table.txt','r')\n",
    "out_file1 = open('ingre_dups.txt','r')\n",
    "out_file2 = open('ingre_no_dups1.txt','w')\n",
    "QaaList= []\n",
    "QccList= []\n",
    "for Qaa in in_file.readlines(): \n",
    "    QaaList.append(Qaa)\n",
    "for Qcc in out_file1.readlines():\n",
    "    QccList.append(Qcc)\n",
    "\n",
    "no_dups = []    \n",
    "for Qxx in QaaList: \n",
    "    if Qxx not in QccList:\n",
    "        aa = Qxx.split(',')[0]\n",
    "        bb = Qxx.split(',')[4]\n",
    "        no_dups.append([aa,bb])\n",
    "        out_file2.write(aa+','+bb+'\\n')\n",
    "out_file2.close()\n",
    "out_file1.close()\n",
    "in_file.close()\n",
    "\n",
    "#==========================\n",
    "'''\n",
    "library(dplyr)\n",
    "Qoo = read.table(\"ingre_dups.txt\",sep=\",\")\n",
    "Qoo$V3 = as.integer(as.character(Qoo$V3))\n",
    "Qoo$V4 = as.integer(as.character(Qoo$V4))\n",
    "Qxx = \n",
    "  Qoo %>% \n",
    "  group_by(V1) %>% \n",
    "  summarise(PerGramMean = mean(V5, na.rm = T))\n",
    "write.table(Qxx, \"ingre_no_dups2.txt\",sep=\",\",quote = F, row.names = F,col.names = F)\n",
    "Qyy =\n",
    "  select(Qoo, V1, V6) %>% \n",
    "  filter(V6 != '') %>% \n",
    "  distinct(V1,V6)\n",
    "\n",
    "write.table(Qyy, \"ingre_units.txt\",sep=\",\",quote = F, row.names = F,\n",
    "            col.names = F)\n",
    "\n",
    "#==========================\n",
    "\n",
    "Qoo1 = read.csv(\"ingre_no_dups2.txt\",sep=\",\" , header =F)\n",
    "Qoo2 = read.csv(\"ingre_no_dups1.txt\",sep=\",\" , header =F)\n",
    "\n",
    "QQQ = rbind(Qoo1, Qoo2)\n",
    "write.table(QQQ, \"IngreCal.txt\",quote = F, ,sep=\",\", row.names = F)\n",
    "\n",
    "#==========================\n",
    "aa = read.csv(\"tagsAll-Name.csv\",sep=\",\", header =F)\n",
    "bb = read.csv(\"IngreCal.txt\",sep=\",\" ,header =F)\n",
    "head(cc)\n",
    "cc = left_join(aa, bb, by = c('V1'='V1'))\n",
    "write.csv(cc[,c(1,3)], \"IngreCalJoin.csv\",quote = F, row.names = F)  \n",
    "'''"
   ]
  },
  {
   "cell_type": "code",
   "execution_count": null,
   "metadata": {
    "collapsed": false
   },
   "outputs": [],
   "source": []
  },
  {
   "cell_type": "code",
   "execution_count": 8,
   "metadata": {
    "collapsed": false
   },
   "outputs": [],
   "source": []
  },
  {
   "cell_type": "code",
   "execution_count": 13,
   "metadata": {
    "collapsed": false
   },
   "outputs": [],
   "source": []
  },
  {
   "cell_type": "code",
   "execution_count": 16,
   "metadata": {
    "collapsed": false
   },
   "outputs": [],
   "source": []
  },
  {
   "cell_type": "code",
   "execution_count": 17,
   "metadata": {
    "collapsed": false
   },
   "outputs": [],
   "source": []
  },
  {
   "cell_type": "code",
   "execution_count": 18,
   "metadata": {
    "collapsed": true
   },
   "outputs": [],
   "source": []
  },
  {
   "cell_type": "code",
   "execution_count": null,
   "metadata": {
    "collapsed": false
   },
   "outputs": [],
   "source": []
  },
  {
   "cell_type": "code",
   "execution_count": 39,
   "metadata": {
    "collapsed": false
   },
   "outputs": [],
   "source": []
  },
  {
   "cell_type": "code",
   "execution_count": null,
   "metadata": {
    "collapsed": false
   },
   "outputs": [],
   "source": []
  },
  {
   "cell_type": "code",
   "execution_count": null,
   "metadata": {
    "collapsed": false
   },
   "outputs": [],
   "source": []
  },
  {
   "cell_type": "code",
   "execution_count": null,
   "metadata": {
    "collapsed": false
   },
   "outputs": [],
   "source": []
  },
  {
   "cell_type": "code",
   "execution_count": null,
   "metadata": {
    "collapsed": false
   },
   "outputs": [],
   "source": []
  }
 ],
 "metadata": {
  "kernelspec": {
   "display_name": "Python 2",
   "language": "python",
   "name": "python2"
  },
  "language_info": {
   "codemirror_mode": {
    "name": "ipython",
    "version": 2
   },
   "file_extension": ".py",
   "mimetype": "text/x-python",
   "name": "python",
   "nbconvert_exporter": "python",
   "pygments_lexer": "ipython2",
   "version": "2.7.9"
  }
 },
 "nbformat": 4,
 "nbformat_minor": 0
}
