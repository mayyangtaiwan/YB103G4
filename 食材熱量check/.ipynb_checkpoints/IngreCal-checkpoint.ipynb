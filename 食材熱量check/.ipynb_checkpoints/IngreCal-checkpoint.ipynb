{
 "cells": [
  {
   "cell_type": "code",
   "execution_count": 2,
   "metadata": {
    "collapsed": false
   },
   "outputs": [],
   "source": [
    "#skip duplicate 篩檔案完全重複的row\n",
    "#All.txt格式和All-no-dup.txt都是『食材名, 單位, 重量, 大卡』\n",
    "in_file = open('All.txt','r')\n",
    "out_file = open('All-no-dup.txt','w')\n",
    "unique = set()\n",
    "for line in in_file.readlines():\n",
    "    if line in unique: \n",
    "        continue \n",
    "    else:\n",
    "        unique.add(line)\n",
    "        out_file.write(line)\n",
    "in_file.close()\n",
    "out_file.close()\n",
    "\n",
    "#把第每一欄的東東切乾淨\n",
    "in_file = open('All-no-dup.txt','r')\n",
    "out_file = open('All-clean.txt','w')\n",
    "for i in in_file.readlines(): #因為有些第一欄有多的逗號, 所以切四塊, 並精確滴寫回去\n",
    "    a = i.split(',')[0] #食材名\n",
    "    c = i.rsplit(',',3)[1] #單位\n",
    "    d = i.rsplit(',',3)[2] #重量\n",
    "    e = i.rsplit(',',3)[3] #大卡\n",
    "    if '（' in a:\n",
    "        b = a.split('（')[0]\n",
    "        out_file.write((b+','+c+','+d+','+e))\n",
    "    elif '(' in a:\n",
    "        b = a.split('(')[0]\n",
    "        out_file.write((b+','+c+','+d+','+e))\n",
    "    else:\n",
    "        out_file.write(i) \n",
    "        \n",
    "in_file.close()\n",
    "out_file.close()\n"
   ]
  },
  {
   "cell_type": "code",
   "execution_count": 4,
   "metadata": {
    "collapsed": false
   },
   "outputs": [
    {
     "name": "stdout",
     "output_type": "stream",
     "text": [
      "食材tag數量：  10477\n"
     ]
    }
   ],
   "source": [
    "#把食材褲同義詞建成字典格式\n",
    "\n",
    "test_file1 = open('tagsAll-Cat.csv','r')\n",
    "dic={}\n",
    "lines_counter = 0\n",
    "for i in test_file1.readlines():\n",
    "    if test_file1 != '\\n': #算一下file有幾行 = 有多少食材tag\n",
    "        lines_counter += 1\n",
    "    aa = i.split(',')[0].strip()\n",
    "    bb = i.split(',')[1].strip()\n",
    "    dic[bb] = aa\n",
    "            \n",
    "print '食材tag數量： ', lines_counter\n",
    "    \n",
    "test_file1.close()"
   ]
  },
  {
   "cell_type": "code",
   "execution_count": 66,
   "metadata": {
    "collapsed": false
   },
   "outputs": [],
   "source": [
    "##《 Step 8 》\n",
    "#和現有食材字典dic match看看\n",
    "\n",
    "#test_file1 = open('final_joined.txt','r') \n",
    "test_file1 = open('ingre_dups1.txt','r') #no dup version 先測試用 (單位要在append)\n",
    "test_file2 = open('ingre_no_dups.txt','r') #no dups list\n",
    "test_file4 = open('match.txt','w')\n",
    "\n",
    "for i in test_file1.readlines():\n",
    "    a = i.split(',')[0] #食材名\n",
    "    if a in dic:\n",
    "        #print dic[a] + ',' +i\n",
    "        test_file4.write(dic[a] + ',' +i) #print 食材tag名 + 食材熱量細節\n",
    "test_file1.close()\n",
    "\n",
    "\n",
    "for i in test_file2.readlines():\n",
    "    a = i.split(',')[0] #食材名\n",
    "    if a in dic:\n",
    "        #print dic[a] + ',' +i\n",
    "        test_file4.write(dic[a] + ',' +i) #print 食材tag名 + 食材熱量細節\n",
    "test_file4.close()\n",
    "test_file2.close()\n",
    "\n",
    "#出來的match.txt : tag名, 食材名, 重量, 大卡, kal/g, 單位"
   ]
  },
  {
   "cell_type": "code",
   "execution_count": null,
   "metadata": {
    "collapsed": true
   },
   "outputs": [],
   "source": []
  },
  {
   "cell_type": "code",
   "execution_count": null,
   "metadata": {
    "collapsed": true
   },
   "outputs": [],
   "source": []
  },
  {
   "cell_type": "code",
   "execution_count": null,
   "metadata": {
    "collapsed": false
   },
   "outputs": [],
   "source": []
  },
  {
   "cell_type": "code",
   "execution_count": null,
   "metadata": {
    "collapsed": true
   },
   "outputs": [],
   "source": []
  },
  {
   "cell_type": "code",
   "execution_count": null,
   "metadata": {
    "collapsed": false
   },
   "outputs": [],
   "source": []
  },
  {
   "cell_type": "code",
   "execution_count": 39,
   "metadata": {
    "collapsed": false
   },
   "outputs": [],
   "source": []
  },
  {
   "cell_type": "code",
   "execution_count": null,
   "metadata": {
    "collapsed": false
   },
   "outputs": [],
   "source": []
  },
  {
   "cell_type": "code",
   "execution_count": null,
   "metadata": {
    "collapsed": false
   },
   "outputs": [],
   "source": []
  },
  {
   "cell_type": "code",
   "execution_count": null,
   "metadata": {
    "collapsed": false
   },
   "outputs": [],
   "source": []
  },
  {
   "cell_type": "code",
   "execution_count": null,
   "metadata": {
    "collapsed": false
   },
   "outputs": [],
   "source": []
  }
 ],
 "metadata": {
  "kernelspec": {
   "display_name": "Python 2",
   "language": "python",
   "name": "python2"
  },
  "language_info": {
   "codemirror_mode": {
    "name": "ipython",
    "version": 2
   },
   "file_extension": ".py",
   "mimetype": "text/x-python",
   "name": "python",
   "nbconvert_exporter": "python",
   "pygments_lexer": "ipython2",
   "version": "2.7.9"
  }
 },
 "nbformat": 4,
 "nbformat_minor": 0
}
