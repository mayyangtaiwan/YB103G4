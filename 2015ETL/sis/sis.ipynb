{
 "cells": [
  {
   "cell_type": "code",
   "execution_count": 1,
   "metadata": {
    "collapsed": true
   },
   "outputs": [],
   "source": [
    "#菲姐-全部爬出來, 內容很不一致, 但仍建議用此方法爬出,在手工整理 ＃377筆\n",
    "import requests\n",
    "from bs4 import BeautifulSoup\n",
    "page_format = \"http://www.italian-lifestore.com.tw/recipe.php?SearchRecipeVideoCateID=&SearchKey=&SearchType1=&SearchType2=&Page=%d\"\n",
    "\n",
    "recipe_file = open(\"sis_recipe_list.txt\", 'w')\n",
    "for page in range(0,38): \n",
    "    recipe_list = requests.get(page_format%(page)) \n",
    "    recipe_response = recipe_list.text\n",
    "    soup = BeautifulSoup(recipe_response)\n",
    "    recipe_table = soup.select(\".food\")[0]\n",
    "    recipe_rows = recipe_table.select('.clearfix')\n",
    "    for recipe_row in recipe_rows:\n",
    "        links = [tag['href'] for tag in recipe_row.select('a')] \n",
    "        link_href = \"http://www.italian-lifestore.com.tw/\" + links[0] \n",
    "        recipe_file.write(link_href + \"\\n\") \n",
    "recipe_file.close()\n",
    "\n",
    "#把每頁菜單的食材和步驟寫入\n",
    "recipe_file = open(\"sis_recipe_list.txt\", 'r')\n",
    "for line in recipe_file.readlines(): \n",
    "    pagelink = line.strip() \n",
    "    request_get = requests.get(pagelink) \n",
    "    request_get.encoding = 'utf-8'\n",
    "    soup = BeautifulSoup(request_get.text.encode('utf-8')) \n",
    "    try:\n",
    "        sis1_ingredients = open('sis1_ingredients.txt','a')\n",
    "        ingredientsList = [] \n",
    "        ingredients = soup.select(\".recipe-tBox\")[0].text.strip()\n",
    "        a = ''.join(ingredients.split('-'))\n",
    "        b = ','.join(a.split())\n",
    "        ingredientsList.append(b)\n",
    "\n",
    "        for i in ingredientsList:\n",
    "            sis1_ingredients.write((i+',').encode('utf-8')) \n",
    "        sis1_ingredients.write('\\n')    \n",
    "    except:\n",
    "        pass\n",
    "sis1_ingredients.close()\n",
    "recipe_file.close()"
   ]
  },
  {
   "cell_type": "code",
   "execution_count": 15,
   "metadata": {
    "collapsed": false
   },
   "outputs": [],
   "source": [
    "#How to replace “烹飪步驟” with the content in front of first comma? = Title name.\n",
    "#break sentences to two parts by \"烹飪步驟,\"\n",
    "in_file = open('sis1_ingredients.txt','r')\n",
    "out_file_ingredients = open('sis3_title_ingredients.txt','w')\n",
    "out_file_steps = open('sis3_title_steps.txt','w')\n",
    "ingredients = []\n",
    "steps = []\n",
    "for line in in_file.readlines():\n",
    "    ingredient = line.split(\"烹飪步驟,\")[0]\n",
    "    ingredients.append(ingredient)\n",
    "    title = line.split(\",\")[0]\n",
    "    steps.append(title)\n",
    "    step = line.split(\"烹飪步驟,\")[1].strip()\n",
    "    steps.append(step)\n",
    "for i in ingredients:    \n",
    "    out_file_ingredients.write(i+'\\n')\n",
    "for i in steps:\n",
    "    out_file_steps.write(i+',')\n",
    "out_file_steps.write('\\n')\n",
    "out_file_ingredients.close()\n",
    "out_file_steps.close()\n",
    "in_file.close()\n",
    "#在手工整理一下ＸＤ"
   ]
  },
  {
   "cell_type": "code",
   "execution_count": 39,
   "metadata": {
    "collapsed": false
   },
   "outputs": [],
   "source": [
    "#菲姐- 試著二分法, 爬出來資料不完整, 因為網站code不乾淨\n",
    "import requests\n",
    "from bs4 import BeautifulSoup\n",
    "page_format = \"http://www.italian-lifestore.com.tw/recipe.php?SearchRecipeVideoCateID=&SearchKey=&SearchType1=&SearchType2=&Page=%d\"\n",
    "\n",
    "recipe_file = open(\"sis_recipe_list.txt\", 'w')\n",
    "for page in range(0,38): \n",
    "    recipe_list = requests.get(page_format%(page)) \n",
    "    recipe_response = recipe_list.text\n",
    "    soup = BeautifulSoup(recipe_response)\n",
    "    recipe_table = soup.select(\".food\")[0]\n",
    "    recipe_rows = recipe_table.select('.clearfix')\n",
    "    for recipe_row in recipe_rows:\n",
    "        links = [tag['href'] for tag in recipe_row.select('a')] \n",
    "        link_href = \"http://www.italian-lifestore.com.tw/\" + links[0] \n",
    "        recipe_file.write(link_href + \"\\n\") \n",
    "recipe_file.close()\n",
    "\n",
    "#把每頁菜單的食材和步驟寫入\n",
    "recipe_file = open(\"sis_recipe_list.txt\", 'r')\n",
    "for line in recipe_file.readlines(): \n",
    "    pagelink = line.strip() \n",
    "    request_get = requests.get(pagelink) \n",
    "    request_get.encoding = 'utf-8'\n",
    "    soup = BeautifulSoup(request_get.text.encode('utf-8')) \n",
    "    try:\n",
    "        if soup.find(\"ol\") is not None:\n",
    "            sis1_ingredients = open('sis1_ingredients.txt','a')\n",
    "            sis1_steps = open('sis1_steps.txt','a')\n",
    "            ingredientsList = [] \n",
    "            stepsList = []\n",
    "            title = soup.select(\".clearfix h3\")[0].text.strip()\n",
    "            ingredientsList.append(title)\n",
    "            stepsList.append(title)\n",
    "            ingredients = soup.select(\".MsoNormal\")[0].text.strip()\n",
    "            for line in  ingredients.split('\\n'):\n",
    "                a = ''.join(line.split('-'))\n",
    "                b = ','.join(a.split())\n",
    "                ingredientsList.append(b)\n",
    "\n",
    "            steps = soup.select(\"ol\")[0].text.strip()\n",
    "            c = ','.join(steps.split())\n",
    "            stepsList.append(c)        \n",
    "\n",
    "            for i in ingredientsList:\n",
    "                sis1_ingredients.write((i+',').encode('utf-8')) \n",
    "            sis1_ingredients.write('\\n')    \n",
    "            for i in stepsList:\n",
    "                sis1_steps.write((i+',').encode('utf-8')) \n",
    "            sis1_steps.write('\\n')   \n",
    "\n",
    "        else:\n",
    "            sis2_ingredients = open('sis2_ingredients.txt','a')\n",
    "            sis2_steps = open('sis2_steps.txt','a')\n",
    "            ingredientsList = [] \n",
    "            stepsList = []\n",
    "            title = soup.select(\".clearfix h3\")[0].text.strip()\n",
    "            ingredientsList.append(title)\n",
    "            stepsList.append(title)\n",
    "            ingredients = soup.select(\".mb20\")[0].text.strip()\n",
    "            a = ','.join(ingredients.split())\n",
    "            ingredientsList.append(ingredients)\n",
    "            seasioning = soup.select(\".mb20\")[1].text.strip()\n",
    "            b = ','.join(seasioning.split())\n",
    "            ingredientsList.append(b)\n",
    "\n",
    "            steps = soup.select(\".mb20\")[2].text.strip()\n",
    "            c = ','.join(steps.split())\n",
    "            stepsList.append(c)        \n",
    "\n",
    "            for i in ingredientsList:\n",
    "                sis2_ingredients.write((i+',').encode('utf-8')) \n",
    "            sis2_ingredients.write('\\n')    \n",
    "            for i in stepsList:\n",
    "                sis2_steps.write((i+',').encode('utf-8')) \n",
    "            sis2_steps.write('\\n')   \n",
    "    except:\n",
    "        pass\n",
    "sis1_steps.close()\n",
    "sis1_ingredients.close()\n",
    "sis2_steps.close()\n",
    "sis2_ingredients.close()\n",
    "recipe_file.close()\n"
   ]
  },
  {
   "cell_type": "code",
   "execution_count": 47,
   "metadata": {
    "collapsed": false
   },
   "outputs": [],
   "source": []
  },
  {
   "cell_type": "code",
   "execution_count": null,
   "metadata": {
    "collapsed": false,
    "scrolled": true
   },
   "outputs": [],
   "source": []
  },
  {
   "cell_type": "code",
   "execution_count": null,
   "metadata": {
    "collapsed": false
   },
   "outputs": [],
   "source": []
  },
  {
   "cell_type": "code",
   "execution_count": null,
   "metadata": {
    "collapsed": false
   },
   "outputs": [],
   "source": []
  },
  {
   "cell_type": "code",
   "execution_count": 64,
   "metadata": {
    "collapsed": true
   },
   "outputs": [],
   "source": [
    "\n"
   ]
  },
  {
   "cell_type": "code",
   "execution_count": null,
   "metadata": {
    "collapsed": true
   },
   "outputs": [],
   "source": []
  }
 ],
 "metadata": {
  "kernelspec": {
   "display_name": "Python 2",
   "language": "python",
   "name": "python2"
  },
  "language_info": {
   "codemirror_mode": {
    "name": "ipython",
    "version": 2
   },
   "file_extension": ".py",
   "mimetype": "text/x-python",
   "name": "python",
   "nbconvert_exporter": "python",
   "pygments_lexer": "ipython2",
   "version": "2.7.9"
  }
 },
 "nbformat": 4,
 "nbformat_minor": 0
}
