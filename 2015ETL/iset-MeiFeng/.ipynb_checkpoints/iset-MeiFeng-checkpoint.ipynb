{
 "cells": [
  {
   "cell_type": "code",
   "execution_count": null,
   "metadata": {
    "collapsed": false
   },
   "outputs": [],
   "source": [
    "import requests\n",
    "from bs4 import BeautifulSoup\n",
    "import re\n",
    "import string\n",
    "page_format = \"http://blog.iset.com.tw/delicious/?p=%d\"\n",
    "recipe_file = open(\"iset_recipe_list.txt\", 'w')\n",
    "for page in range(1,15000): \n",
    "    recipe_list = page_format%(page) \n",
    "    recipe_file.write(recipe_list + \"\\n\")    \n",
    "recipe_file.close()\n",
    "\n",
    "#把每頁菜單的食材和步驟寫入iset_ingredients_steps.txt\n",
    "recipe_file = open(\"iset_recipe_list.txt\", 'r')\n",
    "iset_ingredients_steps = open('iset_ingredients_steps.txt','w')\n",
    "for line in recipe_file.readlines(): \n",
    "    pagelink = line.strip() \n",
    "    request_get = requests.get(pagelink)\n",
    "    request_get.encoding = 'utf-8'\n",
    "    response = request_get.text\n",
    "    soup = BeautifulSoup(response) \n",
    "    try:\n",
    "        if \"Not Found\" in str(soup.select(\"#inwrapper .title\")[0]):\n",
    "            pass\n",
    "\n",
    "        else:\n",
    "            ingredientsList = []\n",
    "            ingredients = soup.select(\"#inwrapper div\")[1].text.encode('utf-8').strip()\n",
    "            if 'var addthis_pub' in ingredients:\n",
    "                a = ingredients.split('var addthis_pub')[0]\n",
    "                b = ','.join(a.split())\n",
    "                ingredientsList.append(b)\n",
    "            \n",
    "            else:\n",
    "                ingredientsList.append(ingredients)\n",
    "                \n",
    "            for i in ingredientsList:\n",
    "                iset_ingredients_steps.write(i+',')\n",
    "            iset_ingredients_steps.write('\\n')     \n",
    "        \n",
    "    except:\n",
    "        pass\n",
    "iset_ingredients_steps.close()\n",
    "recipe_file.close()\n"
   ]
  },
  {
   "cell_type": "code",
   "execution_count": null,
   "metadata": {
    "collapsed": false
   },
   "outputs": [],
   "source": []
  },
  {
   "cell_type": "code",
   "execution_count": null,
   "metadata": {
    "collapsed": false
   },
   "outputs": [],
   "source": [
    "#single page\n",
    "import requests\n",
    "from bs4 import BeautifulSoup\n",
    "import re\n",
    "request_get = requests.get('http://blog.iset.com.tw/delicious/?p=14695') \n",
    "response = request_get.text.encode('utf-8')\n",
    "soup = BeautifulSoup(response)\n",
    "\n",
    "title = soup.select(\"#inwrapper\")[0].select('h3')[0].select('img')[0]['title']\n",
    "print title\n",
    "\n",
    "ingredients = soup.select(\"#inwrapper\")[0].select('h3')[3].text.encode('utf-8').strip()\n",
    "print ingredients\n",
    "\n",
    "seasoning = soup.select(\"#inwrapper\")[0].select('h3')[4].text.encode('utf-8').strip()\n",
    "print seasoning\n",
    "\n",
    "stepsTitle = soup.select(\"#inwrapper\")[0].select('h3')[2].select('img')[0]['title']\n",
    "print stepsTitle\n",
    "steps = soup.select(\"#inwrapper\")[0].select('h3')[5].text.encode('utf-8').strip()\n",
    "print steps\n"
   ]
  },
  {
   "cell_type": "code",
   "execution_count": 110,
   "metadata": {
    "collapsed": false
   },
   "outputs": [
    {
     "name": "stdout",
     "output_type": "stream",
     "text": [
      "2010.02.26,炒菜愛注意-咖哩炒麵,古錐師要教大家炒出醬香十足的咖哩炒麵，不僅香氣誘人，,吸滿的湯汁的麵條，更是好吃的讓人停不下來唷!,所需材料：,花枝身200g、油麵600g、蛤蜊10個、洋蔥1/2顆、蒜末20g、辣椒片2條、小白菜段30g,調味料：,印度咖哩粉2大匙、水200cc、醬油2大匙、糖1茶匙、米酒2大匙、鹽1茶匙,做法：,1.花枝切成長條狀；蛤蜊用鹽水泡到展開吐沙，再用手快速攪動至蛤蜊合起；洋蔥切成絲狀備用。,2.起鍋入油，下洋蔥絲炒至金黃色，下蒜末炒香，下辣椒片拌炒，關火下咖哩粉炒香後，加入水開火煮滾，下糖、醬油、米酒煮滾。,3.承上，下油麵、蛤蜊、花枝條、鹽巴加鍋蓋煮2分鐘，最後下小白菜段拌炒均勻即可。\n"
     ]
    }
   ],
   "source": [
    "#single page\n",
    "import requests\n",
    "from bs4 import BeautifulSoup\n",
    "import string\n",
    "request_get = requests.get('http://blog.iset.com.tw/delicious/?p=1137') \n",
    "request_get.encoding = 'utf-8'\n",
    "response = request_get.text.encode('utf-8')\n",
    "soup = BeautifulSoup(response)\n",
    "\n",
    "if \"Not Found\" in str(soup.select(\"#inwrapper .title\")[0]):\n",
    "    print \"Not Found\"\n",
    "\n",
    "else:\n",
    "    ingredientsList = []\n",
    "    ingredients = soup.select(\"#inwrapper div\")[1].text.encode('utf-8').strip()\n",
    "    if 'var addthis_pub' in ingredients:\n",
    "        a = ingredients.split('var addthis_pub')[0]\n",
    "        b = ','.join(a.split())\n",
    "        ingredientsList.append(b)\n",
    "        print b \n",
    "    else:\n",
    "        ingredientsList.append(ingredients)\n",
    "        print ingredients\n",
    "\n",
    "    for i in ingredientsList:\n",
    "        iset_ingredients_steps.write(i+',')\n",
    "    iset_ingredients_steps.write('\\n')\n"
   ]
  },
  {
   "cell_type": "code",
   "execution_count": null,
   "metadata": {
    "collapsed": true
   },
   "outputs": [],
   "source": []
  }
 ],
 "metadata": {
  "kernelspec": {
   "display_name": "Python 2",
   "language": "python",
   "name": "python2"
  },
  "language_info": {
   "codemirror_mode": {
    "name": "ipython",
    "version": 2
   },
   "file_extension": ".py",
   "mimetype": "text/x-python",
   "name": "python",
   "nbconvert_exporter": "python",
   "pygments_lexer": "ipython2",
   "version": "2.7.9"
  }
 },
 "nbformat": 4,
 "nbformat_minor": 0
}
