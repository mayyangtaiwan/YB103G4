{
 "cells": [
  {
   "cell_type": "code",
   "execution_count": 2,
   "metadata": {
    "collapsed": false
   },
   "outputs": [],
   "source": [
    "import requests\n",
    "from bs4 import BeautifulSoup\n",
    "import math\n",
    "import urlparse\n",
    "\n",
    "payload = { 'method':'search', 'searchMethod':'true', 'searchTarget':'ATM',\n",
    " 'orgName':'', 'orgId':'', 'hid_1':'1',\n",
    " 'tenderName':'', 'tenderId':'', 'tenderStatus':'4,5,21,29',\n",
    " 'tenderWay':'', 'awardAnnounceStartDate':'103/04/29',\n",
    " 'awardAnnounceEndDate':'103/04/29', 'radProctrgCate':'3', \n",
    " 'proctrgCate':'3', 'tenderRange':'', 'minBudget':'',\n",
    " 'maxBudget':'', 'item':'','hid_2':'1',\n",
    " 'gottenVendorName':'', 'gottenVendorId':'', 'hid_3':'1',\n",
    " 'submitVendorName':'', 'submitVendorId':'', 'location':'',\n",
    " 'priorityCate':'', 'isReConstruct':'', 'btnQuery':'查詢' }\n",
    "\n",
    "r = requests.session()\n",
    "res = r.post('http://web.pcc.gov.tw/tps/pss/tender.do?searchMode=common&searchType=advance', data=payload)\n",
    "response_text = res.text.encode('utf8')\n",
    "soup = BeautifulSoup(response_text)\n",
    "page_number  = int(math.ceil(float(soup.select('.T11b')[0].text) / 100)) \n",
    "\n",
    "bid_file = open(\"bid_list.txt\", 'w')\n",
    "page_format = \"http://web.pcc.gov.tw/tps/pss/tender.do?searchMode=common&searchType=advance&searchTarget=ATM&method=search&isSpdt=&pageIndex=%d\" \n",
    "for page in range(1, page_number + 1): \n",
    "    bid_list = r.get(page_format%(page)) \n",
    "    bid_response = bid_list.text.encode('utf8')\n",
    "    soup = BeautifulSoup(bid_response)\n",
    "    bid_table = soup.select(\"#print_area\")[0]\n",
    "    bid_rows = bid_table.select('tr')[1:-1] \n",
    "    for bid_row in bid_rows:\n",
    "        #links = [tag['href'] for tag in bid_row.select('a')] \n",
    "        #print links[0] \n",
    "        #print \"http://web.pcc.gov.tw/tps\" + links[0][2:]    \n",
    "        link = [tag['href'] for tag in bid_row.select('a')][0]    \n",
    "        link_href = urlparse.urljoin(\"http://web.pcc.gov.tw/tps/pss/tender.do?searchMode=common&searchType=advance\", link)   \n",
    "        bid_file.write(link_href + \"\\n\") \n",
    "bid_file.close()"
   ]
  },
  {
   "cell_type": "code",
   "execution_count": 4,
   "metadata": {
    "collapsed": false
   },
   "outputs": [],
   "source": [
    "# -*- coding: utf-8 -*- \n",
    "from bs4 import BeautifulSoup \n",
    "import re, requests \n",
    "\n",
    "bid_list = open('bid_list.txt', 'r') \n",
    "for line in bid_list.readlines(): \n",
    "    pagelink = line.strip() \n",
    "    m = re.match(r\"([^ ]+)pkAtmMain=(?P<pkAtmMain>.+)&tenderCaseNo=(?P<tenderCaseNo>.+)\", pagelink) \n",
    "    filename = \"%s_%s\"%(m.group('pkAtmMain'), m.group('tenderCaseNo')) \n",
    "    \n",
    "    request_get = requests.get(pagelink) \n",
    "    response = request_get.text.encode('utf8') \n",
    "    soup = BeautifulSoup(response) \n",
    "    printarea = soup.select('#printArea')[0] \n",
    "    bid_detail = open(\"gov/%s.txt\"%(filename), 'w') \n",
    "    bid_detail.write(printarea.prettify(\"utf-8\")) \n",
    "    bid_detail.close() \n",
    "bid_list.close()"
   ]
  },
  {
   "cell_type": "code",
   "execution_count": null,
   "metadata": {
    "collapsed": true
   },
   "outputs": [],
   "source": []
  }
 ],
 "metadata": {
  "kernelspec": {
   "display_name": "Python 2",
   "language": "python",
   "name": "python2"
  },
  "language_info": {
   "codemirror_mode": {
    "name": "ipython",
    "version": 2
   },
   "file_extension": ".py",
   "mimetype": "text/x-python",
   "name": "python",
   "nbconvert_exporter": "python",
   "pygments_lexer": "ipython2",
   "version": "2.7.9"
  }
 },
 "nbformat": 4,
 "nbformat_minor": 0
}
