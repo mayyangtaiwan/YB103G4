{
 "cells": [
  {
   "cell_type": "code",
   "execution_count": 1,
   "metadata": {
    "collapsed": false
   },
   "outputs": [
    {
     "data": {
      "text/plain": [
       "(set(), {1, 2}, {1, 2}, {1, 2}, {0, 1, 2, 3}, {1, 2, 3, 4})"
      ]
     },
     "execution_count": 1,
     "metadata": {},
     "output_type": "execute_result"
    }
   ],
   "source": [
    "set(), set([1, 2]), set([2, 1]),\\\n",
    "set((2, 1)), set(range(0,5)) - set(range(4,10)),\\\n",
    "set([1, 2]) | set([3, 4])"
   ]
  },
  {
   "cell_type": "code",
   "execution_count": 6,
   "metadata": {
    "collapsed": false
   },
   "outputs": [
    {
     "name": "stdout",
     "output_type": "stream",
     "text": [
      "x [1]\n",
      "args ()\n"
     ]
    },
    {
     "data": {
      "text/plain": [
       "{1}"
      ]
     },
     "execution_count": 6,
     "metadata": {},
     "output_type": "execute_result"
    }
   ],
   "source": [
    "def myunion(x, *args):\n",
    "    print \"x\", x\n",
    "    print \"args\", args\n",
    "    u = set(x)\n",
    "    for y in args:\n",
    "        print \"y\", y\n",
    "        u = u.union(set(y))\n",
    "    return u\n",
    "\n",
    "myunion([1])\n"
   ]
  },
  {
   "cell_type": "code",
   "execution_count": 7,
   "metadata": {
    "collapsed": false
   },
   "outputs": [
    {
     "name": "stdout",
     "output_type": "stream",
     "text": [
      "x [1]\n",
      "args ([1, 2, 4], [3, 4])\n",
      "y [1, 2, 4]\n",
      "y [3, 4]\n"
     ]
    },
    {
     "data": {
      "text/plain": [
       "{1, 2, 3, 4}"
      ]
     },
     "execution_count": 7,
     "metadata": {},
     "output_type": "execute_result"
    }
   ],
   "source": [
    "myunion([1], [1, 2, 4], [3, 4])"
   ]
  },
  {
   "cell_type": "code",
   "execution_count": 8,
   "metadata": {
    "collapsed": false
   },
   "outputs": [
    {
     "name": "stdout",
     "output_type": "stream",
     "text": [
      "x [1]\n",
      "args ([1, 2, 4], [3, 4], [4, 5])\n",
      "y [1, 2, 4]\n",
      "y [3, 4]\n",
      "y [4, 5]\n"
     ]
    },
    {
     "data": {
      "text/plain": [
       "{1, 2, 3, 4, 5}"
      ]
     },
     "execution_count": 8,
     "metadata": {},
     "output_type": "execute_result"
    }
   ],
   "source": [
    "myunion([1], [1, 2, 4], [3, 4], [4, 5])"
   ]
  },
  {
   "cell_type": "code",
   "execution_count": 11,
   "metadata": {
    "collapsed": false
   },
   "outputs": [
    {
     "name": "stdout",
     "output_type": "stream",
     "text": [
      "x ['the']\n",
      "kwargs {'stop': True, 'halt': False}\n",
      "key stop\n",
      "union set(['the', 'stop'])\n",
      "key halt\n",
      "set(['the', 'stop'])\n"
     ]
    }
   ],
   "source": [
    "#unknown named arguments\n",
    "def my_key_union(x, **kwargs):\n",
    "    print \"x\", x\n",
    "    print \"kwargs\", kwargs\n",
    "    union = set(x)\n",
    "    for key, value in kwargs.items():\n",
    "        print \"key\", key\n",
    "        if value:\n",
    "            union.add(key)\n",
    "            print \"union\", union\n",
    "    return union\n",
    "\n",
    "print my_key_union(['the'], stop=True, halt=False)\n"
   ]
  },
  {
   "cell_type": "code",
   "execution_count": 12,
   "metadata": {
    "collapsed": false
   },
   "outputs": [
    {
     "name": "stdout",
     "output_type": "stream",
     "text": [
      "The result is 0.000000\n"
     ]
    }
   ],
   "source": [
    "import math, sys # Importing modules.\n",
    "\n",
    "def formatresult(res): # Define function. Remember \":\"\n",
    "    \"\"\"This is the documentation for a function.\"\"\"\n",
    "    return \"The result is %f\" % res # Percentage for formating\n",
    "\n",
    "if len(sys.argv) < 3: # Conditionals should be indended\n",
    "    print(\"Too few input argument\")\n",
    "elif len(sys.argv) > 10: # Not 'elsif' or 'elseif'\n",
    "    print(\"Too many input argument\")\n",
    "else:\n",
    "    res = 0\n",
    "    for n in range(1, len(sys.argv)): \n",
    "        try: res += float(sys.argv[n]) \n",
    "        except: pass # One-liner\n",
    "    print(formatresult(res))"
   ]
  },
  {
   "cell_type": "code",
   "execution_count": 15,
   "metadata": {
    "collapsed": false
   },
   "outputs": [
    {
     "data": {
      "text/plain": [
       "5"
      ]
     },
     "execution_count": 15,
     "metadata": {},
     "output_type": "execute_result"
    }
   ],
   "source": [
    "import sys\n",
    "sys.argv\n",
    "len(sys.argv)"
   ]
  },
  {
   "cell_type": "code",
   "execution_count": 18,
   "metadata": {
    "collapsed": false
   },
   "outputs": [
    {
     "name": "stdout",
     "output_type": "stream",
     "text": [
      "4.0\n"
     ]
    }
   ],
   "source": [
    "import math\n",
    "dir(math)\n",
    "a = math.ceil(3.6)\n",
    "print a "
   ]
  },
  {
   "cell_type": "code",
   "execution_count": 19,
   "metadata": {
    "collapsed": false
   },
   "outputs": [
    {
     "name": "stdout",
     "output_type": "stream",
     "text": [
      "<html><body>adfdafdfd</body></html>\n"
     ]
    }
   ],
   "source": [
    "a = \"\"\"\n",
    "<html>\n",
    "\\n\n",
    "\\n\n",
    "<body>\n",
    "adfdafdfd\n",
    "</body>\n",
    "</html>\n",
    "\"\"\"\n",
    "print ''.join(a.split())"
   ]
  },
  {
   "cell_type": "code",
   "execution_count": 2,
   "metadata": {
    "collapsed": false
   },
   "outputs": [],
   "source": [
    "def add_contact(name):\n",
    "    contact_list.append(name)\n",
    "    print \"You have %d contacts\" % (len(contact_list))\n",
    "\n",
    "def get_contact():\t\n",
    "    print \"Your Contacts: %s\"%(contact_list)\n"
   ]
  },
  {
   "cell_type": "code",
   "execution_count": null,
   "metadata": {
    "collapsed": false
   },
   "outputs": [
    {
     "name": "stdout",
     "output_type": "stream",
     "text": [
      "Add Contact: \"A\"\n"
     ]
    }
   ],
   "source": [
    "\n",
    "contact_list = [] #create a list() []\n",
    "def main():    \n",
    "    while True:\n",
    "        contact = input(\"Add Contact: \")\n",
    "        if contact == 'Done':\n",
    "   \t     break\n",
    "        else:\n",
    "   \t     add_contact(contact)\n",
    "    get_contact()\n",
    "\n",
    "if __name__ == \"__main__\":\n",
    "    main() \n",
    "main() #別人呼叫時call this\n"
   ]
  },
  {
   "cell_type": "code",
   "execution_count": 28,
   "metadata": {
    "collapsed": false
   },
   "outputs": [
    {
     "name": "stdout",
     "output_type": "stream",
     "text": [
      "aaa\n"
     ]
    }
   ],
   "source": [
    "dic = {\"a\": \"aaa\"}\n",
    "print dic[\"a\"]"
   ]
  },
  {
   "cell_type": "code",
   "execution_count": 29,
   "metadata": {
    "collapsed": false
   },
   "outputs": [
    {
     "name": "stdout",
     "output_type": "stream",
     "text": [
      "{'a': 'aaa', 'b': 'bbb'}\n"
     ]
    }
   ],
   "source": [
    "dic[\"b\"] = \"bbb\"\n",
    "print dic"
   ]
  },
  {
   "cell_type": "code",
   "execution_count": null,
   "metadata": {
    "collapsed": true
   },
   "outputs": [],
   "source": [
    "def fun(x):\n",
    "    return 3*x + 5\n",
    "dic = {}\n",
    "for i in range(1, 100):\n",
    "    dic[i] = fin (i)\n",
    "print dic"
   ]
  },
  {
   "cell_type": "code",
   "execution_count": 2,
   "metadata": {
    "collapsed": false
   },
   "outputs": [
    {
     "ename": "TypeError",
     "evalue": "'set' object does not support indexing",
     "output_type": "error",
     "traceback": [
      "\u001b[0;31m---------------------------------------------------------------------------\u001b[0m",
      "\u001b[0;31mTypeError\u001b[0m                                 Traceback (most recent call last)",
      "\u001b[0;32m<ipython-input-2-43704d01edbd>\u001b[0m in \u001b[0;36m<module>\u001b[0;34m()\u001b[0m\n\u001b[0;32m----> 1\u001b[0;31m \u001b[0;32mprint\u001b[0m \u001b[0mdic\u001b[0m\u001b[0;34m[\u001b[0m\u001b[0;36m68\u001b[0m\u001b[0;34m]\u001b[0m\u001b[0;34m\u001b[0m\u001b[0m\n\u001b[0m",
      "\u001b[0;31mTypeError\u001b[0m: 'set' object does not support indexing"
     ]
    }
   ],
   "source": [
    "print dic[68]"
   ]
  },
  {
   "cell_type": "code",
   "execution_count": 19,
   "metadata": {
    "collapsed": false
   },
   "outputs": [
    {
     "name": "stdout",
     "output_type": "stream",
     "text": [
      "1\n",
      "0\n",
      "2\n"
     ]
    }
   ],
   "source": [
    "def func(x):\n",
    "    if x == 'a':\n",
    "        return 1\n",
    "    elif x == 'b':\n",
    "        return 2\n",
    "    else:\n",
    "        return 0\n",
    "print func('a') \n",
    "print func('B') \n",
    "print func('b') "
   ]
  },
  {
   "cell_type": "code",
   "execution_count": 3,
   "metadata": {
    "collapsed": false
   },
   "outputs": [
    {
     "name": "stdout",
     "output_type": "stream",
     "text": [
      "1\n"
     ]
    }
   ],
   "source": [
    "def func(x):\n",
    "    return {\n",
    "        'a': 1,\n",
    "        'b': 2,\n",
    "        }.get(x, 0) \n",
    "print func('a')"
   ]
  },
  {
   "cell_type": "code",
   "execution_count": 24,
   "metadata": {
    "collapsed": false
   },
   "outputs": [
    {
     "name": "stdout",
     "output_type": "stream",
     "text": [
      "1\n",
      "2\n",
      "None\n"
     ]
    }
   ],
   "source": [
    "qoo = {'a' : 1, 'b' : 2 }\n",
    "print qoo['a']\n",
    "print qoo['b']\n",
    "print qoo.get('c')"
   ]
  },
  {
   "cell_type": "code",
   "execution_count": 30,
   "metadata": {
    "collapsed": false
   },
   "outputs": [
    {
     "name": "stdout",
     "output_type": "stream",
     "text": [
      "{1: 8, 2: 11, 3: 14, 4: 17, 5: 20, 6: 23, 7: 26, 8: 29, 9: 32, 10: 35, 11: 38, 12: 41, 13: 44, 14: 47, 15: 50, 16: 53, 17: 56, 18: 59, 19: 62, 20: 65, 21: 68, 22: 71, 23: 74, 24: 77, 25: 80, 26: 83, 27: 86, 28: 89, 29: 92, 30: 95, 31: 98, 32: 101, 33: 104, 34: 107, 35: 110, 36: 113, 37: 116, 38: 119, 39: 122, 40: 125, 41: 128, 42: 131, 43: 134, 44: 137, 45: 140, 46: 143, 47: 146, 48: 149, 49: 152, 50: 155, 51: 158, 52: 161, 53: 164, 54: 167, 55: 170, 56: 173, 57: 176, 58: 179, 59: 182, 60: 185, 61: 188, 62: 191, 63: 194, 64: 197, 65: 200, 66: 203, 67: 206, 68: 209, 69: 212, 70: 215, 71: 218, 72: 221, 73: 224, 74: 227, 75: 230, 76: 233, 77: 236, 78: 239, 79: 242, 80: 245, 81: 248, 82: 251, 83: 254, 84: 257, 85: 260, 86: 263, 87: 266, 88: 269, 89: 272, 90: 275, 91: 278, 92: 281, 93: 284, 94: 287, 95: 290, 96: 293, 97: 296, 98: 299, 99: 302}\n"
     ]
    }
   ],
   "source": [
    "def fun(x):\n",
    "    return 3*x + 5\n",
    "dic ={}\n",
    "for i in range(1,100):\n",
    "    dic[i] = fun(i)\n",
    "print dic"
   ]
  },
  {
   "cell_type": "code",
   "execution_count": 33,
   "metadata": {
    "collapsed": false
   },
   "outputs": [
    {
     "name": "stdout",
     "output_type": "stream",
     "text": [
      "1 2\n",
      "2 1\n"
     ]
    }
   ],
   "source": [
    "a, b = 1,2\n",
    "print a,b\n",
    "a, b = b,a\n",
    "print a,b\n"
   ]
  },
  {
   "cell_type": "code",
   "execution_count": 34,
   "metadata": {
    "collapsed": false
   },
   "outputs": [
    {
     "name": "stdout",
     "output_type": "stream",
     "text": [
      "{}\n"
     ]
    }
   ],
   "source": [
    "a = {'a':1}\n",
    "del a['a']\n",
    "print a\n",
    "\n"
   ]
  },
  {
   "cell_type": "code",
   "execution_count": 35,
   "metadata": {
    "collapsed": false
   },
   "outputs": [
    {
     "ename": "SyntaxError",
     "evalue": "invalid syntax (<ipython-input-35-5b3020e3a34f>, line 5)",
     "output_type": "error",
     "traceback": [
      "\u001b[0;36m  File \u001b[0;32m\"<ipython-input-35-5b3020e3a34f>\"\u001b[0;36m, line \u001b[0;32m5\u001b[0m\n\u001b[0;31m    print *x\u001b[0m\n\u001b[0m          ^\u001b[0m\n\u001b[0;31mSyntaxError\u001b[0m\u001b[0;31m:\u001b[0m invalid syntax\n"
     ]
    }
   ],
   "source": [
    "\n",
    "def func():\n",
    "    return 1,2,3\n",
    "x = func()\n",
    "print *x"
   ]
  },
  {
   "cell_type": "code",
   "execution_count": 42,
   "metadata": {
    "collapsed": false
   },
   "outputs": [
    {
     "name": "stdout",
     "output_type": "stream",
     "text": [
      "1\n",
      "2 1\n"
     ]
    }
   ],
   "source": [
    "a, b = 1,2\n",
    "tmp = a\n",
    "print tmp\n",
    "a = b \n",
    "b = tmp\n",
    "print a,b"
   ]
  },
  {
   "cell_type": "code",
   "execution_count": 43,
   "metadata": {
    "collapsed": false
   },
   "outputs": [
    {
     "name": "stdout",
     "output_type": "stream",
     "text": [
      "0 a\n",
      "1 b\n",
      "2 c\n"
     ]
    }
   ],
   "source": [
    "li = list('abc')\n",
    "cnt = 0\n",
    "for item in li:\n",
    "    print cnt, item\n",
    "    cnt +=1\n",
    " "
   ]
  },
  {
   "cell_type": "code",
   "execution_count": 44,
   "metadata": {
    "collapsed": false
   },
   "outputs": [
    {
     "name": "stdout",
     "output_type": "stream",
     "text": [
      "0 a\n",
      "1 b\n",
      "2 c\n"
     ]
    }
   ],
   "source": [
    "li = list('abc')\n",
    "for idx, item in enumerate(li):\n",
    "    print idx, item"
   ]
  },
  {
   "cell_type": "code",
   "execution_count": 46,
   "metadata": {
    "collapsed": false
   },
   "outputs": [
    {
     "name": "stdout",
     "output_type": "stream",
     "text": [
      "0 a\n",
      "1 b\n",
      "2 c\n"
     ]
    }
   ],
   "source": [
    "li = list('abc')\n",
    "for item in enumerate(li):\n",
    "    print \"{} {}\".format(*item)"
   ]
  },
  {
   "cell_type": "code",
   "execution_count": 48,
   "metadata": {
    "collapsed": false
   },
   "outputs": [
    {
     "data": {
      "text/plain": [
       "1"
      ]
     },
     "execution_count": 48,
     "metadata": {},
     "output_type": "execute_result"
    }
   ],
   "source": [
    "def func():\n",
    "    return 1,2,3\n",
    "x, y, z = 1,2,3\n",
    "x"
   ]
  },
  {
   "cell_type": "code",
   "execution_count": 51,
   "metadata": {
    "collapsed": false
   },
   "outputs": [
    {
     "name": "stdout",
     "output_type": "stream",
     "text": [
      "David\n",
      "Taipei\n",
      "anonymous\n",
      "Chiayi\n"
     ]
    }
   ],
   "source": [
    "class Person():\n",
    "    count = 0 \n",
    "    def __init__(self, **kwargs):\n",
    "        self.name = kwargs.get('name', 'anonymous')\n",
    "        self.city = kwargs.get('city', 'Taipei')\n",
    "        Person.count += 1\n",
    "    def number_of_persons(self):\n",
    "        return Person.count\n",
    "\n",
    "first = Person(name='David')\n",
    "print first.name # David\n",
    "print first.city # Taipei\n",
    "\n",
    "second = Person(city='Chiayi')\n",
    "print second.name # David\n",
    "print second.city # Taipei\n"
   ]
  },
  {
   "cell_type": "code",
   "execution_count": 28,
   "metadata": {
    "collapsed": false
   },
   "outputs": [
    {
     "name": "stdout",
     "output_type": "stream",
     "text": [
      "constructor\n",
      "5\n"
     ]
    }
   ],
   "source": [
    "class MyInteger():\n",
    "    def __init__(self, integer):\n",
    "        print \"constructor\"\n",
    "        self.integer = integer\n",
    "    def __add__(self, integer): # Overloaded '+' operator\n",
    "        if self.integer == 2 and integer == 2:\n",
    "            return 5\n",
    "        else:\n",
    "            return self.integer + integer\n",
    "\n",
    "a = MyInteger(2)\n",
    "print a+2"
   ]
  },
  {
   "cell_type": "code",
   "execution_count": 37,
   "metadata": {
    "collapsed": false
   },
   "outputs": [
    {
     "name": "stdout",
     "output_type": "stream",
     "text": [
      "True\n",
      "False\n",
      "yellow\n",
      "rent_bike is yellow\n"
     ]
    }
   ],
   "source": [
    "#Derived Classes\n",
    "class Vehicle():\n",
    "    def my_own(self): \n",
    "        return True\n",
    "    \n",
    "class Bicycle(Vehicle):\n",
    "    def __init__(self, color): \n",
    "        self.color = color\n",
    "    def has_wheels(self): \n",
    "        return True\n",
    "    def __str__(self): return \"%s is %s\"%(self.__class__.__name__,self.color)\n",
    "\n",
    "class rent_bike(Bicycle):\n",
    "    def my_own(self): \n",
    "        return False\n",
    "v = Vehicle()\n",
    "print v.my_own()\n",
    "\n",
    "Ubike = rent_bike('yellow')\n",
    "print Ubike.my_own()\n",
    "print Ubike.color\n",
    "print Ubike"
   ]
  },
  {
   "cell_type": "code",
   "execution_count": 10,
   "metadata": {
    "collapsed": false
   },
   "outputs": [],
   "source": [
    "#Writing Hello World Into test.txt\n",
    "fid = open('test.txt', 'w')\n",
    "fid.write('Hello\\nWorld')\n",
    "fid.close()"
   ]
  },
  {
   "cell_type": "code",
   "execution_count": 2,
   "metadata": {
    "collapsed": false
   },
   "outputs": [
    {
     "name": "stdout",
     "output_type": "stream",
     "text": [
      "Line: Hello\n",
      "Line: World\n"
     ]
    }
   ],
   "source": [
    "#Load Hello World\n",
    "fid = open('test.txt', 'r')\n",
    "for line in fid: # Using file identifier as iterator\n",
    "    print(\"Line: \" + line.strip())\n",
    "fid.close()"
   ]
  },
  {
   "cell_type": "code",
   "execution_count": 3,
   "metadata": {
    "collapsed": false
   },
   "outputs": [
    {
     "name": "stdout",
     "output_type": "stream",
     "text": [
      "      \tabe\n",
      "efg   13    \n"
     ]
    }
   ],
   "source": [
    "a = '      \\tabe\\nefg   13    '\n",
    "print a"
   ]
  },
  {
   "cell_type": "code",
   "execution_count": 4,
   "metadata": {
    "collapsed": false
   },
   "outputs": [
    {
     "data": {
      "text/plain": [
       "'abe\\nefg   13'"
      ]
     },
     "execution_count": 4,
     "metadata": {},
     "output_type": "execute_result"
    }
   ],
   "source": [
    "a.strip()"
   ]
  },
  {
   "cell_type": "code",
   "execution_count": 6,
   "metadata": {
    "collapsed": false
   },
   "outputs": [
    {
     "name": "stdout",
     "output_type": "stream",
     "text": [
      "Line: 'Hello'\n",
      "Line: 'World'\n"
     ]
    }
   ],
   "source": [
    "#Load Hello World\n",
    "fid = open('test.txt', 'r')\n",
    "for line in fid: # Using file identifier as iterator\n",
    "    print(\"Line: \" + repr(line.strip()))\n",
    "fid.close()"
   ]
  },
  {
   "cell_type": "code",
   "execution_count": 7,
   "metadata": {
    "collapsed": false
   },
   "outputs": [
    {
     "name": "stdout",
     "output_type": "stream",
     "text": [
      "line Hello\n",
      "World\n"
     ]
    }
   ],
   "source": [
    "fid = open('test.txt', 'r')\n",
    "s = fid.read() # Read the entire file\n",
    "fid.close()\n",
    "print \"line\",s"
   ]
  },
  {
   "cell_type": "code",
   "execution_count": 8,
   "metadata": {
    "collapsed": false
   },
   "outputs": [
    {
     "name": "stdout",
     "output_type": "stream",
     "text": [
      "2\n",
      "2\n"
     ]
    }
   ],
   "source": [
    "#Line Counting\n",
    "fid = open('test.txt')\n",
    "k = 0\n",
    "for line in fid:\n",
    "    k = k + 1\n",
    "print(k)\n",
    "fid.close()\n",
    "\n",
    "#或簡寫為:\n",
    "print len([ line for line in open('test.txt')])"
   ]
  },
  {
   "cell_type": "code",
   "execution_count": 13,
   "metadata": {
    "collapsed": true
   },
   "outputs": [],
   "source": [
    "a = 'cat cat river car book   car   book river cat'\n",
    "\n",
    "splita = a.split()"
   ]
  },
  {
   "cell_type": "code",
   "execution_count": 14,
   "metadata": {
    "collapsed": false
   },
   "outputs": [
    {
     "name": "stdout",
     "output_type": "stream",
     "text": [
      "cat 2\n",
      "river 1\n",
      "car 1\n",
      "book 1\n",
      "car 1\n",
      "book 1\n",
      "river 1\n",
      "cat 1\n"
     ]
    }
   ],
   "source": [
    "current_word = \"\"\n",
    "k = 0\n",
    "for i in splita:\n",
    "    if i == current_word:\n",
    "        k+=1\n",
    "    else:\n",
    "        if current_word != \"\":\n",
    "            print current_word, k\n",
    "        current_word = i\n",
    "        k = 1\n",
    "print current_word, k\n",
    "#O(nLog(n))"
   ]
  },
  {
   "cell_type": "code",
   "execution_count": 26,
   "metadata": {
    "collapsed": false
   },
   "outputs": [
    {
     "name": "stdout",
     "output_type": "stream",
     "text": [
      "{'car': 2, 'river': 2, 'book': 2, 'cat': 3}\n"
     ]
    }
   ],
   "source": [
    "a = 'cat cat river car book   car   book river cat'\n",
    "dic ={}\n",
    "for i in a.split():\n",
    "    if i in dic:\n",
    "        dic[i] = dic[i]+1\n",
    "    else:\n",
    "        dic[i] = 1\n",
    "print dic\n"
   ]
  },
  {
   "cell_type": "code",
   "execution_count": 34,
   "metadata": {
    "collapsed": false
   },
   "outputs": [
    {
     "name": "stdout",
     "output_type": "stream",
     "text": [
      "cooperation with World Library, Inc., from their Library of the\n",
      "Future and Shakespeare CDROMS.  Project Gutenberg often releases\n",
      "Etexts that are NOT placed in the Public Domain!!\n",
      "\n",
      "*This Etext has certain copyright implications you should read!*\n",
      "\n",
      "<<THIS ELECTRONIC VERSION OF THE COMPLETE WORKS OF WILLIAM\n",
      "SHAKESPEARE IS COPYRIGHT 1990-1993 BY WORLD LIBRARY, INC., AND IS\n",
      "PROVIDED BY PROJECT GUTENBERG WITH PERMISSION.  ELECTRONIC AND\n"
     ]
    }
   ],
   "source": [
    "f = open(\"comedies.txt\", 'r')\n",
    "cnt = 0\n",
    "for line in f.readlines()[1:10]:\n",
    "    print line.strip()\n",
    "f.close()"
   ]
  },
  {
   "cell_type": "code",
   "execution_count": 17,
   "metadata": {
    "collapsed": false
   },
   "outputs": [
    {
     "name": "stdout",
     "output_type": "stream",
     "text": [
      "['cooperation', 'with', 'World', 'Library,', 'Inc.,', 'from', 'their', 'Library', 'of', 'the']\n",
      "['Future', 'and', 'Shakespeare', 'CDROMS.', 'Project', 'Gutenberg', 'often', 'releases']\n",
      "['Etexts', 'that', 'are', 'NOT', 'placed', 'in', 'the', 'Public', 'Domain!!']\n",
      "[]\n",
      "['*This', 'Etext', 'has', 'certain', 'copyright', 'implications', 'you', 'should', 'read!*']\n",
      "[]\n",
      "['<<THIS', 'ELECTRONIC', 'VERSION', 'OF', 'THE', 'COMPLETE', 'WORKS', 'OF', 'WILLIAM']\n",
      "['SHAKESPEARE', 'IS', 'COPYRIGHT', '1990-1993', 'BY', 'WORLD', 'LIBRARY,', 'INC.,', 'AND', 'IS']\n",
      "['PROVIDED', 'BY', 'PROJECT', 'GUTENBERG', 'WITH', 'PERMISSION.', 'ELECTRONIC', 'AND']\n"
     ]
    }
   ],
   "source": [
    "f = open(\"comedies.txt\", 'r')\n",
    "#cnt = 0\n",
    "for line in f.readlines()[1:10]:\n",
    "    ele = line.strip().split()\n",
    "    print ele\n",
    "f.close()"
   ]
  },
  {
   "cell_type": "code",
   "execution_count": 39,
   "metadata": {
    "collapsed": false
   },
   "outputs": [
    {
     "ename": "SyntaxError",
     "evalue": "invalid syntax (<ipython-input-39-329c01d7c048>, line 14)",
     "output_type": "error",
     "traceback": [
      "\u001b[0;36m  File \u001b[0;32m\"<ipython-input-39-329c01d7c048>\"\u001b[0;36m, line \u001b[0;32m14\u001b[0m\n\u001b[0;31m    print sorted_x[1:50\u001b[0m\n\u001b[0m                       ^\u001b[0m\n\u001b[0;31mSyntaxError\u001b[0m\u001b[0;31m:\u001b[0m invalid syntax\n"
     ]
    }
   ],
   "source": [
    "f = open(\"comedies.txt\", 'r')\n",
    "cnt = 0\n",
    "dict = {}\n",
    "for line in f.readlines():\n",
    "    ele = line.lower().strip().split()\n",
    "    for word in ele:\n",
    "        if word in dict:\n",
    "\t    dict[word] = dict[word] + 1\n",
    "\telse:\n",
    "\t    dict[word] = 1\n",
    "f.close()\n",
    "import operator\n",
    "sorted_x = sorted(dict.items(), key = operator.itemgetter(1), reverse=True)\n",
    "print sorted_x[1:50]"
   ]
  },
  {
   "cell_type": "code",
   "execution_count": 36,
   "metadata": {
    "collapsed": false
   },
   "outputs": [
    {
     "name": "stdout",
     "output_type": "stream",
     "text": [
      "intermediate {'cat': 1}\n",
      "intermediate {'cat': 2}\n",
      "intermediate {'river': 1, 'cat': 2}\n",
      "intermediate {'car': 1, 'river': 1, 'cat': 2}\n",
      "intermediate {'car': 1, 'river': 1, 'book': 1, 'cat': 2}\n",
      "intermediate {'car': 2, 'river': 1, 'book': 1, 'cat': 2}\n",
      "intermediate {'car': 2, 'river': 1, 'book': 2, 'cat': 2}\n",
      "intermediate {'car': 2, 'river': 2, 'book': 2, 'cat': 2}\n",
      "intermediate {'car': 2, 'river': 2, 'book': 2, 'cat': 3}\n",
      "final {'car': 2, 'river': 2, 'book': 2, 'cat': 3}\n"
     ]
    },
    {
     "ename": "NameError",
     "evalue": "name 'O' is not defined",
     "output_type": "error",
     "traceback": [
      "\u001b[0;31m---------------------------------------------------------------------------\u001b[0m",
      "\u001b[0;31mNameError\u001b[0m                                 Traceback (most recent call last)",
      "\u001b[0;32m<ipython-input-36-b355a41b8056>\u001b[0m in \u001b[0;36m<module>\u001b[0;34m()\u001b[0m\n\u001b[1;32m      9\u001b[0m     \u001b[0;32mprint\u001b[0m \u001b[0;34m\"intermediate\"\u001b[0m\u001b[0;34m,\u001b[0m\u001b[0mdic\u001b[0m\u001b[0;34m\u001b[0m\u001b[0m\n\u001b[1;32m     10\u001b[0m \u001b[0;32mprint\u001b[0m \u001b[0;34m\"final\"\u001b[0m\u001b[0;34m,\u001b[0m\u001b[0mdic\u001b[0m\u001b[0;34m\u001b[0m\u001b[0m\n\u001b[0;32m---> 11\u001b[0;31m \u001b[0mO\u001b[0m\u001b[0;34m(\u001b[0m\u001b[0mn\u001b[0m\u001b[0;34m)\u001b[0m\u001b[0;34m\u001b[0m\u001b[0m\n\u001b[0m",
      "\u001b[0;31mNameError\u001b[0m: name 'O' is not defined"
     ]
    }
   ],
   "source": [
    "#using dictionary\n",
    "a = 'cat cat river car book  car   book   river cat'\n",
    "dic ={}\n",
    "for i in a.split():\n",
    "    if i in dic:\n",
    "        dic[i] = dic[i] + 1\n",
    "    else:\n",
    "        dic[i] = 1\n",
    "    print \"intermediate\",dic\n",
    "print \"final\",dic\n"
   ]
  },
  {
   "cell_type": "code",
   "execution_count": 40,
   "metadata": {
    "collapsed": false
   },
   "outputs": [
    {
     "name": "stdout",
     "output_type": "stream",
     "text": [
      "{'pig': 1, 'dog': 2, 'cat': 3}\n"
     ]
    }
   ],
   "source": [
    "dic = {}\n",
    "\n",
    "a = \"cat cat dog cat dog pig\"\n",
    "for i in a.split():\n",
    "    if i in dic:\n",
    "        dic[i] = dic[i] + 1\n",
    "    else:\n",
    "        dic[i] = 1\n",
    "print dic"
   ]
  },
  {
   "cell_type": "code",
   "execution_count": 3,
   "metadata": {
    "collapsed": false
   },
   "outputs": [
    {
     "name": "stdout",
     "output_type": "stream",
     "text": [
      "200\n",
      "text/html; charset=utf-8\n"
     ]
    }
   ],
   "source": [
    "import requests \n",
    "Qoo = requests.get('https://www.python.org/') #print \n",
    "Qoo.text \n",
    "print Qoo.status_code \n",
    "print Qoo.headers['content-type']"
   ]
  },
  {
   "cell_type": "code",
   "execution_count": 6,
   "metadata": {
    "collapsed": false
   },
   "outputs": [
    {
     "name": "stdout",
     "output_type": "stream",
     "text": [
      "<!DOCTYPE html PUBLIC \"-//W3C//DTD XHTML 1.0 Transitional//EN\" \"http://www.w3.org/TR/xhtml1/DTD/xhtml1-transitional.dtd\">\r\n",
      "<html xmlns=\"http://www.w3.org/1999/xhtml\">\r\n",
      "<head>\r\n",
      "<meta http-equiv=\"Content-Type\" content=\"text/html; charset=utf-8\" />\r\n",
      "<title>高鐵企業網站公告</title>\r\n",
      "<style>\r\n",
      "body { margin:0; padding:0; color:#8A7E6C;  text-align:center; font-family:Arial, Helvetica, sans-serif;}\r\n",
      ".Page { border-top:6px solid #f08300 ; padding-top:60px;}\r\n",
      "h1 {  color:#DA5523; border-bottom:1px solid #eae8e5; padding:0 10px 10px 10px;  text-align:left; font-size:x-large}\r\n",
      ".Info {   line-height:1.8; padding:0 10px; text-align:justify;}\r\n",
      ".Info a { padding:0 5px 0 0; color:#DA5523; text-decoration:none; border-bottom:1px solid #DA5523; }\r\n",
      ".Info a:hover { color:#f33; border-bottom:1px solid #F33}\r\n",
      "</style>\r\n",
      "</head>\r\n",
      "\r\n",
      "<body>\r\n",
      "<div class=\"Page\">\r\n",
      "\t<table align=\"center\" width=\"60%\">\r\n",
      "    \t<tr>\r\n",
      "        \t<td>\r\n",
      "            \t<h1>高鐵企業網站公告</h1>\r\n",
      "            \t<div class=\"Info\"><b>系統檢測發現您所輸入的內容異常, 請 <A href=\"javascript:history.back();\">回上一頁</a> 重新操作，並注意各資料的輸入提示。\r\n",
      "            \t\t<br />\r\n",
      "\t\t\t\t\tYour input is invalid, please read carefully the tips on each field and try again.<br/></b><br/>\r\n",
      "            \t\t<div>前往高鐵企業網站首頁：<a href=\"http://www.thsrc.com.tw\">http://www.thsrc.com.tw</a></div>\r\n",
      "                    \r\n",
      "            \t</div>\r\n",
      "            </td>\r\n",
      "        </tr>\r\n",
      "    </table>\r\n",
      "</div>\r\n",
      "</body>\r\n",
      "</html>\n"
     ]
    }
   ],
   "source": [
    "import requests \n",
    "payload = { 'StartStation':'977abb69-413a-4ccf-a109-0272c24fd490', '\\\n",
    "           EndStation':'60831846-f0e4-47f6-9b5b-46323ebdcef7', \\\n",
    "           'SearchDate':'2014/06/18', \\\n",
    "           'SearchTime':'10:30', \\\n",
    "           'SearchWay':'DepartureInMandarin' } \n",
    "res = requests.post('http://www.thsrc.com.tw/tw/TimeTable/SearchResult', data=payload) \n",
    "print res.text"
   ]
  },
  {
   "cell_type": "code",
   "execution_count": 5,
   "metadata": {
    "collapsed": false
   },
   "outputs": [
    {
     "name": "stdout",
     "output_type": "stream",
     "text": [
      "   Hello World This is link1 This is link2  \n"
     ]
    }
   ],
   "source": [
    "from bs4 import BeautifulSoup \n",
    "html_sample = ' <html> <body> <h1 id=\"title\">Hello World</h1> \\\n",
    "<a href=\"#\" class=\"link\">This is link1</a> \\\n",
    "<a href=\"# link2\" class=\"link\">This is link2</a> \\\n",
    "</body> </html>' \n",
    "soup = BeautifulSoup(html_sample) \n",
    "print soup.text"
   ]
  },
  {
   "cell_type": "code",
   "execution_count": 6,
   "metadata": {
    "collapsed": false
   },
   "outputs": [
    {
     "name": "stdout",
     "output_type": "stream",
     "text": [
      "<a class=\"link\" href=\"#\">This is link1</a>\n"
     ]
    }
   ],
   "source": [
    "alink = soup.find('a') \n",
    "print alink"
   ]
  },
  {
   "cell_type": "code",
   "execution_count": 9,
   "metadata": {
    "collapsed": false
   },
   "outputs": [
    {
     "name": "stdout",
     "output_type": "stream",
     "text": [
      "<a class=\"link\" href=\"#\">This is link1</a>\n"
     ]
    }
   ],
   "source": [
    "soup = BeautifulSoup(html_sample) \n",
    "alink = soup.find('a') \n",
    "print alink"
   ]
  },
  {
   "cell_type": "code",
   "execution_count": 4,
   "metadata": {
    "collapsed": false
   },
   "outputs": [
    {
     "ename": "TypeError",
     "evalue": "get() takes exactly 1 argument (0 given)",
     "output_type": "error",
     "traceback": [
      "\u001b[0;31m---------------------------------------------------------------------------\u001b[0m",
      "\u001b[0;31mTypeError\u001b[0m                                 Traceback (most recent call last)",
      "\u001b[0;32m<ipython-input-4-b392b907b9ce>\u001b[0m in \u001b[0;36m<module>\u001b[0;34m()\u001b[0m\n\u001b[1;32m      1\u001b[0m \u001b[0;32mimport\u001b[0m \u001b[0mrequests\u001b[0m\u001b[0;34m\u001b[0m\u001b[0m\n\u001b[0;32m----> 2\u001b[0;31m \u001b[0mres\u001b[0m \u001b[0;34m=\u001b[0m \u001b[0mrequests\u001b[0m\u001b[0;34m.\u001b[0m\u001b[0mget\u001b[0m\u001b[0;34m(\u001b[0m\u001b[0;34m)\u001b[0m\u001b[0;34m\u001b[0m\u001b[0m\n\u001b[0m",
      "\u001b[0;31mTypeError\u001b[0m: get() takes exactly 1 argument (0 given)"
     ]
    }
   ],
   "source": [
    "import requests\n",
    "res = requests.get()\n"
   ]
  },
  {
   "cell_type": "code",
   "execution_count": 4,
   "metadata": {
    "collapsed": false
   },
   "outputs": [
    {
     "name": "stdout",
     "output_type": "stream",
     "text": [
      "[]\n"
     ]
    }
   ],
   "source": [
    "import requests\n",
    "from bs4 import BeautifulSoup\n",
    "payload = { 'StartStation':'977abb69-413a-4ccf-a109-0272c24fd490', \n",
    "'EndStation':'a7a04c89-900b-4798-95a3-c01c455622f4', \n",
    "'SearchDate':'2015/03/13', \n",
    "'SearchTime':'16:30', \n",
    "'SearchWay':'DepartureInMandarin' } \n",
    "res = requests.post('http://www.thsrc.com.tw/tw/TimeTable/SearchResult', data=payload) \n",
    "soup = BeautifulSoup(res.text) \n",
    "print soup.select(\".result_table\")"
   ]
  },
  {
   "cell_type": "code",
   "execution_count": 2,
   "metadata": {
    "collapsed": false
   },
   "outputs": [
    {
     "ename": "SyntaxError",
     "evalue": "invalid syntax (<ipython-input-2-4cd336090b5d>, line 3)",
     "output_type": "error",
     "traceback": [
      "\u001b[0;36m  File \u001b[0;32m\"<ipython-input-2-4cd336090b5d>\"\u001b[0;36m, line \u001b[0;32m3\u001b[0m\n\u001b[0;31m    for link in alink:\u001b[0m\n\u001b[0m                     ^\u001b[0m\n\u001b[0;31mSyntaxError\u001b[0m\u001b[0;31m:\u001b[0m invalid syntax\n"
     ]
    }
   ],
   "source": [
    "alink = soup.findAll('a',{'title':True})\n",
    "print soup.select(alink\n",
    "for link in alink:\n",
    "    print link['title']\n"
   ]
  },
  {
   "cell_type": "code",
   "execution_count": 5,
   "metadata": {
    "collapsed": false
   },
   "outputs": [],
   "source": [
    "for alink in soup.findAll(' title='): \n",
    "    print alink"
   ]
  },
  {
   "cell_type": "code",
   "execution_count": 34,
   "metadata": {
    "collapsed": true
   },
   "outputs": [],
   "source": [
    "# -*- coding: utf-8 -*- \n",
    "import requests\n",
    "\n",
    "payload1 = { 'method':'search', 'searchMethod':'true', 'searchTarget':'ATM',\n",
    " 'orgName':'', 'orgId':'', 'hid_1':'1',\n",
    " 'tenderName':'', 'tenderId':'', 'tenderStatus':'4,5,21,29',\n",
    " 'tenderWay':'', 'awardAnnounceStartDate':'103/04/29',\n",
    " 'awardAnnounceEndDate':'103/04/29', 'radProctrgCate':'3', \n",
    " 'proctrgCate':'3', 'tenderRange':'', 'minBudget':'',\n",
    " 'maxBudget':'', 'item':'','hid_2':'1',\n",
    " 'gottenVendorName':'', 'gottenVendorId':'', 'hid_3':'1',\n",
    " 'submitVendorName':'', 'submitVendorId':'', 'location':'',\n",
    " 'priorityCate':'', 'isReConstruct':'', 'btnQuery':'查詢' }"
   ]
  },
  {
   "cell_type": "code",
   "execution_count": 36,
   "metadata": {
    "collapsed": false
   },
   "outputs": [
    {
     "name": "stdout",
     "output_type": "stream",
     "text": [
      "\r\n",
      "<!DOCTYPE html>\r\n",
      "<html lang=\"zh-tw\">\r\n",
      "    \r\n",
      "\r\n",
      "\r\n",
      "<meta charset=\"utf-8\" />\r\n",
      "<link rel=\"shortcut icon\" href=\"/Content/favicon/favicon.ico\" />\r\n",
      "<!--<meta name=\"viewport\" content=\"width=device-width, initial-scale=1.0, user-scalable=no, minimum-scale=1.0, maximum-scale=1.0\" />-->\r\n",
      "<meta name=\"keywords\" content=\"高鐵,快速,旅遊假期,遊玩\">\r\n",
      "<meta name=\"description\" content=\"台灣高鐵連結台灣南北主要城市，我們不只是交通運輸業，更是推動台灣­前進的服務業；我們代表的不僅只是速度，而是速度所帶來的現代生活新態度；我們以更文明的旅行體驗，成為你實現夢想的助力，台灣高鐵，實踐台灣新生活。\">\r\n",
      "<meta name=\"author\" content=\"mi70 uni-net\" />\r\n",
      "\r\n",
      "\r\n",
      "    <meta http-equiv=\"cache-control\" content=\"private\">\r\n",
      "\r\n",
      "\r\n",
      "<!--Facebook SEO start-->\r\n",
      "\r\n",
      "<meta property=\"og:title\" content=\"台灣高鐵\" />\r\n",
      "<meta property=\"og:url\" content=\"http://www.thsrc.com.tw/\" />\r\n",
      "<meta property=\"og:image\" content=\"http://www.thsrc.com.tw/Content/logo.jpg\" />\r\n",
      "<!--Facebook SEO end-->\r\n",
      "    \r\n",
      "<!--Google +1 start-->\r\n",
      "<meta itemprop=\"name\" content=\"台灣高鐵\" />\r\n",
      "<meta itemprop=\"description\" content=\"台灣高鐵連結台灣南北主要城市，我們不只是交通運輸業，更是推動台灣­前進的服務業；我們代表的不僅只是速度，而是速度所帶來的現代生活新態度；我們以更文明的旅行體驗，成為你實現夢想的助力，台灣高鐵，實踐台灣新生活。\" />\r\n",
      "<meta itemprop=\"image\" content=\"http://www.thsrc.com.tw/Content/logo.jpg\" />\r\n",
      "<!--Google +1 end-->\r\n",
      "\r\n",
      "<!--[if lt IE 9]>\r\n",
      "<script src=\"//html5shim.googlecode.com/svn/trunk/html5.js\"></script>\r\n",
      "<script src=\"/Content/dist/html5shiv.js\" type=\"text/javaScript\"></script>\r\n",
      "<script src=\"/Content/dist/html5shiv-printshiv.js\" type=\"text/javaScript\"></script>\r\n",
      "<![endif]-->\r\n",
      "<!--[if IE 7]>\r\n",
      "<script src=\"//ie7-js.googlecode.com/svn/version/2.1(beta4)/IE9.js\"></script>\r\n",
      "<![endif]-->\r\n",
      "<!--[if IE 8]>\r\n",
      "<script src=\"//ie7-js.googlecode.com/svn/version/2.1(beta4)/IE9.js\"></script>\r\n",
      "<![endif]-->\r\n",
      "<!--[if IE 6]>\r\n",
      "<link href=\"/Content/css/pngFix.css\"  rel=\"stylesheet\" type=\"text/css\" />\r\n",
      "<script src=\"/Content/iepngfix/iepngfix_tilebg.js\" type=\"text/javaScript\"></script> \r\n",
      "<![endif]-->\r\n",
      "\r\n",
      "\r\n",
      "\r\n",
      "<!-- Original CSS for the template -->\r\n",
      "<link href=\"/Content/css/css_reset.css\" rel=\"stylesheet\" type=\"text/css\" />\r\n",
      "\r\n",
      "<!-------------------->\r\n",
      "<!-- CSS for jQuery -->\r\n",
      "<!-------------------->\r\n",
      "<link href=\"/Content/css/jquery-ui-1.8.5.custom.css\" rel=\"stylesheet\" type=\"text/css\" />\r\n",
      "<link href=\"/Content/css/jquery.ui.datepicker.css\"  rel=\"stylesheet\" type=\"text/css\" />\r\n",
      "<link href=\"/Content/Script/fancybox/jquery.fancybox-1.3.1.css\" rel=\"stylesheet\" type=\"text/css\"  media=\"screen\" />\r\n",
      "\r\n",
      "\r\n",
      "<script src=\"/Content/Script/jquery-1.8.3.min.js\" type=\"text/javascript\"></script>\r\n",
      "<script src=\"/Content/Script/jquery-ui-1.8.5.custom.min.js\" type=\"text/javaScript\"></script>\r\n",
      "<script src=\"/Content/Script/jquery.ui.datepicker.js\" type=\"text/javaScript\"></script>\r\n",
      "<script src=\"/Content/Script/fancybox/jquery.mousewheel-3.0.2.pack.js\" type=\"text/javaScript\"></script>\r\n",
      "<script src=\"/Content/Script/fancybox/jquery.fancybox-1.3.1.js\" type=\"text/javaScript\"></script>\r\n",
      "<script src=\"/Content/Script/dateTool.js\" type=\"text/javaScript\"></script>\r\n",
      "<script src=\"/Content/Script/THSRC.Common.js\" type=\"text/javaScript\"></script>\r\n",
      "\r\n",
      "<!-------------------->\r\n",
      "<!------ jQuery ------>\r\n",
      "<!-------------------->\r\n",
      "\r\n",
      "<script src=\"/Content/Script/jquery.validate.min.js\" type=\"text/javaScript\"></script>\r\n",
      "<script src=\"/Content/Script/jquery.validate.extension.js\" type=\"text/javaScript\"></script>\r\n",
      "<script src=\"/Content/Script/date.js\" type=\"text/javaScript\"></script>\r\n",
      "\r\n",
      "\r\n",
      "<script src=\"/Content/Script/json2.js\" type=\"text/javaScript\"></script> \r\n",
      "<script src=\"/Content/Script/JSON4ms.js\" type=\"text/javaScript\"></script>\r\n",
      "<script src=\"/Content/Script/jquery.tmpl.min.js\" type=\"text/javaScript\"></script>\r\n",
      "<script src=\"/Content/Script/jquery.tmplPlus.min.js\" type=\"text/javaScript\"></script>\r\n",
      "\r\n",
      "\r\n",
      "<script src=\"/Content/Script/jquery.cookie.js\" type=\"text/javaScript\"></script>\r\n",
      "<script src=\"/Content/Script/jquery.keyfilter.js\" type=\"text/javaScript\"></script>\r\n",
      "\r\n",
      "<script src=\"/Content/Script/jquery.easing.1.3.js\" type=\"text/javaScript\"></script>\r\n",
      "<script src=\"/Content/Script/jquery.ui.core.js\" type=\"text/javaScript\"></script>\r\n",
      "\r\n",
      "<script src=\"/Content/Script/jquery.ui.mouse.js\" type=\"text/javaScript\"></script>\r\n",
      "\r\n",
      "\r\n",
      "<script src=\"/Content/Script/jquery.scrollTo-min.js\" type=\"text/javaScript\"></script>\r\n",
      "<script src=\"/Content/Script/jquery.jqprint-0.3.js\" type=\"text/javaScript\"></script>\r\n",
      "\r\n",
      "\r\n",
      "\r\n",
      "\r\n",
      "<!------------------------------>\r\n",
      "<!-- Uninet Customize Library -->\r\n",
      "<!------------------------------>\r\n",
      "<script src=\"/Content/Script/check.js\" type=\"text/javaScript\"></script>\r\n",
      "\r\n",
      "<script src=\"/Content/Script/behaviour.js\" type=\"text/javaScript\"></script>\r\n",
      "\r\n",
      "\r\n",
      "\r\n",
      "\r\n",
      "\r\n",
      "<script src=\"/Content/Script/THSRC.Extends.js\" type=\"text/javaScript\"></script>\r\n",
      "<script src=\"/Content/Script/THSRC.Property.js\" type=\"text/javaScript\"></script>\r\n",
      "<script src=\"/Content/Script/THSRC.AjaxCheckBox.js\" type=\"text/javaScript\"></script>\r\n",
      "<script src=\"/Content/Script/THSRC.AjaxDropDownList.js\" type=\"text/javaScript\"></script>\r\n",
      "<script src=\"/Content/Script/FancyBox.js\" type=\"text/javascript\"></script>\r\n",
      "<script src=\"/Content/Script/nextPrevBtn.js\" type=\"text/javascript\"></script>\r\n",
      "<script src=\"/Content/Script/photoCenter.js\" type=\"text/javascript\"></script>\r\n",
      "<script src=\"/Content/Script/SocialMedia.ShareButton.js\" type=\"text/javascript\"></script>\r\n",
      "\r\n",
      "<head id=\"ctl00_Head1\"><title>\r\n",
      "\t\r\n",
      "台灣高鐵 Taiwan High Speed Rail\r\n",
      "\r\n",
      "</title></head>\r\n",
      "\r\n",
      "<link href=\"/Content/css/innerCommon.css\"      rel=\"stylesheet\" type=\"text/css\">\r\n",
      "<link href=\"/Content/css/inner_all_common.css\" rel=\"stylesheet\" type=\"text/css\">\r\n",
      "<link href=\"/Content/css/time_search.css\"      rel=\"stylesheet\" type=\"text/css\">\r\n",
      "\r\n",
      "\r\n",
      "<body>\r\n",
      "    <div class=\"wrapper\">\r\n",
      "        \r\n",
      "        \r\n",
      "        <header>\r\n",
      "        \t\r\n",
      "            <h1><a href=\"/\" title=\"TAIWAN HIGH SPEED RAIL\">台灣高鐵</a></h1>\r\n",
      "            <aside class=\"top_aside\">\r\n",
      "              <!--新增導盲磚 edit by kenny 20141215-->\r\n",
      "     <a href=\"/tw/sitemap/\" title=\"上方選單區\" accesskey=\"U\" tabindex=\"1000\" style=\"position:absolute; left:335px; top:38px;color:White;\">:::</a>\r\n",
      "\r\n",
      "        <ul>\r\n",
      "            <li><a title='繁體中文'href=\"/tw/Home/Index\">\r\n",
      "            繁體中文\r\n",
      "            </a></li>\r\n",
      "            \r\n",
      "        <li class=\"addLine\" ><a title='日本語' href=\"http://www5.thsrc.com.tw/jp/\">日本語</a> </li>\r\n",
      "            <li class=\"addLine\"><a title='English' href=\"http://www5.thsrc.com.tw/en/\">English</a></li>\r\n",
      "        </ul>\r\n",
      "<form action=\"/tw/Home/Search\" id=\"formWholeSiteSearch\" method=\"post\" name=\"formWholeSiteSearch\">\r\n",
      "    <label for=\"searchBar\"><span style=\"display:none;\">全站查詢</span></label>\r\n",
      "    \r\n",
      "    \r\n",
      "\r\n",
      "    <input id=\"searchBar\" name=\"searchBar\" onFocus=\"ShowAndHideKeyWord();\" onmouseover=\"ShowAndHideKeyWord();\" type=\"text\" value=\"請輸入查詢關鍵字\" />\r\n",
      "   \r\n",
      "    <a href=\"javascript:;\" tabindex = \"1\" onkeypress=\"SubmitSearch()\" onclick=\"SubmitSearch()\" title=\"立即搜尋\">立即搜尋</a>\r\n",
      "</form>\r\n",
      "<script>\r\n",
      "\r\n",
      "\r\n",
      "function ShowAndHideKeyWord()\r\n",
      "{\r\n",
      "        if($(\"#searchBar\").val() == '請輸入查詢關鍵字')\r\n",
      "        {\r\n",
      "           $(\"#searchBar\").val('');\r\n",
      "        }\r\n",
      "}\r\n",
      "\r\n",
      "\r\n",
      "    function SubmitSearch() {\r\n",
      "        var keyword = $(\"#searchBar\").val();\r\n",
      "        if (keyword != \"\") {\r\n",
      "            $(\"#formWholeSiteSearch\").submit();\r\n",
      "        } else {\r\n",
      "            alert(\"請輸入搜尋內容\");\r\n",
      "        }\r\n",
      "    }\r\n",
      "</script>\r\n",
      "<noscript>\r\n",
      "請輸入搜尋內容\r\n",
      "</noscript>\r\n",
      "            </aside>\r\n",
      "            \r\n",
      "\r\n",
      " <script type=\"text/javascript\" src=\"/Content/Script/forListMenu.js\"></script>\r\n",
      "  <script type=\"text/javascript\" src=\"/Content/Script/jquery.bgiframe.js\"></script>\r\n",
      " <link href=\"/Content/css/common_list_menu.css\" rel=\"stylesheet\" type=\"text/css\">\r\n",
      " <link href=\"/Content/css/common_list_menu_en_jp.css\" rel=\"stylesheet\" type=\"text/css\">\r\n",
      "\r\n",
      "\r\n",
      "<nav class=\"top_nav top_nav_tw\">\r\n",
      "    <ul>\r\n",
      "    <li class=\"nav_hot\" ><a href=\"/tw/SiteMap/#N\" title = \"優惠活動\">優惠活動</a>\r\n",
      "                                <div class=\"dl\">\r\n",
      "                                    <div class=\"first_list\">\r\n",
      "                                        <div class=\"has_photo_list\"><img src=\"/Content/UploadFiles/index/nav_hot.jpg\" width=\"200\" height=\"120\" alt=\"優惠活動\" title = \"優惠活動\"></div>\r\n",
      "                                        <div title =密集方便，高鐵提供您準點可靠的列車服務。 class=\"photo_list_word\">密集方便，高鐵提供您準點可靠的列車服務。</div>\r\n",
      "                                    </div>\r\n",
      "                                    <div class=\"list_area list_area_tw\"> \r\n",
      "                                <div title =\"購票優惠\" class=\"dtnolink\">購票優惠</div>\r\n",
      "<div class=\"dd\">\r\n",
      "                            <a title = \"早鳥優惠\"  href=\"/tw/Article/ArticleContent/7039d17d-1463-4c14-ad93-4d491dedcad5\" alt = \"早鳥優惠\"  >\r\n",
      "                            早鳥優惠\r\n",
      "                            </a>\r\n",
      "                            </div>\r\n",
      "<div class=\"dd\">\r\n",
      "                            <a title = \"信用卡優惠專區\"  href=\"/tw/Article/ArticleContent/566d6bff-4427-461d-8b88-b6c4868f75c9\" alt = \"信用卡優惠專區\"  >\r\n",
      "                            信用卡優惠專區\r\n",
      "                            </a>\r\n",
      "                            </div>\r\n",
      "<div class=\"dd\">\r\n",
      "                            <a title = \"交通聯票\"  href=\"/tw/Article/ArticleContent/5af4ceb8-4c6f-44ec-b02d-0c398c0ad917\" alt = \"交通聯票\"  >\r\n",
      "                            交通聯票\r\n",
      "                            </a>\r\n",
      "                            </div>\r\n",
      "<div class=\"dd\">\r\n",
      "                            <a title = \"活動套票\"  href=\"/tw/Article/ArticleContent/d794b386-96a7-445c-8a50-160862a037e9\" alt = \"活動套票\"  >\r\n",
      "                            活動套票\r\n",
      "                            </a>\r\n",
      "                            </div>\r\n",
      "<div class=\"dd\">\r\n",
      "                            <a title = \"大學生優惠\"  href=\"/tw/Article/ArticleContent/530e869c-479d-441a-a4b4-61a8166827e9\" alt = \"大學生優惠\"  >\r\n",
      "                            大學生優惠\r\n",
      "                            </a>\r\n",
      "                            </div>\r\n",
      "<div class=\"dd\">\r\n",
      "                            <a title = \"60-64歲熟年優惠\"  href=\"/tw/Article/ArticleContent/6f40e8c2-6725-4718-9abd-6c0c3aadf834\" alt = \"60-64歲熟年優惠\"  >\r\n",
      "                            60-64歲熟年優惠\r\n",
      "                            </a>\r\n",
      "                            </div>\r\n",
      "<div class=\"dd\">\r\n",
      "                            <a title = \"平日離峰92折\"  href=\"/tw/Article/ArticleContent/e75eb64d-0cbf-42de-a7fb-dc43116be985\" alt = \"平日離峰92折\"  >\r\n",
      "                            平日離峰92折\r\n",
      "                            </a>\r\n",
      "                            </div>\r\n",
      "\r\n",
      "                            </div>\r\n",
      "<div class=\"list_line\"></div>\r\n",
      "<div class=\"list_area list_area_tw\"> \r\n",
      "                                <div class=\"dd\">\r\n",
      "                            <a title = \"30人以上團體優惠\"  href=\"/tw/Article/ArticleContent/78d182eb-0e86-4343-8b5f-4199036daa7b\" alt = \"30人以上團體優惠\"  >\r\n",
      "                            30人以上團體優惠\r\n",
      "                            </a>\r\n",
      "                            </div>\r\n",
      "<div class=\"dd\">\r\n",
      "                            <a title = \"校外教學優惠\"  href=\"/tw/Article/ArticleContent/ca09cf02-8f65-4f87-b25e-31cb9c0e187b\" alt = \"校外教學優惠\"  >\r\n",
      "                            校外教學優惠\r\n",
      "                            </a>\r\n",
      "                            </div>\r\n",
      "<div class=\"dd\">\r\n",
      "                            <a title = \"團體訂票\"  href=\"/tw/Article/ArticleContent/41421730-b8ab-4fe3-b251-89e32cba8453\" alt = \"團體訂票\"  >\r\n",
      "                            團體訂票\r\n",
      "                            </a>\r\n",
      "                            </div>\r\n",
      "<div class=\"dd\">\r\n",
      "                            <a title = \"回數票\"  href=\"/tw/Article/ArticleContent/8f06ca76-ab2d-4b77-bc20-73218ce3b892\" alt = \"回數票\"  >\r\n",
      "                            回數票\r\n",
      "                            </a>\r\n",
      "                            </div>\r\n",
      "<div class=\"dd\">\r\n",
      "                            <a title = \"定期票\"  href=\"/tw/Article/ArticleContent/b7b46e29-424c-4fc4-8ec7-0ab3031f2c9c\" alt = \"定期票\"  >\r\n",
      "                            定期票\r\n",
      "                            </a>\r\n",
      "                            </div>\r\n",
      "<div class=\"dd\">\r\n",
      "                            <a title = \"企業會員\"  href=\"/tw/Article/ArticleContent/376238fd-2f6d-48f8-b070-9f2ea61b14b5\" alt = \"企業會員\"  >\r\n",
      "                            企業會員\r\n",
      "                            </a>\r\n",
      "                            </div>\r\n",
      "<div class=\"dd\">\r\n",
      "                            <a title = \"高鐵假期[將另開新視窗 ]\"  href=\"http://tholiday.thsrc.com.tw/TC/index.aspx\" alt = \"高鐵假期[將另開新視窗 ]\" target=\"_blank\" >\r\n",
      "                            高鐵假期<span style='display:none;'>[將另開新視窗 ]</span>\r\n",
      "                            </a>\r\n",
      "                            </div>\r\n",
      "<div class=\"dd\">\r\n",
      "                            <a title = \"飯店聯票\"  href=\"/tw/Article/ArticleContent/1fa66994-818b-43fa-b72b-0ccc2c281b9d\" alt = \"飯店聯票\"  >\r\n",
      "                            飯店聯票<em></em>\r\n",
      "                            </a>\r\n",
      "                            </div>\r\n",
      "\r\n",
      "                            </div>\r\n",
      "<div class=\"list_line\"></div>\r\n",
      "<div class=\"list_area list_area_tw\"> \r\n",
      "                                <div title =\"最新公告\" class=\"dtnolink\">最新公告</div>\r\n",
      "<div class=\"dd\">\r\n",
      "                            <a title = \"最新消息\"  href=\"/tw/News/Index\" alt = \"最新消息\"  >\r\n",
      "                            最新消息\r\n",
      "                            </a>\r\n",
      "                            </div>\r\n",
      "<div class=\"dd\">\r\n",
      "                            <a title = \"列車運行狀況\"  href=\"/tw/Operation/Index\" alt = \"列車運行狀況\"  >\r\n",
      "                            列車運行狀況<em></em>\r\n",
      "                            </a>\r\n",
      "                            </div>\r\n",
      "<div title =\"熱門活動\" class=\"dtnolink\">熱門活動</div>\r\n",
      "<div class=\"dd\">\r\n",
      "                            <a title = \"活動合作\"  href=\"/tw/Article/ArticleContent/99ba7783-c46e-4b68-849b-e9084e5a0e15\" alt = \"活動合作\"  >\r\n",
      "                            活動合作<em></em>\r\n",
      "                            </a>\r\n",
      "                            </div>\r\n",
      "\r\n",
      "                            </div>\r\n",
      "<div class=\"list_line\"></div>\r\n",
      "\r\n",
      "                                </div>\r\n",
      "                            </li>\r\n",
      "<li class=\"nav_ticket\" ><a href=\"/tw/SiteMap/#T\" title = \"購票資訊\">購票資訊</a>\r\n",
      "                                <div class=\"dl\">\r\n",
      "                                    <div class=\"first_list\">\r\n",
      "                                        <div class=\"has_photo_list\"><img src=\"/Content/UploadFiles/index/nav_ticket.jpg\" width=\"200\" height=\"120\" alt=\"購票資訊\" title = \"購票資訊\"></div>\r\n",
      "                                        <div title =最新的購票優惠及列車資訊，快速掌握高鐵動態。 class=\"photo_list_word\">最新的購票優惠及列車資訊，快速掌握高鐵動態。</div>\r\n",
      "                                    </div>\r\n",
      "                                    <div class=\"list_area list_area_tw\"> \r\n",
      "                                <div title =\"票種說明\" class=\"dtnolink\">票種說明</div>\r\n",
      "<div class=\"dd\">\r\n",
      "                            <a title = \"票價產品一覽表\"  href=\"/tw/Article/ArticleContent/caa6fac8-b875-4ad6-b1e6-96c2902d12a6\" alt = \"票價產品一覽表\"  >\r\n",
      "                            票價產品一覽表<em></em>\r\n",
      "                            </a>\r\n",
      "                            </div>\r\n",
      "<div title =\"如何購票\" class=\"dtnolink\">如何購票</div>\r\n",
      "<div class=\"dd\">\r\n",
      "                            <a title = \"網路訂票\"  href=\"/tw/Article/ArticleContent/dea241a9-fe69-4e9d-b9a5-6caed6e486d6\" alt = \"網路訂票\"  >\r\n",
      "                            網路訂票\r\n",
      "                            </a>\r\n",
      "                            </div>\r\n",
      "<div class=\"dd\">\r\n",
      "                            <a title = \"T Express 手機購票\"  href=\"/tw/Article/ArticleContent/4d262503-84bc-4963-a58e-4ca1a6453ad3\" alt = \"T Express 手機購票\"  >\r\n",
      "                            T Express 手機購票\r\n",
      "                            </a>\r\n",
      "                            </div>\r\n",
      "<div class=\"dd\">\r\n",
      "                            <a title = \"便利商店購票\"  href=\"/tw/Article/ArticleContent/baba745a-d802-440c-b762-3eef37b96b60\" alt = \"便利商店購票\"  >\r\n",
      "                            便利商店購票\r\n",
      "                            </a>\r\n",
      "                            </div>\r\n",
      "<div class=\"dd\">\r\n",
      "                            <a title = \"自動語音訂位服務\"  href=\"/tw/Article/ArticleContent/7a96ad53-6efa-4c58-bb17-70c9f649b4e3\" alt = \"自動語音訂位服務\"  >\r\n",
      "                            自動語音訂位服務\r\n",
      "                            </a>\r\n",
      "                            </div>\r\n",
      "<div class=\"dd\">\r\n",
      "                            <a title = \"自動售票機購票\"  href=\"/tw/Article/ArticleContent/6be4173c-91dc-4d06-ae3e-a19de420a237\" alt = \"自動售票機購票\"  >\r\n",
      "                            自動售票機購票\r\n",
      "                            </a>\r\n",
      "                            </div>\r\n",
      "\r\n",
      "                            </div>\r\n",
      "<div class=\"list_line\"></div>\r\n",
      "<div class=\"list_area list_area_tw\"> \r\n",
      "                                <div class=\"dd\">\r\n",
      "                            <a title = \"團體訂票\"  href=\"/tw/Article/ArticleContent/41421730-b8ab-4fe3-b251-89e32cba8453\" alt = \"團體訂票\"  >\r\n",
      "                            團體訂票\r\n",
      "                            </a>\r\n",
      "                            </div>\r\n",
      "<div class=\"dd\">\r\n",
      "                            <a title = \"車站窗口購票\"  href=\"/tw/Article/ArticleContent/43d5e5e2-3777-46b9-bc8f-8b5b579b50ed\" alt = \"車站窗口購票\"  >\r\n",
      "                            車站窗口購票\r\n",
      "                            </a>\r\n",
      "                            </div>\r\n",
      "<div class=\"dd\">\r\n",
      "                            <a title = \"悠遊聯名卡\"  href=\"/tw/Article/ArticleContent/27bf64ed-5a99-4c0f-9021-dbe609998cdb\" alt = \"悠遊聯名卡\"  >\r\n",
      "                            悠遊聯名卡\r\n",
      "                            </a>\r\n",
      "                            </div>\r\n",
      "<div class=\"dd\">\r\n",
      "                            <a title = \"無障礙服務\"  href=\"/tw/Article/ArticleContent/dba4ecd0-5ef0-45d2-aa64-bcecdf7d5fde\" alt = \"無障礙服務\"  >\r\n",
      "                            無障礙服務<em></em>\r\n",
      "                            </a>\r\n",
      "                            </div>\r\n",
      "<div title =\"快速查詢\" class=\"dtnolink\">快速查詢</div>\r\n",
      "<div class=\"dd\">\r\n",
      "                            <a title = \"時刻表與票價查詢\"  href=\"/tw/TimeTable/SearchResult\" alt = \"時刻表與票價查詢\"  >\r\n",
      "                            時刻表與票價查詢\r\n",
      "                            </a>\r\n",
      "                            </div>\r\n",
      "<div class=\"dd\">\r\n",
      "                            <a title = \"T Express 搭乘紀錄[將另開新視窗 ]\"  href=\"http://www4.thsrc.com.tw/tc/TExp/page_01.asp\" alt = \"T Express 搭乘紀錄[將另開新視窗 ]\" target=\"_blank\" >\r\n",
      "                            T Express 搭乘紀錄<span style='display:none;'>[將另開新視窗 ]</span>\r\n",
      "                            </a>\r\n",
      "                            </div>\r\n",
      "<div class=\"dd\">\r\n",
      "                            <a title = \"回數 / 定期票搭乘紀錄[將另開新視窗 ]\"  href=\"http://www4.thsrc.com.tw/webEQM/page_01.asp\" alt = \"回數 / 定期票搭乘紀錄[將另開新視窗 ]\" target=\"_blank\" >\r\n",
      "                            回數 / 定期票搭乘紀錄<span style='display:none;'>[將另開新視窗 ]</span>\r\n",
      "                            </a>\r\n",
      "                            </div>\r\n",
      "\r\n",
      "                            </div>\r\n",
      "<div class=\"list_line\"></div>\r\n",
      "<div class=\"list_area list_area_tw\"> \r\n",
      "                                <div class=\"dd\">\r\n",
      "                            <a title = \"悠遊聯名卡搭乘紀錄[將另開新視窗 ]\"  href=\"http://queryweb.tscc.com.tw/thsrc_web/\" alt = \"悠遊聯名卡搭乘紀錄[將另開新視窗 ]\" target=\"_blank\" >\r\n",
      "                            悠遊聯名卡搭乘紀錄<span style='display:none;'>[將另開新視窗 ]</span><span style='display:none;'>[將另開新視窗 ]</span><em></em>\r\n",
      "                            </a>\r\n",
      "                            </div>\r\n",
      "<div title =\"企業會員\" class=\"dtnolink\">企業會員</div>\r\n",
      "<div class=\"dd\">\r\n",
      "                            <a title = \"加入企業會員\"  href=\"http://www.thsrc.com.tw/tw/Article/ArticleContent/376238fd-2f6d-48f8-b070-9f2ea61b14b5\" alt = \"加入企業會員\"  >\r\n",
      "                            加入企業會員<em></em>\r\n",
      "                            </a>\r\n",
      "                            </div>\r\n",
      "<div title =\"相關法規\" class=\"dtnolink\">相關法規</div>\r\n",
      "<div class=\"dd\">\r\n",
      "                            <a title = \"相關法規\"  href=\"/tw/Article/ArticleContent/7de57796-db08-4d94-b183-bd62618859db\" alt = \"相關法規\"  >\r\n",
      "                            相關法規<em></em>\r\n",
      "                            </a>\r\n",
      "                            </div>\r\n",
      "\r\n",
      "                            </div>\r\n",
      "<div class=\"list_line\"></div>\r\n",
      "\r\n",
      "                                </div>\r\n",
      "                            </li>\r\n",
      "<li class=\"nav_info\" ><a href=\"/tw/SiteMap/#C\" title = \"乘車指南\">乘車指南</a>\r\n",
      "                                <div class=\"dl\">\r\n",
      "                                    <div class=\"first_list\">\r\n",
      "                                        <div class=\"has_photo_list\"><img src=\"/Content/UploadFiles/index/nav_info.jpg\" width=\"200\" height=\"120\" alt=\"乘車指南\" title = \"乘車指南\"></div>\r\n",
      "                                        <div title =舒適的環境及便捷的交通轉乘，高鐵與您共創美好旅程。 class=\"photo_list_word\">舒適的環境及便捷的交通轉乘，高鐵與您共創美好旅程。</div>\r\n",
      "                                    </div>\r\n",
      "                                    <div class=\"list_area list_area_tw\"> \r\n",
      "                                <div title =\"車站資訊\" class=\"dtnolink\">車站資訊</div>\r\n",
      "<div class=\"dd\">\r\n",
      "                            <a title = \"台北站\"  href=\"http://www.thsrc.com.tw/tw/StationInfo/prospect/977abb69-413a-4ccf-a109-0272c24fd490\" alt = \"台北站\"  >\r\n",
      "                            台北站\r\n",
      "                            </a>\r\n",
      "                            </div>\r\n",
      "<div class=\"dd\">\r\n",
      "                            <a title = \"板橋站\"  href=\"/tw/StationInfo/Prospect/e6e26e66-7dc1-458f-b2f3-71ce65fdc95f\" alt = \"板橋站\"  >\r\n",
      "                            板橋站\r\n",
      "                            </a>\r\n",
      "                            </div>\r\n",
      "<div class=\"dd\">\r\n",
      "                            <a title = \"桃園站\"  href=\"/tw/StationInfo/Prospect/fbd828d8-b1da-4b06-a3bd-680cdca4d2cd\" alt = \"桃園站\"  >\r\n",
      "                            桃園站\r\n",
      "                            </a>\r\n",
      "                            </div>\r\n",
      "<div class=\"dd\">\r\n",
      "                            <a title = \"新竹站\"  href=\"/tw/StationInfo/Prospect/a7a04c89-900b-4798-95a3-c01c455622f4\" alt = \"新竹站\"  >\r\n",
      "                            新竹站\r\n",
      "                            </a>\r\n",
      "                            </div>\r\n",
      "<div class=\"dd\">\r\n",
      "                            <a title = \"台中站\"  href=\"/tw/StationInfo/Prospect/3301e395-46b8-47aa-aa37-139e15708779\" alt = \"台中站\"  >\r\n",
      "                            台中站\r\n",
      "                            </a>\r\n",
      "                            </div>\r\n",
      "<div class=\"dd\">\r\n",
      "                            <a title = \"嘉義站\"  href=\"/tw/StationInfo/Prospect/60831846-f0e4-47f6-9b5b-46323ebdcef7\" alt = \"嘉義站\"  >\r\n",
      "                            嘉義站\r\n",
      "                            </a>\r\n",
      "                            </div>\r\n",
      "<div class=\"dd\">\r\n",
      "                            <a title = \"台南站\"  href=\"/tw/StationInfo/Prospect/9c5ac6ca-ec89-48f8-aab0-41b738cb1814\" alt = \"台南站\"  >\r\n",
      "                            台南站\r\n",
      "                            </a>\r\n",
      "                            </div>\r\n",
      "\r\n",
      "                            </div>\r\n",
      "<div class=\"list_line\"></div>\r\n",
      "<div class=\"list_area list_area_tw\"> \r\n",
      "                                <div class=\"dd\">\r\n",
      "                            <a title = \"左營站\"  href=\"/tw/StationInfo/Prospect/f2519629-5973-4d08-913b-479cce78a356\" alt = \"左營站\"  >\r\n",
      "                            左營站<em></em>\r\n",
      "                            </a>\r\n",
      "                            </div>\r\n",
      "<div title =\"轉乘服務\" class=\"dtnolink\">轉乘服務</div>\r\n",
      "<div class=\"dd\">\r\n",
      "                            <a title = \"轉乘服務總覽\"  href=\"/tw/Article/ArticleContent/c2a8fd9d-ced6-43b1-9297-9eab4127b5ff\" alt = \"轉乘服務總覽\"  >\r\n",
      "                            轉乘服務總覽<em></em>\r\n",
      "                            </a>\r\n",
      "                            </div>\r\n",
      "<div title =\"服務與設施\" class=\"dtnolink\">服務與設施</div>\r\n",
      "<div class=\"dd\">\r\n",
      "                            <a title = \"服務與設施總覽\"  href=\"/tw/Article/ArticleContent/9915abee-dc70-4ba3-9f6d-c425873c3475\" alt = \"服務與設施總覽\"  >\r\n",
      "                            服務與設施總覽\r\n",
      "                            </a>\r\n",
      "                            </div>\r\n",
      "<div class=\"dd\">\r\n",
      "                            <a title = \"無障礙服務\"  href=\"http://www.thsrc.com.tw/tw/Article/ArticleContent/dba4ecd0-5ef0-45d2-aa64-bcecdf7d5fde\" alt = \"無障礙服務\"  >\r\n",
      "                            無障礙服務\r\n",
      "                            </a>\r\n",
      "                            </div>\r\n",
      "<div class=\"dd\">\r\n",
      "                            <a title = \"車廂介紹\"  href=\"/tw/StationInfo/Accommondation\" alt = \"車廂介紹\"  >\r\n",
      "                            車廂介紹\r\n",
      "                            </a>\r\n",
      "                            </div>\r\n",
      "<div class=\"dd\">\r\n",
      "                            <a title = \"車廂服務介紹\"  href=\"/tw/Article/ArticleContent/feb91116-8a73-46b7-a6b7-f115a3137ccf\" alt = \"車廂服務介紹\"  >\r\n",
      "                            車廂服務介紹\r\n",
      "                            </a>\r\n",
      "                            </div>\r\n",
      "\r\n",
      "                            </div>\r\n",
      "<div class=\"list_line\"></div>\r\n",
      "<div class=\"list_area list_area_tw\"> \r\n",
      "                                <div class=\"dd\">\r\n",
      "                            <a title = \"多功能會議室\"  href=\"/tw/Article/ArticleContent/347fa4fb-479d-4a90-b5aa-e0ba9b22ed41\" alt = \"多功能會議室\"  >\r\n",
      "                            多功能會議室<em></em>\r\n",
      "                            </a>\r\n",
      "                            </div>\r\n",
      "<div title =\"乘車安全\" class=\"dtnolink\">乘車安全</div>\r\n",
      "<div class=\"dd\">\r\n",
      "                            <a title = \"列車安全\"  href=\"/tw/Article/ArticleContent/33741541-0f76-4397-a3f7-44367240a344\" alt = \"列車安全\"  >\r\n",
      "                            列車安全\r\n",
      "                            </a>\r\n",
      "                            </div>\r\n",
      "<div class=\"dd\">\r\n",
      "                            <a title = \"車站安全\"  href=\"/tw/Article/ArticleContent/b47a688b-2115-4719-88bf-3b8b740d73e1\" alt = \"車站安全\"  >\r\n",
      "                            車站安全\r\n",
      "                            </a>\r\n",
      "                            </div>\r\n",
      "<div class=\"dd\">\r\n",
      "                            <a title = \"鐵路安全\"  href=\"/tw/Article/ArticleContent/9780e036-5fdb-4c48-8732-1242beafafbd\" alt = \"鐵路安全\"  >\r\n",
      "                            鐵路安全<em></em>\r\n",
      "                            </a>\r\n",
      "                            </div>\r\n",
      "<div title =\"享樂購物趣\" class=\"dtnolink\">享樂購物趣</div>\r\n",
      "<div class=\"dd\">\r\n",
      "                            <a title = \"列車販售\"  href=\"/tw/TShop/TrainShopping\" alt = \"列車販售\"  >\r\n",
      "                            列車販售\r\n",
      "                            </a>\r\n",
      "                            </div>\r\n",
      "<div class=\"dd\">\r\n",
      "                            <a title = \"紀念商品\"  href=\"/tw/Souvenir\" alt = \"紀念商品\"  >\r\n",
      "                            紀念商品\r\n",
      "                            </a>\r\n",
      "                            </div>\r\n",
      "\r\n",
      "                            </div>\r\n",
      "<div class=\"list_line\"></div>\r\n",
      "<div class=\"list_area list_area_tw\"> \r\n",
      "                                <div class=\"dd\">\r\n",
      "                            <a title = \"高鐵市集\"  href=\"/tw/Tmarket/Index/3301e395-46b8-47aa-aa37-139e15708779\" alt = \"高鐵市集\"  >\r\n",
      "                            高鐵市集\r\n",
      "                            </a>\r\n",
      "                            </div>\r\n",
      "<div class=\"dd\">\r\n",
      "                            <a title = \"車站販售\"  href=\"/tw/TShop/FoodCourt\" alt = \"車站販售\"  >\r\n",
      "                            車站販售<em></em>\r\n",
      "                            </a>\r\n",
      "                            </div>\r\n",
      "<div title =\"注意事項\" class=\"dtnolink\">注意事項</div>\r\n",
      "<div class=\"dd\">\r\n",
      "                            <a title = \"乘車須知\"  href=\"/tw/Article/ArticleContent/2f73bfbb-d9bb-400e-b806-f6c5ba539368\" alt = \"乘車須知\"  >\r\n",
      "                            乘車須知\r\n",
      "                            </a>\r\n",
      "                            </div>\r\n",
      "<div class=\"dd\">\r\n",
      "                            <a title = \"驗票閘門及通關\"  href=\"/tw/Article/ArticleContent/4f77e9e6-f337-4af4-8f60-fbd6054e608f\" alt = \"驗票閘門及通關\"  >\r\n",
      "                            驗票閘門及通關<em></em>\r\n",
      "                            </a>\r\n",
      "                            </div>\r\n",
      "<div title =\"高鐵百科\" class=\"dtnolink\">高鐵百科</div>\r\n",
      "<div class=\"dd\">\r\n",
      "                            <a title = \"地震防護與應變[將另開新視窗 ]\"  href=\"http://www.thsrc.com.tw/event/Encyclopedia/Earthquake/index.html\" alt = \"地震防護與應變[將另開新視窗 ]\" target=\"_blank\" >\r\n",
      "                            地震防護與應變<span style='display:none;'>[將另開新視窗 ]</span><span style='display:none;'>[將另開新視窗 ]</span><em></em>\r\n",
      "                            </a>\r\n",
      "                            </div>\r\n",
      "\r\n",
      "                            </div>\r\n",
      "\r\n",
      "                                </div>\r\n",
      "                            </li>\r\n",
      "<li class=\"nav_about\" ><a href=\"/tw/Article/ArticleContent/841afa46-f7d7-4747-889c-b03469fdb455\" title = \"關於高鐵\">關於高鐵</a>\r\n",
      "                                <div class=\"dl\">\r\n",
      "                                    <div class=\"first_list\">\r\n",
      "                                        <div class=\"has_photo_list\"><img src=\"/Content/UploadFiles/index/nav_about.jpg\" width=\"200\" height=\"120\" alt=\"關於高鐵\" title = \"關於高鐵\"></div>\r\n",
      "                                        <div title =旅遊購物輕鬆滿足，高鐵生活好便利！ class=\"photo_list_word\">旅遊購物輕鬆滿足，高鐵生活好便利！</div>\r\n",
      "                                    </div>\r\n",
      "                                    <div class=\"list_area list_area_tw\"> \r\n",
      "                                <div title =\"企業資訊\" class=\"dtnolink\">企業資訊</div>\r\n",
      "<div class=\"dd\">\r\n",
      "                            <a title = \"企業社會責任[將另開新視窗 ]\"  href=\"http://www2.thsrc.com.tw/Content/UploadFiles/CorporateResponsibility.pdf\" alt = \"企業社會責任[將另開新視窗 ]\" target=\"_blank\" >\r\n",
      "                            企業社會責任<span style='display:none;'>[將另開新視窗 ]</span>\r\n",
      "                            </a>\r\n",
      "                            </div>\r\n",
      "<div class=\"dd\">\r\n",
      "                            <a title = \"組織系統圖\"  href=\"/tw/Article/ArticleContent/07a19853-350d-42e4-b0c6-5bdd76c3ce7d\" alt = \"組織系統圖\"  >\r\n",
      "                            組織系統圖\r\n",
      "                            </a>\r\n",
      "                            </div>\r\n",
      "<div class=\"dd\">\r\n",
      "                            <a title = \"董事會及經營團隊\"  href=\"/tw/Article/ArticleContent/eba2a49b-df9a-4955-9582-d3bfab0892d5\" alt = \"董事會及經營團隊\"  >\r\n",
      "                            董事會及經營團隊\r\n",
      "                            </a>\r\n",
      "                            </div>\r\n",
      "<div class=\"dd\">\r\n",
      "                            <a title = \"大事紀要\"  href=\"/tw/Article/ArticleContent/b792e45d-5416-469b-82fd-ed383bef4691\" alt = \"大事紀要\"  >\r\n",
      "                            大事紀要\r\n",
      "                            </a>\r\n",
      "                            </div>\r\n",
      "<div class=\"dd\">\r\n",
      "                            <a title = \"企業識別\"  href=\"/tw/Article/ArticleContent/605d1cb2-2d98-4d73-9586-7e8363ee44e3\" alt = \"企業識別\"  >\r\n",
      "                            企業識別\r\n",
      "                            </a>\r\n",
      "                            </div>\r\n",
      "<div class=\"dd\">\r\n",
      "                            <a title = \"專業認證\"  href=\"/tw/Article/ArticleContent/63d60a32-0600-4cd7-ac37-6ad8316b7f1e\" alt = \"專業認證\"  >\r\n",
      "                            專業認證\r\n",
      "                            </a>\r\n",
      "                            </div>\r\n",
      "<div class=\"dd\">\r\n",
      "                            <a title = \"環保與研發支出資訊\"  href=\"/tw/Article/ArticleContent/34d8a763-9a98-4478-919c-6b88d07fecaa\" alt = \"環保與研發支出資訊\"  >\r\n",
      "                            環保與研發支出資訊\r\n",
      "                            </a>\r\n",
      "                            </div>\r\n",
      "\r\n",
      "                            </div>\r\n",
      "<div class=\"list_line\"></div>\r\n",
      "<div class=\"list_area list_area_tw\"> \r\n",
      "                                <div class=\"dd\">\r\n",
      "                            <a title = \"高速鐵路運輸服務碳足跡\"  href=\"/tw/Article/ArticleContent/5a1f4c72-b564-4706-bcdd-efbda93c3d93\" alt = \"高速鐵路運輸服務碳足跡\"  >\r\n",
      "                            高速鐵路運輸服務碳足跡<em></em>\r\n",
      "                            </a>\r\n",
      "                            </div>\r\n",
      "<div title =\"營運現狀\" class=\"dtnolink\">營運現狀</div>\r\n",
      "<div class=\"dd\">\r\n",
      "                            <a title = \"營運業務說明\"  href=\"/tw/Article/ArticleContent/102eeb32-1dd5-4b3d-85d3-c25de33469aa\" alt = \"營運業務說明\"  >\r\n",
      "                            營運業務說明\r\n",
      "                            </a>\r\n",
      "                            </div>\r\n",
      "<div class=\"dd\">\r\n",
      "                            <a title = \"營運年度概況\"  href=\"/tw/Article/ArticleContent/1e07f685-045e-403c-bf92-88c2d86bf826\" alt = \"營運年度概況\"  >\r\n",
      "                            營運年度概況\r\n",
      "                            </a>\r\n",
      "                            </div>\r\n",
      "<div class=\"dd\">\r\n",
      "                            <a title = \"站區開發\"  href=\"/tw/Article/ArticleContent/d2fb4fb6-4ccd-47c0-ba25-4d69ae08dda7\" alt = \"站區開發\"  >\r\n",
      "                            站區開發\r\n",
      "                            </a>\r\n",
      "                            </div>\r\n",
      "<div class=\"dd\">\r\n",
      "                            <a title = \"新建車站\"  href=\"/tw/Article/ArticleContent/b4ee3c28-9058-4575-adfb-94b294441260\" alt = \"新建車站\"  >\r\n",
      "                            新建車站<em></em>\r\n",
      "                            </a>\r\n",
      "                            </div>\r\n",
      "<div title =\"股務資訊\" class=\"dtnolink\">股務資訊</div>\r\n",
      "<div class=\"dd\">\r\n",
      "                            <a title = \"基本資料\"  href=\"/tw/StockInfo/Index\" alt = \"基本資料\"  >\r\n",
      "                            基本資料\r\n",
      "                            </a>\r\n",
      "                            </div>\r\n",
      "\r\n",
      "                            </div>\r\n",
      "<div class=\"list_line\"></div>\r\n",
      "<div class=\"list_area list_area_tw\"> \r\n",
      "                                <div class=\"dd\">\r\n",
      "                            <a title = \"文件下載\"  href=\"/tw/StockInfo/DocumentDownload\" alt = \"文件下載\"  >\r\n",
      "                            文件下載\r\n",
      "                            </a>\r\n",
      "                            </div>\r\n",
      "<div class=\"dd\">\r\n",
      "                            <a title = \"重大訊息\"  href=\"/tw/StockInfo/GreatNewsIndex\" alt = \"重大訊息\"  >\r\n",
      "                            重大訊息\r\n",
      "                            </a>\r\n",
      "                            </div>\r\n",
      "<div class=\"dd\">\r\n",
      "                            <a title = \"自結損益\"  href=\"/tw/Article/ArticleContent/5aebf2ce-4186-463d-8a15-46234169e05b\" alt = \"自結損益\"  >\r\n",
      "                            自結損益<em></em>\r\n",
      "                            </a>\r\n",
      "                            </div>\r\n",
      "<div title =\"政策法規\" class=\"dtnolink\">政策法規</div>\r\n",
      "<div class=\"dd\">\r\n",
      "                            <a title = \"線上購票交易注意事項\"  href=\"/tw/Article/ArticleContent/291d80fe-080f-4442-90d0-9a9b82f119e5\" alt = \"線上購票交易注意事項\"  >\r\n",
      "                            線上購票交易注意事項\r\n",
      "                            </a>\r\n",
      "                            </div>\r\n",
      "<div class=\"dd\">\r\n",
      "                            <a title = \"個人資料保護專區\"  href=\"/tw/Article/ArticleContent/d1fa3bcb-a016-47e2-88c6-7b7cbed00ed5\" alt = \"個人資料保護專區\"  >\r\n",
      "                            個人資料保護專區\r\n",
      "                            </a>\r\n",
      "                            </div>\r\n",
      "<div class=\"dd\">\r\n",
      "                            <a title = \"相關法規\"  href=\"/tw/Article/ArticleContent/7de57796-db08-4d94-b183-bd62618859db\" alt = \"相關法規\"  >\r\n",
      "                            相關法規<em></em>\r\n",
      "                            </a>\r\n",
      "                            </div>\r\n",
      "<div title =\"合作夥伴\" class=\"dtnolink\">合作夥伴</div>\r\n",
      "\r\n",
      "                            </div>\r\n",
      "<div class=\"list_line\"></div>\r\n",
      "<div class=\"list_area list_area_tw\"> \r\n",
      "                                <div class=\"dd\">\r\n",
      "                            <a title = \"業務申辦 \"  href=\"/tw/Article/ArticleContent/4efcd63f-6d07-4363-8a52-26a4a4f462cb\" alt = \"業務申辦 \"  >\r\n",
      "                            業務申辦 <em></em>\r\n",
      "                            </a>\r\n",
      "                            </div>\r\n",
      "<div class=\"dt\">\r\n",
      "                            <a title = \"招標資訊\"  href=\"/tw/Tendering\" alt = \"招標資訊\"  >\r\n",
      "                            招標資訊<em></em>\r\n",
      "                            </a>\r\n",
      "                            </div>\r\n",
      "<div title =\"加入高鐵\" class=\"dtnolink\">加入高鐵</div>\r\n",
      "<div class=\"dd\">\r\n",
      "                            <a title = \"幸福高鐵\"  href=\"/tw/Article/ArticleContent/91918831-5417-459a-9774-312f31a66ca2\" alt = \"幸福高鐵\"  >\r\n",
      "                            幸福高鐵\r\n",
      "                            </a>\r\n",
      "                            </div>\r\n",
      "<div class=\"dd\">\r\n",
      "                            <a title = \"甄選流程\"  href=\"/tw/Article/ArticleContent/923049a0-10dd-4c2f-927b-66e470c9c16e\" alt = \"甄選流程\"  >\r\n",
      "                            甄選流程\r\n",
      "                            </a>\r\n",
      "                            </div>\r\n",
      "<div class=\"dd\">\r\n",
      "                            <a title = \"我要應徵[將另開新視窗 ]\"  href=\"http://ehrweb.104.com.tw/job.do?uno=16446274\" alt = \"我要應徵[將另開新視窗 ]\" target=\"_blank\" >\r\n",
      "                            我要應徵<span style='display:none;'>[將另開新視窗 ]</span><span style='display:none;'>[將另開新視窗 ]</span><em></em>\r\n",
      "                            </a>\r\n",
      "                            </div>\r\n",
      "\r\n",
      "                            </div>\r\n",
      "\r\n",
      "                                </div>\r\n",
      "                            </li>\r\n",
      "<li class=\"nav_life\">\r\n",
      "                                <a href=\"http://tholiday.thsrc.com.tw/\" alt = \"高鐵假期\" title = \"高鐵假期\" target=\"_blank\">高鐵假期</a>\r\n",
      "<li class=\"top_24hours\">\r\n",
      "                                <a href=\"https://irs.thsrc.com.tw/IMINT?locale=tw\" alt = \"24小時網路訂票\" title = \"24小時網路訂票\" target=\"_blank\">24小時網路訂票</a>\r\n",
      "\r\n",
      "    </ul>\r\n",
      "</nav>\r\n",
      "\r\n",
      "        </header>\r\n",
      "       \r\n",
      "\r\n",
      "       \r\n",
      "\r\n",
      "        <div id=\"printcontent\">\r\n",
      "            \r\n",
      "\r\n",
      "<aside class=\"ticket_bread\">\r\n",
      "    \r\n",
      "<div class=\"ticket_bread_left\">\r\n",
      "    <ul>\r\n",
      "\r\n",
      "               \r\n",
      "               <li class=\"ticket_bread_one\"><a title='首頁'  href=\"/\">首頁</a></li>\r\n",
      "            \r\n",
      "                    <li><a href=\"/tw/SiteMap/#T\" title='購票資訊'>購票資訊</a></li> \r\n",
      "                \r\n",
      "                    <li><a href=\"/tw\" title='快速查詢'>快速查詢</a></li> \r\n",
      "                \r\n",
      "                <li><a class=\"current\" href=\"javascript:;\" title='時刻表與票價查詢' style=\"cursor:default\">時刻表與票價查詢</a></li>\r\n",
      "                \r\n",
      "                   \r\n",
      "    <a href=\"/tw/sitemap/\" title=\"主要內容區\" accesskey=\"C\" tabindex=\"1000\" style=\"color:White\">:::</a> \t  \r\n",
      "    </ul>\r\n",
      "</div>\r\n",
      "<!--ticket_bread_left-->\r\n",
      "    <div class=\"ticket_bread_right\">\r\n",
      "        \r\n",
      "<!--Content_Start-->\r\n",
      "    \r\n",
      "    <noscript style=\"\r\n",
      "    position: absolute;\r\n",
      "    top: 55px;\r\n",
      "    right: 0px;\r\n",
      "    line-height: 18px;\r\n",
      "    width: 500px;\r\n",
      "    z-index:100;\r\n",
      "    background:#FFF;\r\n",
      "\" >\r\n",
      "    <p>友善列印SCRIPT，如您的瀏覽器不支援，請利用鍵盤按住Ctrl鍵 + P。 <br />\r\n",
      "     字級大小SCRIPT，如您的瀏覽器不支援，IE6請利用鍵盤按住ALT鍵 + V → X → (G)最大><br />\r\n",
      "     (L)較大(M)中(S)較小(A)小，來選擇適合您的文字大小，如為IE7或Firefoxy與Chrome瀏覽器則<br />\r\n",
      "     可利用鍵盤 Ctrl + (+)放大 (-)縮小來改變字型大小。</p>\r\n",
      "     </noscript>\r\n",
      "    <span class=\"wordSizeTitle\" title = \"字體大小\">字體大小</span>\r\n",
      "    <ol>\r\n",
      "        <li title = \"大\">大</li>\r\n",
      "        <li title = \"中\">中</li>\r\n",
      "        <li title = \"小\"  class=\"current\">小</li>\r\n",
      "    </ol>\r\n",
      "    \r\n",
      "    <a class=\"print_this\" href=\"javascript:;\" title=\"列印本頁\">列印本頁</a>\r\n",
      "   \r\n",
      "    <!--Content_End-->\r\n",
      "        <div class=\"listtleWeb\">\r\n",
      "                <a class=\"tick_facebook\" href=\"javascript:shareFacebook(location.href);\" title=\"facebook\">facebook</a>\r\n",
      "                <a class=\"tick_google\" href=\"javascript:shareGoogle('zh-TW', location.href);\" title=\"google\">google</a>\r\n",
      "                <a class=\"tick_twitter\" href=\"javascript:shareTwitter(location.href);\" title=\"twitter\">twitter</a>\r\n",
      "                <a class=\"tick_plurk\" href=\"javascript:sharePlurk(location.href);\" title=\"plurk\">plurk</a>\r\n",
      "        </div>\r\n",
      "    </div>\r\n",
      "</aside><!--ticket_bread-->\r\n",
      "<!--print js-->\r\n",
      "<script src=\"/Content/Script/printFunction.js\" type=\"text/javascript\"></script>\r\n",
      "<!--print js-->\r\n",
      "<script>\r\n",
      "    /*字體大小區-------------------------------------------------------------------------------------------*/\r\n",
      "    $(document).ready(function () {\r\n",
      "        $('.ticket_bread_right ol li').click(function () {\r\n",
      "            $('.ticket_bread_right ol li').removeClass('current');\r\n",
      "            $(this).addClass('current');\r\n",
      "            switch ($(this).index()) {\r\n",
      "                case 0:\r\n",
      "                    $('.word_size').css('font-size', '18px');\r\n",
      "                    break;\r\n",
      "                case 1:\r\n",
      "                    $('.word_size').css('font-size', '15px');\r\n",
      "                    break;\r\n",
      "                case 2:\r\n",
      "                    $('.word_size').css('font-size', '12px');\r\n",
      "                    break;\r\n",
      "\r\n",
      "            }\r\n",
      "\r\n",
      "        });\r\n",
      "        $('.ticket_bread_right ol li').keypress(function () {\r\n",
      "            $('.ticket_bread_right ol li').removeClass('current');\r\n",
      "            $(this).addClass('current');\r\n",
      "            switch ($(this).index()) {\r\n",
      "                case 0:\r\n",
      "                    $('.word_size').css('font-size', '18px');\r\n",
      "                    break;\r\n",
      "                case 1:\r\n",
      "                    $('.word_size').css('font-size', '15px');\r\n",
      "                    break;\r\n",
      "                case 2:\r\n",
      "                    $('.word_size').css('font-size', '12px');\r\n",
      "                    break;\r\n",
      "\r\n",
      "            }\r\n",
      "\r\n",
      "        });\r\n",
      "    });\r\n",
      "    /*字體大小區 End-------------------------------------------------------------------------------------------*/\r\n",
      "</script>\r\n",
      "<section class=\"common_content\">\r\n",
      "    <br/>\r\n",
      "    <h2 class=\"time_search_title\" title = \"時刻表與票價查詢\">時刻表與票價查詢</h2>\r\n",
      "    <section class=\"time_check time_check_tw\">\r\n",
      "        <h3 class=\"time_check_title time_check_title_tw\" title = \"請選擇查詢條件\">請選擇查詢條件 </h3>\r\n",
      "        <section class=\"time_check_left time_check_left_tw\">\r\n",
      "   \t\t    <form action=\"/tw/TimeTable/SearchResult\" id=\"formQuickTimeTableSearch\" method=\"post\" name=\"formQuickTimeTableSearch\">\r\n",
      "    <fieldset class=\"start_time\">\r\n",
      "        <label for=\"train_start\">出發站<em> : </em> </label>\r\n",
      "        <select id=\"StartStation\" name=\"StartStation\"  style=\"width: 155px;\" ><option value='' > 請選擇</option>\r\n",
      "<option value='977abb69-413a-4ccf-a109-0272c24fd490' selected> 台北站</option>\r\n",
      "<option value='e6e26e66-7dc1-458f-b2f3-71ce65fdc95f' > 板橋站</option>\r\n",
      "<option value='fbd828d8-b1da-4b06-a3bd-680cdca4d2cd' > 桃園站</option>\r\n",
      "<option value='a7a04c89-900b-4798-95a3-c01c455622f4' > 新竹站</option>\r\n",
      "<option value='3301e395-46b8-47aa-aa37-139e15708779' > 台中站</option>\r\n",
      "<option value='60831846-f0e4-47f6-9b5b-46323ebdcef7' > 嘉義站</option>\r\n",
      "<option value='9c5ac6ca-ec89-48f8-aab0-41b738cb1814' > 台南站</option>\r\n",
      "<option value='f2519629-5973-4d08-913b-479cce78a356' > 左營站</option>\r\n",
      "</select>\r\n",
      "\r\n",
      "    </fieldset>\r\n",
      "    <fieldset class=\"end_time end_time_tw\">\r\n",
      "        <label for=\"train_finish\">到達站<em> : </em></label>\r\n",
      "        <select id=\"EndStation\" name=\"EndStation\"  style=\"width: 155px;\" ><option value='' > 請選擇</option>\r\n",
      "<option value='977abb69-413a-4ccf-a109-0272c24fd490' > 台北站</option>\r\n",
      "<option value='e6e26e66-7dc1-458f-b2f3-71ce65fdc95f' > 板橋站</option>\r\n",
      "<option value='fbd828d8-b1da-4b06-a3bd-680cdca4d2cd' > 桃園站</option>\r\n",
      "<option value='a7a04c89-900b-4798-95a3-c01c455622f4' selected> 新竹站</option>\r\n",
      "<option value='3301e395-46b8-47aa-aa37-139e15708779' > 台中站</option>\r\n",
      "<option value='60831846-f0e4-47f6-9b5b-46323ebdcef7' > 嘉義站</option>\r\n",
      "<option value='9c5ac6ca-ec89-48f8-aab0-41b738cb1814' > 台南站</option>\r\n",
      "<option value='f2519629-5973-4d08-913b-479cce78a356' > 左營站</option>\r\n",
      "</select>\r\n",
      "\r\n",
      "    </fieldset>\r\n",
      "    <fieldset class=\"date_for date_for_tw\">\r\n",
      "        <label for=\"train_finish\">日 期<em> : </em></label>\r\n",
      "            <input class=\"datemodel train_data\" id=\"SearchDate\" name=\"SearchDate\" readonly=\"true\" size=\"12\" style=\"width: 125px;\" type=\"textbox\" value=\"2015/03/13\" /><script>\r\n",
      "$(document).ready(function() {\r\n",
      "$(\"#SearchDate\").datepicker(\"option\", \"minDate\", new Date(2015, 3 - 1, 13));\r\n",
      "$(\"#SearchDate\").datepicker(\"option\", \"maxDate\", new Date(2015, 4 - 1, 9));\r\n",
      "});\r\n",
      "</script>\r\n",
      " \r\n",
      "    </fieldset>\r\n",
      "    <fieldset class=\"which_time which_time_tw\">\r\n",
      "            <label for=\"train_finish\">時 間<em> : </em></label>\r\n",
      "            <select id=\"SearchTime\" name=\"SearchTime\" style=\"width: 100px;\"><option value=\"\">請選擇</option>\r\n",
      "<option value=\"06:00\">06:00</option>\r\n",
      "<option value=\"06:30\">06:30</option>\r\n",
      "<option value=\"07:00\">07:00</option>\r\n",
      "<option value=\"07:30\">07:30</option>\r\n",
      "<option value=\"08:00\">08:00</option>\r\n",
      "<option value=\"08:30\">08:30</option>\r\n",
      "<option value=\"09:00\">09:00</option>\r\n",
      "<option value=\"09:30\">09:30</option>\r\n",
      "<option value=\"10:00\">10:00</option>\r\n",
      "<option value=\"10:30\">10:30</option>\r\n",
      "<option value=\"11:00\">11:00</option>\r\n",
      "<option value=\"11:30\">11:30</option>\r\n",
      "<option value=\"12:00\">12:00</option>\r\n",
      "<option value=\"12:30\">12:30</option>\r\n",
      "<option value=\"13:00\">13:00</option>\r\n",
      "<option value=\"13:30\">13:30</option>\r\n",
      "<option value=\"14:00\">14:00</option>\r\n",
      "<option value=\"14:30\">14:30</option>\r\n",
      "<option value=\"15:00\">15:00</option>\r\n",
      "<option value=\"15:30\">15:30</option>\r\n",
      "<option value=\"16:00\">16:00</option>\r\n",
      "<option selected=\"selected\" value=\"16:30\">16:30</option>\r\n",
      "<option value=\"17:00\">17:00</option>\r\n",
      "<option value=\"17:30\">17:30</option>\r\n",
      "<option value=\"18:00\">18:00</option>\r\n",
      "<option value=\"18:30\">18:30</option>\r\n",
      "<option value=\"19:00\">19:00</option>\r\n",
      "<option value=\"19:30\">19:30</option>\r\n",
      "<option value=\"20:00\">20:00</option>\r\n",
      "<option value=\"20:30\">20:30</option>\r\n",
      "<option value=\"21:00\">21:00</option>\r\n",
      "<option value=\"21:30\">21:30</option>\r\n",
      "<option value=\"22:00\">22:00</option>\r\n",
      "<option value=\"22:30\">22:30</option>\r\n",
      "<option value=\"23:00\">23:00</option>\r\n",
      "<option value=\"23:30\">23:30</option>\r\n",
      "</select>                             \r\n",
      "             <label for=\"train_finish\"> </label>\r\n",
      "           <select id=\"SearchWay\" name=\"SearchWay\"  style=\"width: 60px;\" ><option value='DepartureInMandarin' selected> 出發</option>\r\n",
      "<option value='ArrivalInMandarin' > 抵達</option>\r\n",
      "</select>\r\n",
      " \r\n",
      "            <input id=\"RestTime\" name=\"RestTime\" type=\"hidden\" value=\"\" />\r\n",
      "            <input id=\"EarlyOrLater\" name=\"EarlyOrLater\" type=\"hidden\" value=\"\" />                            \r\n",
      "    </fieldset>\r\n",
      "</form>\r\n",
      "<a class=\"time_search_btn time_search_btn_tw\" href=\"javascript:;\"  onkeypress=\"QuickSearchSubmit()\" onclick=\"QuickSearchSubmit()\" title = \"立即查詢\">立即查詢</a>\r\n",
      "\r\n",
      "<script>\r\n",
      "    $(document).ready(function () {\r\n",
      "    \r\n",
      "    \r\n",
      "    });\r\n",
      "\r\n",
      "    function QuickSearchSubmit() {\r\n",
      "        var startStation = $(\"#StartStation\").val();\r\n",
      "        var endStation = $(\"#EndStation\").val();\r\n",
      "        var time = $(\"#SearchTime\").val();\r\n",
      "\r\n",
      "        if (startStation == \"\" || endStation == \"\")\r\n",
      "            alert(\"請選擇出發 / 到達站\");\r\n",
      "        else if (time == \"\")\r\n",
      "            alert(\"請選擇時間\");\r\n",
      "        else if (startStation == endStation)\r\n",
      "            alert(\"起站與迄站不能設為相同\");\r\n",
      "        else\r\n",
      "            $(\"#formQuickTimeTableSearch\").submit();\r\n",
      "    }\r\n",
      "\r\n",
      "    function RestTrainSubmit(restTime, earlyOrLater) {\r\n",
      "        $(\"#RestTime\").val(restTime);\r\n",
      "        $(\"#EarlyOrLater\").val(earlyOrLater);\r\n",
      "        QuickSearchSubmit();\r\n",
      "    }\r\n",
      "\r\n",
      "</script>\r\n",
      " <noscript>\r\n",
      " 請選擇出發 / 到達站\r\n",
      " 請選擇時間\r\n",
      " 起站與迄站不能設為相同\r\n",
      " </noscript>\r\n",
      "         \r\n",
      "        </section>\r\n",
      "        <section class=\"time_check_middle time_check_middle_tw\">\r\n",
      "            <h4 title = \"一週內時刻表\">週時刻表</h4>\r\n",
      "            <ul>\r\n",
      "                <li><a href=\"javascript:;\" onkeypress=\"JumpToOtherPage('/tw/TimeTable/WeeklyTimeTable/1', '1')\" onclick=\"JumpToOtherPage('/tw/TimeTable/WeeklyTimeTable/1', '1')\" title = \"南下時刻表[將另開新視窗 ]\" >南下時刻表<span style=\"display:none;\">[將另開新視窗 ]</span></a></li>\r\n",
      "                <li><a href=\"javascript:;\" onkeypress=\"JumpToOtherPage('/tw/TimeTable/WeeklyTimeTable/0', '1')\" onclick=\"JumpToOtherPage('/tw/TimeTable/WeeklyTimeTable/0', '1')\" title = \"北上時刻表[將另開新視窗 ]\" >北上時刻表<span style=\"display:none;\">[將另開新視窗 ]</span></a></li>\r\n",
      "            </ul>\r\n",
      "        </section><!--time_check_middle-->\r\n",
      "        \r\n",
      "<section class=\"time_check_right time_check_right_tw\">\r\n",
      "    <h4 title = \"時刻表下載\">時刻表下載</h4>\r\n",
      "    \r\n",
      "    <ul>\r\n",
      "        <li><a href=\"javascript:;\"  onkeypress=\"JumpToOtherPage('/UploadFiles/TicketFile/54c31aee-2d70-4479-a930-e6fded8c6279.pdf', '1')\" onclick=\"JumpToOtherPage('/UploadFiles/TicketFile/54c31aee-2d70-4479-a930-e6fded8c6279.pdf', '1')\" title  =\"2015清明假期時刻表\">2015清明假期時刻表</a></li>\r\n",
      "<li><a href=\"javascript:;\"  onkeypress=\"JumpToOtherPage('/UploadFiles/TicketFile/7687543e-bb52-4f63-89c9-0feb45a1a317.pdf', '1')\" onclick=\"JumpToOtherPage('/UploadFiles/TicketFile/7687543e-bb52-4f63-89c9-0feb45a1a317.pdf', '1')\" title  =\"2014/9/1起適用時刻表\">2014/9/1起適用時刻表</a></li>\r\n",
      "\r\n",
      "\t</ul>\r\n",
      "</section><!--time_check_right-->\r\n",
      "        <div class=\"clearfix\"></div>\r\n",
      "    </section>\r\n",
      "     \r\n",
      "        \r\n",
      "      <section class=\"time_check_result time_check_result_tw\">\r\n",
      "         <h2>Search Result</h2>\r\n",
      "         <ul>\r\n",
      "           \t<aside class=\"result_top result_top_tw\" >\r\n",
      "                               <h3>\r\n",
      "                                    <strong class=\"front\">台北站</strong>\r\n",
      "                                    <strong>新竹站</strong>\r\n",
      "                               </h3>\r\n",
      "                               <h4>2015/03/13(周五)</h4>\r\n",
      "                               <p>16:30 出發</p>\r\n",
      "                               <a class=\"check_N_S\" href=\"javascript:;\" onclick=\"JumpToOtherPage('/tw/TimeTable/DailyTimeTable/20150313', '1')\" OnKeypress=\"this.onclick()\" title = \"檢視2015/03/13時刻表（含南下/北上車次)\">檢視 2015/03/13 時刻表（含南下/北上車次) </a></aside><section class=\"result_table\">\r\n",
      "                                 <table>\r\n",
      "                                    <tr>\r\n",
      "                                        <th class=\"column1\" scope=\"col\">車次</th>\r\n",
      "                                        <th class=\"column3\" scope=\"col\">出發時間</th>\r\n",
      "                                        <th class=\"column4\" scope=\"col\">抵達時間</th>\r\n",
      "                                        <th class=\"column2\" scope=\"col\">備註</th>\r\n",
      "                                    </tr>\r\n",
      "                                    <tr>\r\n",
      "                                    <td class=\"toTouch\" colspan=\"4\">\r\n",
      "                                        <table class=\"touch_table\"><tr>\r\n",
      "                                            <td  class=\"column1\"><a href=\"javascript:;\" title = \"0721\">0721</a></td>\r\n",
      "                                            <td  class=\"column3\">16:36</td>\r\n",
      "                                            <td  class=\"column4\">17:08</td>\r\n",
      "                                            <td  class=\"column2\"></td>\r\n",
      "                                          </tr>\r\n",
      "                                        </table> \r\n",
      "                                        <div class=\"touch_show\">\r\n",
      "                                    <section class=\"touch_table_info touch_table_info_tw\">\r\n",
      "                                    \t\t<a class=\"touch_close\" href=\"#\" title = \"close\">close</a>\r\n",
      "                                            <h3><strong>0721 列車 </strong>停靠說明 </h3>\r\n",
      "                                               <ul>\r\n",
      "                                               <li class=\"station10 current\"><a href=\"javascript:;\" title = \"台北站\">台北站</a><em>16:36</em></li>\r\n",
      "<li class=\"station15 current\"><a href=\"javascript:;\" title = \"板橋站\">板橋站</a><em>16:44</em></li>\r\n",
      "<li class=\"station20 current\"><a href=\"javascript:;\" title = \"桃園站\">桃園站</a><em>16:57</em></li>\r\n",
      "<li class=\"station25 current\"><a href=\"javascript:;\" title = \"新竹站\">新竹站</a><em>17:10</em></li>\r\n",
      "<li class=\"station40 current\"><a href=\"javascript:;\" title = \"台中站\">台中站</a><em>17:38</em></li>\r\n",
      "<li class=\"station55 current\"><a href=\"javascript:;\" title = \"嘉義站\">嘉義站</a><em>18:02</em></li>\r\n",
      "<li class=\"station65 current\"><a href=\"javascript:;\" title = \"台南站\">台南站</a><em>18:21</em></li>\r\n",
      "<li class=\"station75 current\"><a href=\"javascript:;\" title = \"左營站\">左營站</a><em>18:36</em></li>\r\n",
      "\r\n",
      "                                               </ul>\r\n",
      "                                             <h4> </h4>\r\n",
      "                                    </section>\r\n",
      "                                 </div> \r\n",
      " \r\n",
      "                                    </td>\r\n",
      "                                  </tr>\r\n",
      "<tr>\r\n",
      "                                    <td class=\"toTouch\" colspan=\"4\">\r\n",
      "                                        <table class=\"touch_table\"><tr>\r\n",
      "                                            <td  class=\"column1\"><a href=\"javascript:;\" title = \"0725\">0725</a></td>\r\n",
      "                                            <td  class=\"column3\">17:00</td>\r\n",
      "                                            <td  class=\"column4\">17:31</td>\r\n",
      "                                            <td  class=\"column2\"></td>\r\n",
      "                                          </tr>\r\n",
      "                                        </table> \r\n",
      "                                        <div class=\"touch_show\">\r\n",
      "                                    <section class=\"touch_table_info touch_table_info_tw\">\r\n",
      "                                    \t\t<a class=\"touch_close\" href=\"#\" title = \"close\">close</a>\r\n",
      "                                            <h3><strong>0725 列車 </strong>停靠說明 </h3>\r\n",
      "                                               <ul>\r\n",
      "                                               <li class=\"station10 current\"><a href=\"javascript:;\" title = \"台北站\">台北站</a><em>17:00</em></li>\r\n",
      "<li class=\"station15 current\"><a href=\"javascript:;\" title = \"板橋站\">板橋站</a><em>17:08</em></li>\r\n",
      "<li class=\"station20 current\"><a href=\"javascript:;\" title = \"桃園站\">桃園站</a><em>17:21</em></li>\r\n",
      "<li class=\"station25 current\"><a href=\"javascript:;\" title = \"新竹站\">新竹站</a><em>17:33</em></li>\r\n",
      "<li class=\"station40 current\"><a href=\"javascript:;\" title = \"台中站\">台中站</a><em>18:01</em></li>\r\n",
      "<li class=\"station55 current\"><a href=\"javascript:;\" title = \"嘉義站\">嘉義站</a><em>18:26</em></li>\r\n",
      "<li class=\"station65 current\"><a href=\"javascript:;\" title = \"台南站\">台南站</a><em>18:45</em></li>\r\n",
      "<li class=\"station75 current\"><a href=\"javascript:;\" title = \"左營站\">左營站</a><em>19:00</em></li>\r\n",
      "\r\n",
      "                                               </ul>\r\n",
      "                                             <h4> </h4>\r\n",
      "                                    </section>\r\n",
      "                                 </div> \r\n",
      " \r\n",
      "                                    </td>\r\n",
      "                                  </tr>\r\n",
      "<tr>\r\n",
      "                                    <td class=\"toTouch\" colspan=\"4\">\r\n",
      "                                        <table class=\"touch_table\"><tr>\r\n",
      "                                            <td  class=\"column1\"><a href=\"javascript:;\" title = \"1727\">1727</a></td>\r\n",
      "                                            <td  class=\"column3\">17:18</td>\r\n",
      "                                            <td  class=\"column4\">17:49</td>\r\n",
      "                                            <td  class=\"column2\"></td>\r\n",
      "                                          </tr>\r\n",
      "                                        </table> \r\n",
      "                                        <div class=\"touch_show\">\r\n",
      "                                    <section class=\"touch_table_info touch_table_info_tw\">\r\n",
      "                                    \t\t<a class=\"touch_close\" href=\"#\" title = \"close\">close</a>\r\n",
      "                                            <h3><strong>1727 列車 </strong>停靠說明 </h3>\r\n",
      "                                               <ul>\r\n",
      "                                               <li class=\"station10 current\"><a href=\"javascript:;\" title = \"台北站\">台北站</a><em>17:18</em></li>\r\n",
      "<li class=\"station15 current\"><a href=\"javascript:;\" title = \"板橋站\">板橋站</a><em>17:26</em></li>\r\n",
      "<li class=\"station20 current\"><a href=\"javascript:;\" title = \"桃園站\">桃園站</a><em>17:39</em></li>\r\n",
      "<li class=\"station25 current\"><a href=\"javascript:;\" title = \"新竹站\">新竹站</a><em>17:51</em></li>\r\n",
      "<li class=\"station40 current\"><a href=\"javascript:;\" title = \"台中站\">台中站</a><em>18:19</em></li>\r\n",
      "<li class=\"station55 current\"><a href=\"javascript:;\" title = \"嘉義站\">嘉義站</a><em>18:44</em></li>\r\n",
      "<li class=\"station65 current\"><a href=\"javascript:;\" title = \"台南站\">台南站</a><em>19:03</em></li>\r\n",
      "<li class=\"station75 current\"><a href=\"javascript:;\" title = \"左營站\">左營站</a><em>19:18</em></li>\r\n",
      "\r\n",
      "                                               </ul>\r\n",
      "                                             <h4> </h4>\r\n",
      "                                    </section>\r\n",
      "                                 </div> \r\n",
      " \r\n",
      "                                    </td>\r\n",
      "                                  </tr>\r\n",
      "<tr>\r\n",
      "                                    <td class=\"toTouch\" colspan=\"4\">\r\n",
      "                                        <table class=\"touch_table\"><tr>\r\n",
      "                                            <td  class=\"column1\"><a href=\"javascript:;\" title = \"0729\">0729</a></td>\r\n",
      "                                            <td  class=\"column3\">17:36</td>\r\n",
      "                                            <td  class=\"column4\">18:08</td>\r\n",
      "                                            <td  class=\"column2\"></td>\r\n",
      "                                          </tr>\r\n",
      "                                        </table> \r\n",
      "                                        <div class=\"touch_show\">\r\n",
      "                                    <section class=\"touch_table_info touch_table_info_tw\">\r\n",
      "                                    \t\t<a class=\"touch_close\" href=\"#\" title = \"close\">close</a>\r\n",
      "                                            <h3><strong>0729 列車 </strong>停靠說明 </h3>\r\n",
      "                                               <ul>\r\n",
      "                                               <li class=\"station10 current\"><a href=\"javascript:;\" title = \"台北站\">台北站</a><em>17:36</em></li>\r\n",
      "<li class=\"station15 current\"><a href=\"javascript:;\" title = \"板橋站\">板橋站</a><em>17:44</em></li>\r\n",
      "<li class=\"station20 current\"><a href=\"javascript:;\" title = \"桃園站\">桃園站</a><em>17:57</em></li>\r\n",
      "<li class=\"station25 current\"><a href=\"javascript:;\" title = \"新竹站\">新竹站</a><em>18:10</em></li>\r\n",
      "<li class=\"station40 current\"><a href=\"javascript:;\" title = \"台中站\">台中站</a><em>18:38</em></li>\r\n",
      "<li class=\"station55 current\"><a href=\"javascript:;\" title = \"嘉義站\">嘉義站</a><em>19:02</em></li>\r\n",
      "<li class=\"station65 current\"><a href=\"javascript:;\" title = \"台南站\">台南站</a><em>19:21</em></li>\r\n",
      "<li class=\"station75 current\"><a href=\"javascript:;\" title = \"左營站\">左營站</a><em>19:36</em></li>\r\n",
      "\r\n",
      "                                               </ul>\r\n",
      "                                             <h4> </h4>\r\n",
      "                                    </section>\r\n",
      "                                 </div> \r\n",
      " \r\n",
      "                                    </td>\r\n",
      "                                  </tr>\r\n",
      "<tr>\r\n",
      "                                    <td class=\"toTouch\" colspan=\"4\">\r\n",
      "                                        <table class=\"touch_table\"><tr>\r\n",
      "                                            <td  class=\"column1\"><a href=\"javascript:;\" title = \"1527\">1527</a></td>\r\n",
      "                                            <td  class=\"column3\">17:48</td>\r\n",
      "                                            <td  class=\"column4\">18:20</td>\r\n",
      "                                            <td  class=\"column2\"></td>\r\n",
      "                                          </tr>\r\n",
      "                                        </table> \r\n",
      "                                        <div class=\"touch_show\">\r\n",
      "                                    <section class=\"touch_table_info touch_table_info_tw\">\r\n",
      "                                    \t\t<a class=\"touch_close\" href=\"#\" title = \"close\">close</a>\r\n",
      "                                            <h3><strong>1527 列車 </strong>停靠說明 </h3>\r\n",
      "                                               <ul>\r\n",
      "                                               <li class=\"station10 current\"><a href=\"javascript:;\" title = \"台北站\">台北站</a><em>17:48</em></li>\r\n",
      "<li class=\"station15 current\"><a href=\"javascript:;\" title = \"板橋站\">板橋站</a><em>17:56</em></li>\r\n",
      "<li class=\"station20 current\"><a href=\"javascript:;\" title = \"桃園站\">桃園站</a><em>18:09</em></li>\r\n",
      "<li class=\"station25 current\"><a href=\"javascript:;\" title = \"新竹站\">新竹站</a><em>18:22</em></li>\r\n",
      "<li class=\"station40 current\"><a href=\"javascript:;\" title = \"台中站\">台中站</a><em>18:49</em></li>\r\n",
      "<li class=\"station55 \"><a href=\"javascript:;\" title = \"嘉義站\">嘉義站</a><em></em></li>\r\n",
      "<li class=\"station65 \"><a href=\"javascript:;\" title = \"台南站\">台南站</a><em></em></li>\r\n",
      "<li class=\"station75 \"><a href=\"javascript:;\" title = \"左營站\">左營站</a><em></em></li>\r\n",
      "\r\n",
      "                                               </ul>\r\n",
      "                                             <h4> </h4>\r\n",
      "                                    </section>\r\n",
      "                                 </div> \r\n",
      " \r\n",
      "                                    </td>\r\n",
      "                                  </tr>\r\n",
      "<tr>\r\n",
      "                                    <td class=\"toTouch\" colspan=\"4\">\r\n",
      "                                        <table class=\"touch_table\"><tr>\r\n",
      "                                            <td  class=\"column1\"><a href=\"javascript:;\" title = \"0733\">0733</a></td>\r\n",
      "                                            <td  class=\"column3\">18:00</td>\r\n",
      "                                            <td  class=\"column4\">18:31</td>\r\n",
      "                                            <td  class=\"column2\"></td>\r\n",
      "                                          </tr>\r\n",
      "                                        </table> \r\n",
      "                                        <div class=\"touch_show\">\r\n",
      "                                    <section class=\"touch_table_info touch_table_info_tw\">\r\n",
      "                                    \t\t<a class=\"touch_close\" href=\"#\" title = \"close\">close</a>\r\n",
      "                                            <h3><strong>0733 列車 </strong>停靠說明 </h3>\r\n",
      "                                               <ul>\r\n",
      "                                               <li class=\"station10 current\"><a href=\"javascript:;\" title = \"台北站\">台北站</a><em>18:00</em></li>\r\n",
      "<li class=\"station15 current\"><a href=\"javascript:;\" title = \"板橋站\">板橋站</a><em>18:08</em></li>\r\n",
      "<li class=\"station20 current\"><a href=\"javascript:;\" title = \"桃園站\">桃園站</a><em>18:21</em></li>\r\n",
      "<li class=\"station25 current\"><a href=\"javascript:;\" title = \"新竹站\">新竹站</a><em>18:33</em></li>\r\n",
      "<li class=\"station40 current\"><a href=\"javascript:;\" title = \"台中站\">台中站</a><em>19:01</em></li>\r\n",
      "<li class=\"station55 current\"><a href=\"javascript:;\" title = \"嘉義站\">嘉義站</a><em>19:26</em></li>\r\n",
      "<li class=\"station65 current\"><a href=\"javascript:;\" title = \"台南站\">台南站</a><em>19:45</em></li>\r\n",
      "<li class=\"station75 current\"><a href=\"javascript:;\" title = \"左營站\">左營站</a><em>20:00</em></li>\r\n",
      "\r\n",
      "                                               </ul>\r\n",
      "                                             <h4> </h4>\r\n",
      "                                    </section>\r\n",
      "                                 </div> \r\n",
      " \r\n",
      "                                    </td>\r\n",
      "                                  </tr>\r\n",
      "<tr>\r\n",
      "                                    <td class=\"toTouch\" colspan=\"4\">\r\n",
      "                                        <table class=\"touch_table\"><tr>\r\n",
      "                                            <td  class=\"column1\"><a href=\"javascript:;\" title = \"1735\">1735</a></td>\r\n",
      "                                            <td  class=\"column3\">18:18</td>\r\n",
      "                                            <td  class=\"column4\">18:49</td>\r\n",
      "                                            <td  class=\"column2\"></td>\r\n",
      "                                          </tr>\r\n",
      "                                        </table> \r\n",
      "                                        <div class=\"touch_show\">\r\n",
      "                                    <section class=\"touch_table_info touch_table_info_tw\">\r\n",
      "                                    \t\t<a class=\"touch_close\" href=\"#\" title = \"close\">close</a>\r\n",
      "                                            <h3><strong>1735 列車 </strong>停靠說明 </h3>\r\n",
      "                                               <ul>\r\n",
      "                                               <li class=\"station10 current\"><a href=\"javascript:;\" title = \"台北站\">台北站</a><em>18:18</em></li>\r\n",
      "<li class=\"station15 current\"><a href=\"javascript:;\" title = \"板橋站\">板橋站</a><em>18:26</em></li>\r\n",
      "<li class=\"station20 current\"><a href=\"javascript:;\" title = \"桃園站\">桃園站</a><em>18:39</em></li>\r\n",
      "<li class=\"station25 current\"><a href=\"javascript:;\" title = \"新竹站\">新竹站</a><em>18:51</em></li>\r\n",
      "<li class=\"station40 current\"><a href=\"javascript:;\" title = \"台中站\">台中站</a><em>19:19</em></li>\r\n",
      "<li class=\"station55 current\"><a href=\"javascript:;\" title = \"嘉義站\">嘉義站</a><em>19:44</em></li>\r\n",
      "<li class=\"station65 current\"><a href=\"javascript:;\" title = \"台南站\">台南站</a><em>20:03</em></li>\r\n",
      "<li class=\"station75 current\"><a href=\"javascript:;\" title = \"左營站\">左營站</a><em>20:18</em></li>\r\n",
      "\r\n",
      "                                               </ul>\r\n",
      "                                             <h4> </h4>\r\n",
      "                                    </section>\r\n",
      "                                 </div> \r\n",
      " \r\n",
      "                                    </td>\r\n",
      "                                  </tr>\r\n",
      "<tr>\r\n",
      "                                    <td class=\"toTouch\" colspan=\"4\">\r\n",
      "                                        <table class=\"touch_table\"><tr>\r\n",
      "                                            <td  class=\"column1\"><a href=\"javascript:;\" title = \"0737\">0737</a></td>\r\n",
      "                                            <td  class=\"column3\">18:36</td>\r\n",
      "                                            <td  class=\"column4\">19:08</td>\r\n",
      "                                            <td  class=\"column2\"></td>\r\n",
      "                                          </tr>\r\n",
      "                                        </table> \r\n",
      "                                        <div class=\"touch_show\">\r\n",
      "                                    <section class=\"touch_table_info touch_table_info_tw\">\r\n",
      "                                    \t\t<a class=\"touch_close\" href=\"#\" title = \"close\">close</a>\r\n",
      "                                            <h3><strong>0737 列車 </strong>停靠說明 </h3>\r\n",
      "                                               <ul>\r\n",
      "                                               <li class=\"station10 current\"><a href=\"javascript:;\" title = \"台北站\">台北站</a><em>18:36</em></li>\r\n",
      "<li class=\"station15 current\"><a href=\"javascript:;\" title = \"板橋站\">板橋站</a><em>18:44</em></li>\r\n",
      "<li class=\"station20 current\"><a href=\"javascript:;\" title = \"桃園站\">桃園站</a><em>18:57</em></li>\r\n",
      "<li class=\"station25 current\"><a href=\"javascript:;\" title = \"新竹站\">新竹站</a><em>19:10</em></li>\r\n",
      "<li class=\"station40 current\"><a href=\"javascript:;\" title = \"台中站\">台中站</a><em>19:38</em></li>\r\n",
      "<li class=\"station55 current\"><a href=\"javascript:;\" title = \"嘉義站\">嘉義站</a><em>20:02</em></li>\r\n",
      "<li class=\"station65 current\"><a href=\"javascript:;\" title = \"台南站\">台南站</a><em>20:21</em></li>\r\n",
      "<li class=\"station75 current\"><a href=\"javascript:;\" title = \"左營站\">左營站</a><em>20:36</em></li>\r\n",
      "\r\n",
      "                                               </ul>\r\n",
      "                                             <h4> </h4>\r\n",
      "                                    </section>\r\n",
      "                                 </div> \r\n",
      " \r\n",
      "                                    </td>\r\n",
      "                                  </tr>\r\n",
      "<tr>\r\n",
      "                                    <td class=\"toTouch\" colspan=\"4\">\r\n",
      "                                        <table class=\"touch_table\"><tr>\r\n",
      "                                            <td  class=\"column1\"><a href=\"javascript:;\" title = \"1529\">1529</a></td>\r\n",
      "                                            <td  class=\"column3\">18:48</td>\r\n",
      "                                            <td  class=\"column4\">19:20</td>\r\n",
      "                                            <td  class=\"column2\"></td>\r\n",
      "                                          </tr>\r\n",
      "                                        </table> \r\n",
      "                                        <div class=\"touch_show\">\r\n",
      "                                    <section class=\"touch_table_info touch_table_info_tw\">\r\n",
      "                                    \t\t<a class=\"touch_close\" href=\"#\" title = \"close\">close</a>\r\n",
      "                                            <h3><strong>1529 列車 </strong>停靠說明 </h3>\r\n",
      "                                               <ul>\r\n",
      "                                               <li class=\"station10 current\"><a href=\"javascript:;\" title = \"台北站\">台北站</a><em>18:48</em></li>\r\n",
      "<li class=\"station15 current\"><a href=\"javascript:;\" title = \"板橋站\">板橋站</a><em>18:56</em></li>\r\n",
      "<li class=\"station20 current\"><a href=\"javascript:;\" title = \"桃園站\">桃園站</a><em>19:09</em></li>\r\n",
      "<li class=\"station25 current\"><a href=\"javascript:;\" title = \"新竹站\">新竹站</a><em>19:22</em></li>\r\n",
      "<li class=\"station40 current\"><a href=\"javascript:;\" title = \"台中站\">台中站</a><em>19:49</em></li>\r\n",
      "<li class=\"station55 \"><a href=\"javascript:;\" title = \"嘉義站\">嘉義站</a><em></em></li>\r\n",
      "<li class=\"station65 \"><a href=\"javascript:;\" title = \"台南站\">台南站</a><em></em></li>\r\n",
      "<li class=\"station75 \"><a href=\"javascript:;\" title = \"左營站\">左營站</a><em></em></li>\r\n",
      "\r\n",
      "                                               </ul>\r\n",
      "                                             <h4> </h4>\r\n",
      "                                    </section>\r\n",
      "                                 </div> \r\n",
      " \r\n",
      "                                    </td>\r\n",
      "                                  </tr>\r\n",
      "<tr>\r\n",
      "                                    <td class=\"toTouch\" colspan=\"4\">\r\n",
      "                                        <table class=\"touch_table\"><tr>\r\n",
      "                                            <td  class=\"column1\"><a href=\"javascript:;\" title = \"0741\">0741</a></td>\r\n",
      "                                            <td  class=\"column3\">19:00</td>\r\n",
      "                                            <td  class=\"column4\">19:31</td>\r\n",
      "                                            <td  class=\"column2\"></td>\r\n",
      "                                          </tr>\r\n",
      "                                        </table> \r\n",
      "                                        <div class=\"touch_show\">\r\n",
      "                                    <section class=\"touch_table_info touch_table_info_tw\">\r\n",
      "                                    \t\t<a class=\"touch_close\" href=\"#\" title = \"close\">close</a>\r\n",
      "                                            <h3><strong>0741 列車 </strong>停靠說明 </h3>\r\n",
      "                                               <ul>\r\n",
      "                                               <li class=\"station10 current\"><a href=\"javascript:;\" title = \"台北站\">台北站</a><em>19:00</em></li>\r\n",
      "<li class=\"station15 current\"><a href=\"javascript:;\" title = \"板橋站\">板橋站</a><em>19:08</em></li>\r\n",
      "<li class=\"station20 current\"><a href=\"javascript:;\" title = \"桃園站\">桃園站</a><em>19:21</em></li>\r\n",
      "<li class=\"station25 current\"><a href=\"javascript:;\" title = \"新竹站\">新竹站</a><em>19:33</em></li>\r\n",
      "<li class=\"station40 current\"><a href=\"javascript:;\" title = \"台中站\">台中站</a><em>20:01</em></li>\r\n",
      "<li class=\"station55 current\"><a href=\"javascript:;\" title = \"嘉義站\">嘉義站</a><em>20:26</em></li>\r\n",
      "<li class=\"station65 current\"><a href=\"javascript:;\" title = \"台南站\">台南站</a><em>20:47</em></li>\r\n",
      "<li class=\"station75 current\"><a href=\"javascript:;\" title = \"左營站\">左營站</a><em>21:00</em></li>\r\n",
      "\r\n",
      "                                               </ul>\r\n",
      "                                             <h4> </h4>\r\n",
      "                                    </section>\r\n",
      "                                 </div> \r\n",
      " \r\n",
      "                                    </td>\r\n",
      "                                  </tr>\r\n",
      "\r\n",
      "                                 </table>\r\n",
      "\t\t\t\t               </section><!--result_table-->\r\n",
      "\r\n",
      "\r\n",
      "\r\n",
      "            <div class=\"res_top\"></div>\r\n",
      "            <div class=\"res_down\"></div>\r\n",
      "             <nav class=\"res_next_prev\">\r\n",
      "            \t<a class=\"res_prev_btn res_prev_btn_tw\" href=\"javascript:;\" onclick=\"RestTrainSubmit('12:36', '1')\" OnKeypress=\"this.onclick()\" titile = \"較早班次\">較早班次</a>\r\n",
      "<a class=\"res_next_btn res_next_btn_tw\" href=\"javascript:;\" onclick=\"RestTrainSubmit('19:18', '2')\" OnKeypress=\"this.onclick()\" title  = \"較晚班次\">較晚班次</a>\r\n",
      "\r\n",
      "             </nav>\r\n",
      "         </ul>\r\n",
      "       </section><!--time_check_result-->\r\n",
      "\r\n",
      "<h3 class=\"kind_ticket kind_ticket_tw\">車廂票價參考</h3>\r\n",
      "    <section class=\"kind_ticket_list kind_ticket_list_tw\">\r\n",
      "        <table class=\"word_size\">\r\n",
      "            <tr>\r\n",
      "            <th class=\"c1\" scope=\"col\">&nbsp;</th>\r\n",
      "            <th class=\"c2\" scope=\"col\">標準車廂</th>\r\n",
      "            <th class=\"c3\" scope=\"col\">商務車廂</th>\r\n",
      "            <th class=\"c4\" scope=\"col\">自由座車廂</th>\r\n",
      "            </tr>\r\n",
      "            <tr>\r\n",
      "                           <th scope=\"row\">全票票價</th>\r\n",
      "                                <td>$315</td>\r\n",
      "<td>$560</td>\r\n",
      "<td>$305</td>\r\n",
      "\r\n",
      "                           </tr>\r\n",
      "<tr>\r\n",
      "                           <th scope=\"row\">孩童票  敬老票愛心票價</th>\r\n",
      "                                <td>$155</td>\r\n",
      "<td>$350</td>\r\n",
      "<td>$150</td>\r\n",
      "\r\n",
      "                           </tr>\r\n",
      "<tr>\r\n",
      "                           <th scope=\"row\">團體票</th>\r\n",
      "                                <td>$295</td>\r\n",
      "<td>$530</td>\r\n",
      "<td>-</td>\r\n",
      "\r\n",
      "                           </tr>\r\n",
      "\r\n",
      "        </table>\r\n",
      "\t\t<nav> \r\n",
      "        <a href=\"https://irs.thsrc.com.tw/IMINT/\"><img src=\"/Content/UploadFiles/time_search/24hour.gif\" width=\"251\" height=\"42\" alt=\"24Hour Online Booking\"></a> \r\n",
      "        <a href=\"/tw/Article/ArticleContent/caa6fac8-b875-4ad6-b1e6-96c2902d12a6\"><img src=\"/Content/UploadFiles/time_search/moreTicket.gif\" width=\"251\" height=\"42\" alt=\"More Ticket\"></a> \r\n",
      "        </nav>\r\n",
      "    </section>\r\n",
      "\r\n",
      "<article class=\"search_word commonWord\">\r\n",
      "    <h4 class=\"word_size\" title = \"公告事項說明\">公告事項說明</h4>\r\n",
      "    <ul class=\"word_size\">\r\n",
      "            <li title = \"台北至板橋區間恕不發售商務車廂車票及團體票。\">台北至板橋區間恕不發售商務車廂車票及團體票。</li>\r\n",
      "            <li title = \"欲得知列車停靠站詳細說明，請點選上方之車次連結。\">欲得知列車停靠站詳細說明，請點選上方之車次連結。</li>\r\n",
      "            <li title = \"本系統僅提供時刻表及票價查詢功能，如欲直接訂位，請使用台灣高鐵網路訂位系統進行線上訂位及付款。\">本系統僅提供時刻表及票價查詢功能，如欲直接訂位，請使用台灣高鐵網路訂位系統進行線上訂位及付款。</li>\r\n",
      "            <li title = \"本時刻表所列各次列車為開車時刻，唯於終點站為到達時刻。\">本時刻表所列各次列車為開車時刻，唯於終點站為到達時刻。</li>\r\n",
      "    </ul>\r\n",
      "</article>\r\n",
      "<article class=\"search_word2 commonWord\">\r\n",
      "    <h4 class=\"word_size\" title = \"票價優惠說明\">票價優惠說明</h4>\r\n",
      "    <ul class=\"word_size\">\r\n",
      "        <li title =\"以上票價為折扣後之價格。\">以上票價為折扣後之價格。</li>\r\n",
      "        <li title = \"以上列車時刻及票價僅供參考，資訊若有更動，以各車站現場公布為準。\">以上列車時刻及票價僅供參考，資訊若有更動，以各車站現場公布為準。</li>\r\n",
      "    </ul>\r\n",
      "</article>\r\n",
      "    <article class=\"siteMapTop\"></article>\r\n",
      "</section>\r\n",
      "<div style=\"height:20px;\" class=\"footer_list_btn\"></div>\r\n",
      "\r\n",
      "\r\n",
      "        </div>\r\n",
      "        \r\n",
      "\r\n",
      "<!--WebsiteFooter_Start-->\r\n",
      "    <footer>\r\n",
      "    <div class=\"just_line\"></div>\r\n",
      "    <div style=\"height:10px;\"></div>     \r\n",
      "<div class=\"footer_top\">\r\n",
      "        \t  <article class=\"phone_area\">\r\n",
      "        \t    \r\n",
      "                <strong class=\"footerH2Title\" title = \"客服專線 : 4066-3000 \">客服專線 : 4066-3000 </strong>\r\n",
      "        \t    <ol>\r\n",
      "        \t      <li class=\"phone_01\" title = \"苗栗：4266-3000\">苗栗：4266-3000 </li>\r\n",
      "        \t      <li class=\"phone_02\" title = \"台東、金門：4666-3000\">台東、金門：4666-3000 </li>\r\n",
      "        \t      <li class=\"phone_03\" title = \"馬祖及行動電話：02-4066-3000\">馬祖及行動電話：02-4066-3000 </li>\r\n",
      "                    <li class=\"phone_04\" title = \"服務時間：06:00~24:00\">服務時間：06:00~24:00 </li>\r\n",
      "       \t        </ol>\r\n",
      "       \t      </article><!--phone_area-->\r\n",
      "       \t    <article class=\"reserve_area\">\r\n",
      "        \t    \r\n",
      "                <strong class=\"footerH2Title\" title = \"語音訂位 : 4066-0000 \">語音訂位 : 4066-0000 </strong>\r\n",
      "        \t    <ol>\r\n",
      "        \t      <li class=\"phone_01\" title = \"苗栗：4266-0000\">苗栗：4266-0000 </li>\r\n",
      "        \t      <li class=\"phone_02\" title = \"台東、金門：4666-0000\">台東、金門：4666-0000 </li>\r\n",
      "        \t      <li class=\"phone_03\" title = \"馬祖及行動電話：02-4066-0000\">馬祖及行動電話：02-4066-0000 </li>\r\n",
      "                  <li class=\"phone_04\" title = \"服務時間：00:00~24:00\">服務時間：00:00~24:00 </li>\r\n",
      "       \t      </ol>\r\n",
      "       \t      </article><!--reserve_area-->\r\n",
      "       \t    <article class=\"service_area\">\r\n",
      "        \t    <ul>\r\n",
      "               \r\n",
      "               <li  class=\"service_area_line4\" title = \"企業社會責任\"><a href=\"http://www2.thsrc.com.tw/Content/UploadFiles/CorporateResponsibility.pdf\" target=\"_blank\" title = \"企業社會責任[將另開新視窗 ]\">企業社會責任<span style=\"display:none;\">[將另開新視窗 ]</span></a></li>\r\n",
      "        \t      <li class=\"service_area_line\" title = \"聯絡我們\"><a href=\"/tw/ContactUs\" title=\"聯絡我們\">聯絡我們</a></li>\r\n",
      "        \t      <li class=\"service_area_line\" title = \"常見問題\"><a href=\"/tw/FAQ\" title=\"常見問題\">常見問題</a></li>\r\n",
      "        \t      <li class=\"service_area_line\" title = \"網站導覽\"><a href=\"/tw/SiteMap\" title=\"網站導覽\">網站導覽</a></li>\r\n",
      "                  <li title = \"遺失物查詢\"><a href=\"/tw/LostAndFound\" title=\"遺失物查詢\">遺失物查詢</a></li>\r\n",
      "       \t      </ul>\r\n",
      "       \t      <ul>\r\n",
      "        \t      <li  class=\"service_area_line2\"><a href=\"/tw/Article/ArticleContent/d1fa3bcb-a016-47e2-88c6-7b7cbed00ed5\" title = \"個人資料保護專區\">個人資料保護專區</a></li>\r\n",
      "        \t      <li  class=\"service_area_line3\"><a href=\"/tw/Article/ArticleContent/b9dcb8ea-02ab-4726-b71d-335904dbd86b\" title = \"智慧財產權及免責條款宣告\">智慧財產權及免責條款宣告</a></li>\r\n",
      "        \t      <li><a href=\"/tw/Article/ArticleContent/291d80fe-080f-4442-90d0-9a9b82f119e5\" title = \"交易注意事項\">交易注意事項</a></li>\r\n",
      "       \t        </ul>\r\n",
      "                \r\n",
      "<div class=\"twitter twitter_tw\">\r\n",
      "    <script src=\"//platform.twitter.com/widgets.js\" type=\"text/javascript\"></script>\r\n",
      "    <a href=\"http://www.thsrc.com.tw/\" class=\"twitter-share-button\" data-lang=\"zh-tw\" data-count='none' title=\"發送推文\">發送推文</a>\r\n",
      "</div>\r\n",
      "<div class=\"pluker pluker_tw\">\r\n",
      "    <a href=\"javascript: void(window.open('//www.plurk.com/?qualifier=shares&status=' .concat(encodeURIComponent('http://www.thsrc.com.tw/')) .concat(' ') .concat('&#40;') .concat(encodeURIComponent(document.title)) .concat('&#41;')));\" title = \"PLURK\">        \r\n",
      "        <img style=\"width: 20px; height: 23px;\" alt=\"PLURK\" title=\"PLURK\" src=\"/Content/images/plurk.gif\">\r\n",
      "    </a>\r\n",
      "</div>\r\n",
      "<div class=\"googleAdd googleAdd_tw\" title = \"googlePlus\">\r\n",
      "    <div class=\"g-plusone\" data-size=\"medium\" data-annotation=\"\" data-width=\"200\"></div>\r\n",
      "</div>\r\n",
      "<div class=\"facebook facebook_tw\" title = \"facebook\">\r\n",
      "    <div class=\"fb-like\" data-send=\"false\" data-layout=\"button_count\" data-width=\"450\" data-show-faces=\"false\" data-colorscheme=\"light\" data-action=\"like\" title = \"facebook\"></div>\r\n",
      "    <div id=\"fb-root\"></div>\r\n",
      "</div>\r\n",
      "<script>\r\n",
      "\r\n",
      "    \r\n",
      "    $(\"#b\").attr('title', '發送推文');\r\n",
      "\r\n",
      "    /*twitter*/\r\n",
      "    !function (d, s, id) {\r\n",
      "        var js, fjs = d.getElementsByTagName(s)[0];\r\n",
      "        if (!d.getElementById(id)) {\r\n",
      "            js = d.createElement(s);\r\n",
      "            js.id = id; js.src = \"//platform.twitter.com/widgets.js\";\r\n",
      "            fjs.parentNode.insertBefore(js, fjs);\r\n",
      "        }\r\n",
      "    }\r\n",
      "    (document, \"script\", \"twitter-wjs\");\r\n",
      "\r\n",
      "    /*google +1*/\r\n",
      "    window.___gcfg = { \r\n",
      "        lang: 'zh-TW',\r\n",
      "        parsetags: 'onload'\r\n",
      "    };\r\n",
      "\r\n",
      "    (function() {\r\n",
      "        var po = document.createElement('script'); po.type = 'text/javascript'; po.async = true;\r\n",
      "        po.src = '//apis.google.com/js/plusone.js';\r\n",
      "        var s = document.getElementsByTagName('script')[0]; s.parentNode.insertBefore(po, s);\r\n",
      "      })();\r\n",
      "\r\n",
      "    /*fb*/\r\n",
      "      (function (d, s, id) {\r\n",
      "          var js, fjs = d.getElementsByTagName(s)[0];\r\n",
      "          if (d.getElementById(id)) return;\r\n",
      "          js = d.createElement(s); js.id = id;\r\n",
      "          js.src = \"//connect.facebook.net/zh_TW/all.js#xfbml=1&appId=124902311050949\";\r\n",
      "          fjs.parentNode.insertBefore(js, fjs);\r\n",
      "      } (document, 'script', 'facebook-jssdk'));\r\n",
      "</script>\r\n",
      "\r\n",
      "       \t      </article><!--service_area-->\r\n",
      "      \t  </div><!--footer_top-->\r\n",
      "         \r\n",
      "          \r\n",
      "          \r\n",
      "          <div class=\"footerH5\">\r\n",
      "\t        <span>以上皆為付費電話，依一般市話及行動電話費率標準計費。</span></div>\r\n",
      "          \r\n",
      "           <article style=\"width:488px;float:left\">\r\n",
      "                \r\n",
      "                \r\n",
      "\r\n",
      "               <div class=\"footerH6\">\r\n",
      "               <div><span>台灣高速鐵路股份有限公司 版權所有 </span>© 2014 Taiwan High Speed Rail Corporation. All Rights Reserved.</div>\r\n",
      "               </div>\r\n",
      "          </article>      \r\n",
      "          <article style=\"width:485px;float:left;position:relative;\">\r\n",
      "                <img src=\"/Content/images/bethere_THSRC.png\" style=\"padding-left:320px\" alt=\"真實接觸 be there\" title = \"真實接觸 be there\"/>                \r\n",
      "                \r\n",
      "          </article>\r\n",
      "      </footer>\r\n",
      "      <!--WebsiteFooter_End-->\r\n",
      "    </div>\r\n",
      "    \r\n",
      "    \r\n",
      "\t<script type=\"text/javascript\" src=\"/Content/Script/time_search.js\"></script>\r\n",
      "\r\n",
      "    \r\n",
      "\r\n",
      "<script type=\"text/javascript\">\r\n",
      "\r\n",
      "    var _gaq = _gaq || [];\r\n",
      "    _gaq.push(['_setAccount', 'UA-9967381-1']);\r\n",
      "    _gaq.push(['_trackPageview']);\r\n",
      "\r\n",
      "    (function () {\r\n",
      "        var ga = document.createElement('script'); ga.type = 'text/javascript'; ga.async = true;\r\n",
      "        ga.src = ('https:' == document.location.protocol ? 'https://ssl' : 'http://www') + '.google-analytics.com/ga.js';\r\n",
      "        var s = document.getElementsByTagName('script')[0]; s.parentNode.insertBefore(ga, s);\r\n",
      "    })();\r\n",
      "\r\n",
      "</script>\r\n",
      "</body>\r\n",
      "</html>\n"
     ]
    }
   ],
   "source": [
    "requests.post(\"http://web.pcc.gov.tw/tps/pss/tender.do?searchMode=common&searchType=advance\", data = payload1)\n",
    "print res.text"
   ]
  },
  {
   "cell_type": "code",
   "execution_count": 1,
   "metadata": {
    "collapsed": false
   },
   "outputs": [
    {
     "name": "stdout",
     "output_type": "stream",
     "text": [
      "\n",
      "Mimi♥紅麴臘腸飯【電鍋料理】\n",
      "\n",
      "16\n",
      "566\n",
      "0\n",
      "\n",
      "超簡單省力的臘腸飯，用電鍋就可以完成，加了健康的紅麴，更香更好吃！\n",
      "\n",
      "咪咪愛料理歡迎你加入！ \n",
      "FB社團： \n",
      "https://www.facebook.com/groups/mimilovescooking/ \n",
      "部落格：http://thisismini.pixnet.net/blog\n",
      "食材：小孩的米-好粥稻、水、紅麴粉、臘腸、萵苣\n",
      "\n",
      "食材：小孩的米-好粥稻、水、紅麴粉、臘腸、萵苣\n",
      "\n",
      "蜜蘋果蛋糕（電子鍋）\n",
      "\n",
      "151\n",
      "1707\n",
      "0\n",
      "\n",
      "濕冷的日子在家裡利用電子鍋就能簡單做出香濃果香的蛋糕哦 ♬\n",
      "食材：蘋果(小型)、低筋麵粉、無鋁泡打粉、蛋、細砂糖、無鹽奶油\n",
      "\n",
      "食材：蘋果(小型)、低筋麵粉、無鋁泡打粉、蛋、細砂糖、無鹽奶油\n",
      "\n",
      "南瓜臘味飯~超簡單電鍋版【淬釀開運年菜】\n",
      "\n",
      "40\n",
      "686\n",
      "0\n",
      "\n",
      "將年味十足的臘腸和白飯加以調味後,填入養生香甜的南瓜,只需放入電鍋蒸,就完成了過年應景的臘味飯,米飯吸收了臘腸和南瓜的滋味,愈吃愈香,讓人意猶未盡!\n",
      "喜歡我的料理,請按【訂閱】支持呦\n",
      "http://icook.tw/users/100006180394426/recipes \n",
      "粉絲團 www.facebook.com/sugerwinnie\n",
      "食材：南瓜、臘腸.肝腸.香腸皆可、冷白飯或隔夜飯、淬釀醬油露北海道昆布、白胡椒粉\n",
      "\n",
      "食材：南瓜、臘腸.肝腸.香腸皆可、冷白飯或隔夜飯、淬釀醬油露北海道昆布、白胡椒粉\n",
      "\n",
      "嫩雞菇菇栗子飯(電子鍋版)\n",
      "\n",
      "2469\n",
      "4.4萬\n",
      "4\n",
      "\n",
      "忙碌的日子裡一樣可以輕鬆煮\n",
      "只要備好材料一鍵按下\n",
      "馬上就有香噴可口的飯菜上桌囉!!\n",
      "食材：去骨雞腿、雪白菇,鴻喜菇、栗子、醬油,白胡椒粉、蒜頭、白米\n",
      "\n",
      "食材：去骨雞腿、雪白菇,鴻喜菇、栗子、醬油,白胡椒粉、蒜頭、白米\n",
      "\n",
      "簡單輕食-南瓜炊飯\n",
      "\n",
      "54\n",
      "911\n",
      "0\n",
      "\n",
      "之前介紹過芋頭炊飯,其實南瓜炊飯和其做法大同小異,這次的炊飯是利用家中冰箱所有的蔬食製作.喜歡每當烹煮炊飯時,家中香味四溢的感覺.\n",
      "因為用糙米,所以上班族若有電子鍋,可以在早上炒好,加水放入電子鍋中,利用預約功能.晚上到家即可享用;若無,可先將料備齊,糙米泡上,晚上回家利用5分鐘炒料,40分鐘炊煮,並利用此時間先洗澡.\n",
      "總之,希望能為各位生活帶來豐富與便利!!\n",
      "食材：南瓜、紅蘿蔔(南瓜半顆可省略)、Shiitake香菇、西洋芹菜、洋蔥、糙米、水、葡萄籽油、黑胡椒,醬油\n",
      "\n",
      "食材：南瓜、紅蘿蔔(南瓜半顆可省略)、Shiitake香菇、西洋芹菜、洋蔥、糙米、水、葡萄籽油、黑胡椒,醬油\n",
      "\n",
      "黯然消魂飯不求人\n",
      "\n",
      "78\n",
      "1667\n",
      "0\n",
      "\n",
      "收到一個臘味禮盒~~\n",
      "讓臘腸取代叉燒來碗黯然銷魂飯吧!\n",
      "食材：臘腸、米、蛋、青江菜\n",
      "\n",
      "食材：臘腸、米、蛋、青江菜\n",
      "\n",
      "香菇蒸肉餅（電鍋版）\n",
      "\n",
      "105\n",
      "1648\n",
      "0\n",
      "\n",
      "乾香菇的香，茡薺的脆口，超Q彈與細緻的肉質，（關鍵就是～剁肉與拋甩）超彈牙可口哦！\n",
      "\n",
      "歡迎您來逛逛喔～\n",
      "https://www.facebook.com/S.G.Feng1969510907\n",
      "食材：豬絞肉、乾香菇、荸薺、老薑、紅蔥頭、蛋、香菜（青蔥）、調味料、油膏、麻油、米酒、太白粉、胡椒粉、糖、鹽（視需要）、湯汁、香菇水、油膏、胡椒粉\n",
      "\n",
      "食材：豬絞肉、乾香菇、荸薺、老薑、紅蔥頭、蛋、香菜（青蔥）、調味料、油膏、麻油、米酒、太白粉、胡椒粉、糖、鹽（視需要）、湯汁、香菇水、油膏、胡椒粉\n",
      "\n",
      "蜂蜜核桃黑糖糕\n",
      "\n",
      "79\n",
      "1618\n",
      "0\n",
      "\n",
      "由傳統黑糖糕而來，多加了一些蜂蜜，將原本灑在黑糖糕表面的芝麻，換成壓碎的核桃，也有另一種不同的風味喔！\n",
      "食材：低筋麵粉、中筋麵粉、太白粉、泡打粉、黑糖塊、蜂蜜、水、烤過的核桃、沙拉油\n",
      "\n",
      "食材：低筋麵粉、中筋麵粉、太白粉、泡打粉、黑糖塊、蜂蜜、水、烤過的核桃、沙拉油\n",
      "\n",
      "蒸黑糖糕\n",
      "\n",
      "85\n",
      "1765\n",
      "0\n",
      "\n",
      "家裡沒有烤箱也沒關係，用蒸的就好了~\n",
      "只要利用鬆餅粉，輕輕鬆鬆也可以在家吃到黑糖糕！\n",
      "食材：鬆餅粉、黑糖粉(黑糖塊也可以)、熱水、冷水\n",
      "\n",
      "食材：鬆餅粉、黑糖粉(黑糖塊也可以)、熱水、冷水\n",
      "\n",
      "電鍋-三杯茄子\n",
      "\n",
      "43\n",
      "1126\n",
      "0\n",
      "\n",
      "電鍋也能出好菜，而且低油又容易入味，適合外宿的人喔!\n",
      "食材：茄子、蔥、薑片、蒜頭、九層塔、醬油、麻油、普通辣椒、米酒\n",
      "\n",
      "食材：茄子、蔥、薑片、蒜頭、九層塔、醬油、麻油、普通辣椒、米酒\n",
      "\n",
      "醬油滷肉地瓜\n",
      "\n",
      "45\n",
      "1261\n",
      "0\n",
      "\n",
      "單純絞肉味道太過油膩，加入蔬菜後增加口感也多了清爽，拌著地瓜一起吃也不膩口喔！\n",
      "食材：絞肉、洋蔥、四季豆、地瓜、蔥花、味霖、醬油、糖、鹽、薑片、胡椒\n",
      "\n",
      "食材：絞肉、洋蔥、四季豆、地瓜、蔥花、味霖、醬油、糖、鹽、薑片、胡椒\n",
      "\n",
      "【芋頭粥】 \n",
      "\n",
      "185\n",
      "2400\n",
      "0\n",
      "\n",
      "芋頭一直是我喜歡的食物\n",
      "不管是料理成甜的或鹹的都好吃\n",
      "冷冷的天\n",
      "來一碗熱熱的芋頭粥\n",
      "在溫暖不過了\n",
      "快一起來料理吧^^\n",
      "食材：芋頭、米、絞肉、蝦米、乾香菇、芹菜、蔥末、調味料、油蔥酥、醬油、白胡椒粉、香油、鹽巴\n",
      "\n",
      "食材：芋頭、米、絞肉、蝦米、乾香菇、芹菜、蔥末、調味料、油蔥酥、醬油、白胡椒粉、香油、鹽巴\n"
     ]
    }
   ],
   "source": [
    "import requests\n",
    "from bs4 import BeautifulSoup\n",
    "\n",
    "res = requests.get(\"https://icook.tw/categories/26?ref=feature-categories\")\n",
    "soup = BeautifulSoup(res.text)\n",
    "articles = soup.select(\".list-card\")\n",
    "for i in articles:\n",
    "    print i.select(\".card-info\")[0].text\n",
    "    print i.select(\".material\")[0].text\n",
    "    #print \"=================================\""
   ]
  },
  {
   "cell_type": "code",
   "execution_count": null,
   "metadata": {
    "collapsed": true
   },
   "outputs": [],
   "source": []
  }
 ],
 "metadata": {
  "kernelspec": {
   "display_name": "Python 2",
   "language": "python",
   "name": "python2"
  },
  "language_info": {
   "codemirror_mode": {
    "name": "ipython",
    "version": 2
   },
   "file_extension": ".py",
   "mimetype": "text/x-python",
   "name": "python",
   "nbconvert_exporter": "python",
   "pygments_lexer": "ipython2",
   "version": "2.7.9"
  }
 },
 "nbformat": 4,
 "nbformat_minor": 0
}
