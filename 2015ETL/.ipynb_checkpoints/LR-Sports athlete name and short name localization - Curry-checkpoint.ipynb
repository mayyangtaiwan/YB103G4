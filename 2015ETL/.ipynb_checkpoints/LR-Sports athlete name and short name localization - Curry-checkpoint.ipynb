{
 "cells": [
  {
   "cell_type": "code",
   "execution_count": 2,
   "metadata": {
    "collapsed": false
   },
   "outputs": [
    {
     "ename": "SyntaxError",
     "evalue": "invalid syntax (<ipython-input-2-bcf32b12f241>, line 18)",
     "output_type": "error",
     "traceback": [
      "\u001b[0;36m  File \u001b[0;32m\"<ipython-input-2-bcf32b12f241>\"\u001b[0;36m, line \u001b[0;32m18\u001b[0m\n\u001b[0;31m    codes  = options(soup, 'Carrier_list')\u001b[0m\n\u001b[0m        ^\u001b[0m\n\u001b[0;31mSyntaxError\u001b[0m\u001b[0;31m:\u001b[0m invalid syntax\n"
     ]
    }
   ],
   "source": [
    "import requests\n",
    "from bs4 import BeautifulSoup\n",
    "\n",
    "def options(soup, id):\n",
    "    option_values = []\n",
    "    carrier_list = soup.find(id=id)\n",
    "    for option in carrier_list.findall('option'):\n",
    "        option_values.append(option['value'])\n",
    "    return option_values\n",
    "\n",
    "def print_list(label, codes):\n",
    "    print \"\\n%s:\" % label\n",
    "    for c in codes:\n",
    "        print c\n",
    "        \n",
    "def main():\n",
    "    soup = BeautifulSoup(open(\"http://www.transtats.bts.gov/Data_Elements.aspx?Data=2\")\n",
    "    codes = options(soup, 'Carrier_list')  \n",
    "    print_list(\"Carriers\", codes)\n",
    "                         \n",
    "    codes = options(soup, 'Airport')\n",
    "                         \n",
    "r = requests.get(\"http://www.transtats.bts.gov/Data_Elements.aspx?Data=2\")\n",
    "soup = BeautifulSoup(r.text)\n",
    "viewstate_element = soup.find(id=\"__VIEWSTATE\")\n",
    "viewstate = viewstate_element(\"value\")\n",
    "eventvalidation_element = soup.find(id=\"__EVENTARGUMENT\")\n",
    "eventvalidation = eventvalidation_element(\"value\")\n",
    "                         \n",
    "r = requests.post(\"http://www.transtats.bts.gov/Data_Elements.aspx?Data=2\", \n",
    "                  data={'AirportList':\"B0S\",\n",
    "                        'CarrierList': \"EV\",\n",
    "                        'Submit':\"Submit\",\n",
    "                        '__EVENTTARGET':\"\",\n",
    "                        '__EVENTARGUMENT':\"\",\n",
    "                        '__EVENTVALIDATION': eventvalidation,\n",
    "                        '__VIEWSTATE':viewstate})\n",
    "\n",
    "f = open(\"ExpressJetAirlines-Boston.html\", \"w\")\n",
    "f.write(r.text)"
   ]
  },
  {
   "cell_type": "code",
   "execution_count": null,
   "metadata": {
    "collapsed": true
   },
   "outputs": [],
   "source": []
  }
 ],
 "metadata": {
  "kernelspec": {
   "display_name": "Python 2",
   "language": "python",
   "name": "python2"
  },
  "language_info": {
   "codemirror_mode": {
    "name": "ipython",
    "version": 2
   },
   "file_extension": ".py",
   "mimetype": "text/x-python",
   "name": "python",
   "nbconvert_exporter": "python",
   "pygments_lexer": "ipython2",
   "version": "2.7.9"
  }
 },
 "nbformat": 4,
 "nbformat_minor": 0
}
