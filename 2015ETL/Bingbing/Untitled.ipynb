{
 "cells": [
  {
   "cell_type": "code",
   "execution_count": 11,
   "metadata": {
    "collapsed": false
   },
   "outputs": [],
   "source": [
    "import string\n",
    "a = open(\"BinbinALL.txt\", \"r\")\n",
    "b = open(\"1-BinbinAll.txt\", \"w\")\n",
    "BBA = []\n",
    "for i in a.readlines():\n",
    "    x = i.strip()\n",
    "    BBA.append(x)\n",
    "    \n",
    "for j in BBA:\n",
    "    b.write(j+',')\n",
    "b.close()\n",
    "a.close()"
   ]
  },
  {
   "cell_type": "code",
   "execution_count": 12,
   "metadata": {
    "collapsed": false
   },
   "outputs": [],
   "source": [
    "import requests, time\n",
    "from bs4 import BeautifulSoup\n",
    "import string\n",
    "a = open(\"cook_practice.txt\",\"r\")     # 讀檔\n",
    "b = open(\"123cook_practice.txt\",\"w\")  # 寫入\n",
    "BBA = []\n",
    "for i in a.readlines():\n",
    "    x = i.strip()\n",
    "    BBA.append(x)\n",
    "    \n",
    "for j in BBA:\n",
    "    b.write(j+',')\n",
    "b.close()\n",
    "a.close()"
   ]
  },
  {
   "cell_type": "code",
   "execution_count": null,
   "metadata": {
    "collapsed": true
   },
   "outputs": [],
   "source": [
    "def cut(line,x):\n",
    "    ingredientsList = []\n",
    "    stepsList = []\n",
    "    i=0\n",
    "    for i in range(0, x):\n",
    "        if len(line.split(',材料：,',x)[i].rsplit(',', 1)[1]:\n",
    "            title = line.split(',材料：,',x)[i].rsplit(',', 1)[1]\n",
    "        else:\n",
    "            title = line.split(',材料：,',x)[i].rsplit(',', 1)[1]\n",
    "        ingredientsList.append(title + ',')\n",
    "        stepsList.append(title + ',')\n",
    "        ingredients = line.split(',材料：,',x)[i+1].split(',作法：,')[0]\n",
    "        steps = line.split(',材料：,',x)[i+1].split(',作法：,')[1].rsplit(',',1)[0]\n",
    "        ingredientsList.append(ingredients+'\\n')\n",
    "        stepsList.append(steps+'\\n')\n",
    "        i += 1\n",
    "    for k in ingredientsList:\n",
    "        ingredientsList_file.write(k)\n",
    "    for k in stepsList:\n",
    "        stepsList_file.write(k)        \n",
    "    return  "
   ]
  }
 ],
 "metadata": {
  "kernelspec": {
   "display_name": "Python 2",
   "language": "python",
   "name": "python2"
  },
  "language_info": {
   "codemirror_mode": {
    "name": "ipython",
    "version": 2
   },
   "file_extension": ".py",
   "mimetype": "text/x-python",
   "name": "python",
   "nbconvert_exporter": "python",
   "pygments_lexer": "ipython2",
   "version": "2.7.9"
  }
 },
 "nbformat": 4,
 "nbformat_minor": 0
}
