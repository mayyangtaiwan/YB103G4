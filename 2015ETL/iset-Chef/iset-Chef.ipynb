{
 "cells": [
  {
   "cell_type": "code",
   "execution_count": null,
   "metadata": {
    "collapsed": false
   },
   "outputs": [],
   "source": [
    "#型男大主廚\n",
    "#Next- How to delete the rows which contain only one comma?\n",
    "import requests\n",
    "from bs4 import BeautifulSoup\n",
    "import re\n",
    "import string\n",
    "page_format = \"http://blog.iset.com.tw//chef/?p=%d\"\n",
    "recipe_file = open(\"iset_chef_list.txt\", 'w')\n",
    "for page in range(0,13000): \n",
    "    recipe_list = page_format%(page) \n",
    "    recipe_file.write(recipe_list + \"\\n\")    \n",
    "recipe_file.close()\n",
    "\n",
    "#把每頁菜單的食材和步驟寫入iset_ingredients_steps.txt\n",
    "recipe_file = open(\"iset_chef_list.txt\", 'r')\n",
    "iset_ingredients_steps = open('iset-chef_ingredients_steps.txt','w')\n",
    "for line in recipe_file.readlines(): \n",
    "    pagelink = line.strip() \n",
    "    request_get = requests.get(pagelink)\n",
    "    request_get.encoding = 'utf-8'\n",
    "    response = request_get.text\n",
    "    soup = BeautifulSoup(response) \n",
    "    try:\n",
    "        if \"Not Found\" in str(soup.select(\"#inwrapper .title\")[0]):\n",
    "            pass\n",
    "\n",
    "        else:\n",
    "            ingredientsList = []\n",
    "            ingredients = soup.select(\"#inwrapper div\")[1].text.encode('utf-8').strip()\n",
    "            if 'var addthis_pub' in ingredients:\n",
    "                a = ingredients.split('var addthis_pub')[0]\n",
    "                b = ','.join(a.split())\n",
    "                ingredientsList.append(b)\n",
    "            \n",
    "            else:\n",
    "                ingredientsList.append(ingredients)\n",
    "                \n",
    "            for i in ingredientsList:\n",
    "                iset_ingredients_steps.write(i+',')\n",
    "            iset_ingredients_steps.write('\\n')     \n",
    "        \n",
    "    except:\n",
    "        pass\n",
    "iset_ingredients_steps.close()\n",
    "recipe_file.close()\n"
   ]
  },
  {
   "cell_type": "code",
   "execution_count": 3,
   "metadata": {
    "collapsed": true
   },
   "outputs": [],
   "source": [
    "#把每頁菜單的食材和步驟寫入iset_ingredients_steps.txt\n",
    "recipe_file = open(\"iset_chef_list.txt\", 'r')\n",
    "iset_ingredients_steps = open('iset-chef_ingredients_steps.txt','a')\n",
    "for line in recipe_file.readlines(): \n",
    "    pagelink = line.strip() \n",
    "    request_get = requests.get(pagelink)\n",
    "    request_get.encoding = 'utf-8'\n",
    "    response = request_get.text\n",
    "    soup = BeautifulSoup(response) \n",
    "    try:\n",
    "        if \"Not Found\" in str(soup.select(\"#inwrapper .title\")[0]):\n",
    "            pass\n",
    "\n",
    "        else:\n",
    "            ingredientsList = []\n",
    "            ingredients = soup.select(\"#inwrapper div\")[1].text.encode('utf-8').strip()\n",
    "            if 'var addthis_pub' in ingredients:\n",
    "                a = ingredients.split('var addthis_pub')[0]\n",
    "                b = ','.join(a.split())\n",
    "                ingredientsList.append(b)\n",
    "            \n",
    "            else:\n",
    "                ingredientsList.append(ingredients)\n",
    "                \n",
    "            for i in ingredientsList:\n",
    "                iset_ingredients_steps.write(i+',')\n",
    "            iset_ingredients_steps.write('\\n')     \n",
    "        \n",
    "    except:\n",
    "        pass\n",
    "iset_ingredients_steps.close()\n",
    "recipe_file.close()\n"
   ]
  },
  {
   "cell_type": "code",
   "execution_count": 15,
   "metadata": {
    "collapsed": true
   },
   "outputs": [],
   "source": [
    "#skip duplicate\n",
    "in_file = open('iset-chef_ingredients_steps.txt','r')\n",
    "out_file = open('2-iset-chef_ingredients_steps.txt','w')\n",
    "unique = set()\n",
    "for line in in_file.readlines():\n",
    "    if line in unique: \n",
    "        continue \n",
    "    else:\n",
    "        unique.add(line)\n",
    "        out_file.write(line)\n",
    "in_file.close()\n",
    "out_file.close()"
   ]
  },
  {
   "cell_type": "code",
   "execution_count": 40,
   "metadata": {
    "collapsed": false
   },
   "outputs": [],
   "source": [
    "#remove those rows which contain only one comma\n",
    "in_file = open('2-iset-chef_ingredients_steps.txt','r')\n",
    "out_file = open('3-iset-chef_ingredients_steps.txt','w')\n",
    "\n",
    "x = []\n",
    "for line in in_file.readlines():\n",
    "    if len(line.split(',')) <= 2:\n",
    "        continue\n",
    "    else:\n",
    "        x.append(line)\n",
    "for i in x:\n",
    "    out_file.write(i)\n",
    "    \n",
    "out_file.close()\n",
    "in_file.close()"
   ]
  },
  {
   "cell_type": "markdown",
   "metadata": {
    "collapsed": false
   },
   "source": []
  },
  {
   "cell_type": "code",
   "execution_count": 66,
   "metadata": {
    "collapsed": false
   },
   "outputs": [],
   "source": [
    "import re\n",
    "in_file = open('3-iset-chef_ingredients_steps.txt','r')\n",
    "ingredientsList_file = open('4-iset-chef_ingredients.txt','w')\n",
    "stepsList_file = open('4-iset-chef_steps.txt','w')\n",
    "\n",
    "def cut(line,x):\n",
    "    ingredientsList = []\n",
    "    stepsList = []\n",
    "    i=0\n",
    "    for i in range(0, x):\n",
    "        if len(line.split(',食材：,',x)[i].rsplit(',', 1)[1].split('】')[1])>=2:\n",
    "            title = line.split(',食材：,',x)[i].rsplit(',', 1)[1].split('】')[1]\n",
    "        elif len(line.split(',食材：,',x)[i].rsplit(',', 1)[1].split('【')[0])>=2:\n",
    "            title = line.split(',食材：,',x)[i].rsplit(',', 1)[1].split('【')[0]\n",
    "        else:\n",
    "            title = line.split(',食材：,',x)[i].rsplit(',', 1)[1]\n",
    "        ingredientsList.append(title + ',')\n",
    "        stepsList.append(title + ',')\n",
    "        ingredients = line.split(',食材：,',x)[i+1].split(',作法：,')[0]\n",
    "        steps = line.split(',食材：,',x)[i+1].split(',作法：,')[1].rsplit(',',1)[0]\n",
    "        ingredientsList.append(ingredients+'\\n')\n",
    "        stepsList.append(steps+'\\n')\n",
    "        i += 1\n",
    "    for k in ingredientsList:\n",
    "        ingredientsList_file.write(k)\n",
    "    for k in stepsList:\n",
    "        stepsList_file.write(k)        \n",
    "    return     \n",
    "    \n",
    "for line in in_file.readlines():\n",
    "    for j in range (1,10):\n",
    "        if len([m.start() for m in re.finditer(',食材：,', line)]) == j:\n",
    "            try:\n",
    "                cut(line,j)\n",
    "            except:\n",
    "                pass\n",
    "    \n",
    "ingredientsList_file.close()\n",
    "stepsList_file.close()    \n",
    "in_file.close()\n"
   ]
  },
  {
   "cell_type": "code",
   "execution_count": 67,
   "metadata": {
    "collapsed": true
   },
   "outputs": [],
   "source": [
    "#skip duplicate again\n",
    "in_file = open('4-iset-chef_ingredients.txt','r')\n",
    "out_file = open('5-iset-chef_ingredients.txt','w')\n",
    "unique = set()\n",
    "for line in in_file.readlines():\n",
    "    if line in unique: \n",
    "        continue \n",
    "    else:\n",
    "        unique.add(line)\n",
    "        out_file.write(line)\n",
    "in_file.close()\n",
    "out_file.close()\n",
    "\n",
    "#skip duplicate again\n",
    "in_file = open('4-iset-chef_steps.txt','r')\n",
    "out_file = open('5-iset-chef_steps.txt','w')\n",
    "unique = set()\n",
    "for line in in_file.readlines():\n",
    "    if line in unique: \n",
    "        continue \n",
    "    else:\n",
    "        unique.add(line)\n",
    "        out_file.write(line)\n",
    "in_file.close()\n",
    "out_file.close()"
   ]
  },
  {
   "cell_type": "code",
   "execution_count": null,
   "metadata": {
    "collapsed": true
   },
   "outputs": [],
   "source": []
  }
 ],
 "metadata": {
  "kernelspec": {
   "display_name": "Python 2",
   "language": "python",
   "name": "python2"
  },
  "language_info": {
   "codemirror_mode": {
    "name": "ipython",
    "version": 2
   },
   "file_extension": ".py",
   "mimetype": "text/x-python",
   "name": "python",
   "nbconvert_exporter": "python",
   "pygments_lexer": "ipython2",
   "version": "2.7.9"
  }
 },
 "nbformat": 4,
 "nbformat_minor": 0
}
