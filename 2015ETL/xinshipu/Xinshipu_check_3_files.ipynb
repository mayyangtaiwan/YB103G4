{
 "cells": [
  {
   "cell_type": "code",
   "execution_count": 40,
   "metadata": {
    "collapsed": false
   },
   "outputs": [],
   "source": [
    "#skip duplicate 篩檔案完全重複的row\n",
    "in_file = open('mixscoreALL.txt','r')\n",
    "out_file = open('mixscoreALL-no-dup.txt','w')\n",
    "unique = set()\n",
    "for line in in_file.readlines():\n",
    "    if line in unique: \n",
    "        continue \n",
    "    else:\n",
    "        unique.add(line)\n",
    "        out_file.write(line)\n",
    "in_file.close()\n",
    "out_file.close()\n",
    "\n",
    "#skip duplicate 篩檔案完全重複的row\n",
    "in_file = open('practiceALL.txt','r')\n",
    "out_file = open('practiceALL-no-dup.txt','w')\n",
    "unique = set()\n",
    "for line in in_file.readlines():\n",
    "    if line in unique: \n",
    "        continue \n",
    "    else:\n",
    "        unique.add(line)\n",
    "        out_file.write(line)\n",
    "in_file.close()\n",
    "out_file.close()\n",
    "\n",
    "#skip duplicate 篩檔案完全重複的row\n",
    "in_file = open('ingredientsALL.txt','r')\n",
    "out_file = open('ingredientsALL-no-dup.txt','w')\n",
    "unique = set()\n",
    "for line in in_file.readlines():\n",
    "    if line in unique: \n",
    "        continue \n",
    "    else:\n",
    "        unique.add(line)\n",
    "        out_file.write(line)\n",
    "in_file.close()\n",
    "out_file.close()\n",
    "\n"
   ]
  },
  {
   "cell_type": "code",
   "execution_count": 49,
   "metadata": {
    "collapsed": false
   },
   "outputs": [
    {
     "name": "stdout",
     "output_type": "stream",
     "text": [
      "in_file1(mixscoreALL-no-dup.txt)行數: 32484\n",
      "in_file1轉成QaaDic的行數(移除重複菜): 25605\n",
      "=============\n",
      "in_file2(practiceALL-no-dup.txt)行數: 33123\n",
      "in_file2轉成QbbDic的行數(移除重複菜): 28000\n",
      "=============\n",
      "in_file3(ingredientsALL-no-dup.txt)行數: 33476\n",
      "in_file3轉成QccDic的行數(移除重複菜): 28346\n"
     ]
    }
   ],
   "source": [
    "in_file1 = open('mixscoreALL-no-dup.txt','r') \n",
    "in_file2 = open('practiceALL-no-dup.txt','r') \n",
    "in_file3 = open('ingredientsALL-no-dup.txt','r') \n",
    "\n",
    "lines_counter = 0\n",
    "QaaDic= {}\n",
    "for Qa in in_file1.readlines(): \n",
    "    if in_file1 != '\\n': #算一下file有幾行 \n",
    "        lines_counter += 1\n",
    "    try:\n",
    "        Qaa = Qa.split(',')[0]\n",
    "        Qaa2 = Qa.split(',',1)[1].strip()\n",
    "        for i in QaaDic:\n",
    "            if Qaa not in QaaDic:\n",
    "                QaaDic[Qaa]=Qaa2\n",
    "            if Qaa in QaaDic:\n",
    "                QaaDic[Qaa]=Qaa2+'1'\n",
    "    except: pass\n",
    "\n",
    "\n",
    "print 'in_file1(mixscoreALL-no-dup.txt)行數:', lines_counter \n",
    "print 'in_file1轉成QaaDic的行數(移除重複菜):', len(QaaDic)\n",
    "print '============='\n",
    "#for k in QaaDic:\n",
    " #   print k, QaaDic[k]\n",
    "\n",
    "\n",
    "lines_counter = 0\n",
    "QbbDic= {}\n",
    "for Qb in in_file2.readlines(): \n",
    "    if in_file2 != '\\n': #算一下file有幾行 \n",
    "        lines_counter += 1\n",
    "    try:\n",
    "        Qbb = Qb.split(',')[0]\n",
    "        Qbb2 = Qb.split(',',1)[1].strip()\n",
    "        QbbDic[Qbb]=Qbb2\n",
    "    except: pass\n",
    "\n",
    "\n",
    "print 'in_file2(practiceALL-no-dup.txt)行數:', lines_counter \n",
    "print 'in_file2轉成QbbDic的行數(移除重複菜):', len(QbbDic) \n",
    "print '============='\n",
    "\n",
    "lines_counter = 0\n",
    "QccDic= {}\n",
    "for Qc in in_file3.readlines(): \n",
    "    if in_file3 != '\\n': #算一下file有幾行 \n",
    "        lines_counter += 1\n",
    "    try:\n",
    "        Qcc = Qc.split(',')[0]\n",
    "        Qcc2 = Qc.split(',',1)[1].strip()\n",
    "        QccDic[Qcc]=Qcc2\n",
    "    except: pass\n",
    "\n",
    "\n",
    "print 'in_file3(ingredientsALL-no-dup.txt)行數:', lines_counter \n",
    "print 'in_file3轉成QccDic的行數(移除重複菜):', len(QccDic) \n",
    "\n",
    "in_file1.close()\n",
    "in_file2.close()\n",
    "in_file3.close()"
   ]
  },
  {
   "cell_type": "code",
   "execution_count": 50,
   "metadata": {
    "collapsed": false
   },
   "outputs": [],
   "source": [
    "Qoo1 = open('mixscoreALL_ver1.txt', 'w')\n",
    "Qoo2 = open('practiceALL_ver1.txt', 'w')\n",
    "Qoo3 = open('ingredientsALL_ver1.txt', 'w')\n",
    "\n",
    "for i in QaaDic:\n",
    "    if i in QbbDic and i in QccDic:\n",
    "            Qoo1.write(i+','+QaaDic[i]+'\\n') #mixscoreALL\n",
    "            Qoo2.write(i+','+QbbDic[i]+'\\n') #practiceALL\n",
    "            Qoo3.write(i+','+QccDic[i]+'\\n') #ingredientsALL\n",
    "\n",
    "Qoo1.close()\n",
    "Qoo2.close()\n",
    "Qoo3.close()"
   ]
  },
  {
   "cell_type": "code",
   "execution_count": 51,
   "metadata": {
    "collapsed": false
   },
   "outputs": [
    {
     "name": "stdout",
     "output_type": "stream",
     "text": [
      "in_file1(mixscoreALL_ver1.txt)行數: 24683\n",
      "in_file2(practiceALL_ver1)行數: 24683\n",
      "in_file3(ingredientsALL_ver1.txt)行數: 24683\n"
     ]
    }
   ],
   "source": [
    "in_file1 = open('mixscoreALL_ver1.txt','r') \n",
    "in_file2 = open('practiceALL_ver1.txt','r') \n",
    "in_file3 = open('ingredientsALL_ver1.txt','r') \n",
    "\n",
    "lines_counter = 0\n",
    "for Qa in in_file1.readlines(): \n",
    "    if in_file1 != '\\n': #算一下file有幾行 \n",
    "        lines_counter += 1\n",
    "print 'in_file1(mixscoreALL_ver1.txt)行數:', lines_counter \n",
    "\n",
    "lines_counter = 0\n",
    "for Qa in in_file2.readlines(): \n",
    "    if in_file2 != '\\n': #算一下file有幾行 \n",
    "        lines_counter += 1\n",
    "print 'in_file2(practiceALL_ver1)行數:', lines_counter \n",
    "\n",
    "lines_counter = 0\n",
    "for Qa in in_file3.readlines(): \n",
    "    if in_file3 != '\\n': #算一下file有幾行 \n",
    "        lines_counter += 1\n",
    "print 'in_file3(ingredientsALL_ver1.txt)行數:', lines_counter \n",
    "\n",
    "\n",
    "in_file1.close()\n",
    "in_file2.close()\n",
    "in_file3.close()"
   ]
  },
  {
   "cell_type": "code",
   "execution_count": null,
   "metadata": {
    "collapsed": false
   },
   "outputs": [],
   "source": []
  },
  {
   "cell_type": "code",
   "execution_count": 8,
   "metadata": {
    "collapsed": false
   },
   "outputs": [],
   "source": []
  },
  {
   "cell_type": "code",
   "execution_count": null,
   "metadata": {
    "collapsed": true
   },
   "outputs": [],
   "source": []
  }
 ],
 "metadata": {
  "kernelspec": {
   "display_name": "Python 2",
   "language": "python",
   "name": "python2"
  },
  "language_info": {
   "codemirror_mode": {
    "name": "ipython",
    "version": 2
   },
   "file_extension": ".py",
   "mimetype": "text/x-python",
   "name": "python",
   "nbconvert_exporter": "python",
   "pygments_lexer": "ipython2",
   "version": "2.7.9"
  }
 },
 "nbformat": 4,
 "nbformat_minor": 0
}
