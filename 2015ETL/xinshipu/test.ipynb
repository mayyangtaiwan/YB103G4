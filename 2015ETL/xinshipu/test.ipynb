{
 "cells": [
  {
   "cell_type": "code",
   "execution_count": 22,
   "metadata": {
    "collapsed": false
   },
   "outputs": [
    {
     "name": "stdout",
     "output_type": "stream",
     "text": [
      "[<div class=\"re-up\">\n",
      "<h1 alt=\"散寿司\" class=\"font18 no-overflow\" property=\"v:name\">散寿司</h1>\n",
      "<div>\n",
      "<p class=\"star mt10\" id=\"evaluator\">\n",
      "<span class=\"orstar orstar0 \"></span>\n",
      "<span class=\"orstar dorating orstar1 \" rel=\"1\"></span>\n",
      "<span class=\"orstar dorating orstar2 \" rel=\"2\"></span>\n",
      "<span class=\"orstar dorating orstar3 \" rel=\"3\"></span>\n",
      "<span class=\"orstar dorating orstar4 active \" rel=\"4\"></span>\n",
      "<span class=\"orstar dorating orstar5 \" rel=\"5\"></span>\n",
      "</p>\n",
      "<span rel=\"v:Review\">\n",
      "<span typeof=\"v:Review-aggregate\">\n",
      "<span rel=\"v:rating\">\n",
      "<span typeof=\"v:Rating\">\n",
      "<span class=\"font16 ml10 col\"><span property=\"v:average\">4.5</span>分</span>\n",
      "<span class=\"font16 ml10 col\" id=\"zuofa_review_label\"><span property=\"v:votes\">6</span>位评价</span>\n",
      "</span>\n",
      "</span>\n",
      "</span>\n",
      "</span>\n",
      "</div>\n",
      "<div class=\"font16 mt20\">\n",
      "<a class=\"btn-small btn-orange\" href=\"javascript:void(0);\" onclick=\"addShouCang();return false;\" target=\"_self\"><i class=\"icon-font icon-collect\"></i><span class=\"ml10\">收藏</span></a>\n",
      "</div>\n",
      "<p class=\"cg2 mt12\">\n",
      "<span>食谱号</span>\n",
      "<span>49391</span>\n",
      "<span class=\"ml20\">阅读</span>\n",
      "<span>6622次</span>\n",
      "<span class=\"ml20\">收藏</span>\n",
      "<span>4次</span>\n",
      "</p>\n",
      "</div>]\n"
     ]
    }
   ],
   "source": [
    "import requests\n",
    "from bs4 import BeautifulSoup\n",
    "header = {'User-Agent':'Mozilla/5.0 (Macintosh; Intel Mac OS X 10_10_2) AppleWebKit/537.36 (KHTML, like Gecko) Chrome/42.0.2311.90 Safari/537.36'}\n",
    "res = requests.get('http://www.xinshipu.com/%E6%95%A3%E5%AF%BF%E5%8F%B8-49391.htm', headers = header)\n",
    "soup = BeautifulSoup(res.text)\n",
    "#print soup\n",
    "reup = soup.select('.re-up')\n",
    "print reup"
   ]
  },
  {
   "cell_type": "code",
   "execution_count": null,
   "metadata": {
    "collapsed": true
   },
   "outputs": [],
   "source": []
  },
  {
   "cell_type": "code",
   "execution_count": null,
   "metadata": {
    "collapsed": true
   },
   "outputs": [],
   "source": []
  },
  {
   "cell_type": "code",
   "execution_count": null,
   "metadata": {
    "collapsed": true
   },
   "outputs": [],
   "source": []
  }
 ],
 "metadata": {
  "kernelspec": {
   "display_name": "Python 2",
   "language": "python",
   "name": "python2"
  },
  "language_info": {
   "codemirror_mode": {
    "name": "ipython",
    "version": 2
   },
   "file_extension": ".py",
   "mimetype": "text/x-python",
   "name": "python",
   "nbconvert_exporter": "python",
   "pygments_lexer": "ipython2",
   "version": "2.7.9"
  }
 },
 "nbformat": 4,
 "nbformat_minor": 0
}
