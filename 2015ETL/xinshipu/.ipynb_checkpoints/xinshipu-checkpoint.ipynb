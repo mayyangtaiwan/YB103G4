{
 "cells": [
  {
   "cell_type": "code",
   "execution_count": null,
   "metadata": {
    "collapsed": false
   },
   "outputs": [],
   "source": [
    "import requests\n",
    "from bs4 import BeautifulSoup\n",
    "Aaa= open('Xin.txt', 'r')\n",
    "Bbb= open('Xin_recipe_link.txt', 'w')\n",
    "for line in Aaa.readlines():\n",
    "    page_format=line.split(',')[0]+'?page=%d'\n",
    "    for i in range(1,20):\n",
    "        res = requests.get(page_format%(i))\n",
    "        soup = BeautifulSoup(res.text)\n",
    "        qoo = soup.select('.clearfix')[0]\n",
    "        alinks = qoo.findAll('a', {'href':True})\n",
    "        for link in alinks: \n",
    "            Bbb.write('http://www.xinshipu.com'+link['href']+'\\n')\n",
    "Bbb.close()\n",
    "Aaa.close()"
   ]
  },
  {
   "cell_type": "code",
   "execution_count": null,
   "metadata": {
    "collapsed": true
   },
   "outputs": [],
   "source": [
    "import requests\n",
    "from bs4 import BeautifulSoup\n",
    "res = requests.get('http://www.xinshipu.com/zuofadaquan/8061/?page=1')\n",
    "soup = BeautifulSoup(res.text)\n",
    "qoo = soup.select('.clearfix')[0]\n",
    "alinks = qoo.findAll('a', {'href':True})\n",
    "for link in alinks: \n",
    "    print 'http://www.xinshipu.com'+link['href'] "
   ]
  },
  {
   "cell_type": "code",
   "execution_count": 3,
   "metadata": {
    "collapsed": false
   },
   "outputs": [
    {
     "name": "stdout",
     "output_type": "stream",
     "text": [
      "散寿司\n",
      "寿司饭适量，鲜虾4尾，鲔鱼生鱼片适量，鲑鱼卵适量，市售蒲烧鳗1/2条，厚蛋烧3~5片，干瓢煮各适，蒟蒻煮适量，小黄瓜片少许，绿紫苏叶适量，酱油适量，鲑鱼生鱼片适量，虾卵适量，香菇煮适量，红萝卜煮适量，寿司姜适量，甜豆适量，萝卜婴适量，酪梨丁适量，山葵酱适量\n",
      "1.将甜豆洗净、去蒂，汆烫熟备用；萝卜婴洗净，泡水备用。2.鲜虾洗净去肠泥，用竹签从虾尾部分沿背瘠贯串，放入热水中汆烫熟后，再取出竹签，去头去尾，剥除壳备用。\n"
     ]
    }
   ],
   "source": [
    "import requests\n",
    "from bs4 import BeautifulSoup\n",
    "res = requests.get('http://www.xinshipu.com/%E6%95%A3%E5%AF%BF%E5%8F%B8-49391.htm')\n",
    "soup = BeautifulSoup(res.text.encode('utf-8'))\n",
    "#print soup\n",
    "Title = soup.select('h1')[1].text\n",
    "print Title\n",
    "Ingredients = soup.select('p')[0].text\n",
    "print Ingredients\n",
    "Qoo = soup.select('meta')[1]\n",
    "Steps = str(Qoo).split('\"')[1]\n",
    "print Steps\n"
   ]
  },
  {
   "cell_type": "code",
   "execution_count": 1,
   "metadata": {
    "collapsed": false
   },
   "outputs": [
    {
     "ename": "NameError",
     "evalue": "name 'requests' is not defined",
     "output_type": "error",
     "traceback": [
      "\u001b[0;31m---------------------------------------------------------------------------\u001b[0m",
      "\u001b[0;31mNameError\u001b[0m                                 Traceback (most recent call last)",
      "\u001b[0;32m<ipython-input-1-087b09bd55f5>\u001b[0m in \u001b[0;36m<module>\u001b[0;34m()\u001b[0m\n\u001b[0;32m----> 1\u001b[0;31m \u001b[0mres\u001b[0m \u001b[0;34m=\u001b[0m \u001b[0mrequests\u001b[0m\u001b[0;34m.\u001b[0m\u001b[0mget\u001b[0m\u001b[0;34m(\u001b[0m\u001b[0;34m'http://www.xinshipu.com/%E6%95%A3%E5%AF%BF%E5%8F%B8-49391.htm'\u001b[0m\u001b[0;34m)\u001b[0m\u001b[0;34m\u001b[0m\u001b[0m\n\u001b[0m\u001b[1;32m      2\u001b[0m \u001b[0msoup\u001b[0m \u001b[0;34m=\u001b[0m \u001b[0mBeautifulSoup\u001b[0m\u001b[0;34m(\u001b[0m\u001b[0mres\u001b[0m\u001b[0;34m.\u001b[0m\u001b[0mtext\u001b[0m\u001b[0;34m.\u001b[0m\u001b[0mencode\u001b[0m\u001b[0;34m(\u001b[0m\u001b[0;34m'utf-8'\u001b[0m\u001b[0;34m)\u001b[0m\u001b[0;34m)\u001b[0m\u001b[0;34m\u001b[0m\u001b[0m\n\u001b[1;32m      3\u001b[0m \u001b[0;31m#print soup\u001b[0m\u001b[0;34m\u001b[0m\u001b[0;34m\u001b[0m\u001b[0m\n\u001b[1;32m      4\u001b[0m \u001b[0mTitle\u001b[0m \u001b[0;34m=\u001b[0m \u001b[0msoup\u001b[0m\u001b[0;34m.\u001b[0m\u001b[0mselect\u001b[0m\u001b[0;34m(\u001b[0m\u001b[0;34m'h1'\u001b[0m\u001b[0;34m)\u001b[0m\u001b[0;34m[\u001b[0m\u001b[0;36m1\u001b[0m\u001b[0;34m]\u001b[0m\u001b[0;34m.\u001b[0m\u001b[0mtext\u001b[0m\u001b[0;34m\u001b[0m\u001b[0m\n\u001b[1;32m      5\u001b[0m \u001b[0;32mprint\u001b[0m \u001b[0mTitle\u001b[0m\u001b[0;34m\u001b[0m\u001b[0m\n",
      "\u001b[0;31mNameError\u001b[0m: name 'requests' is not defined"
     ]
    }
   ],
   "source": []
  },
  {
   "cell_type": "code",
   "execution_count": null,
   "metadata": {
    "collapsed": true
   },
   "outputs": [],
   "source": [
    "Aaa= open('Xin_recipe_link.txt', 'r')\n",
    "Bbb= open('Xin_recipe_ingredients.txt', 'w')\n",
    "Ccc= open('Xin_recipe_steps.txt', 'w')\n",
    "Ddd= open('Xin_recipe_views.txt', 'w')\n",
    "Eee= open('Xin_recipe_likes.txt', 'w')\n",
    "for line in Aaa.readlines():\n",
    "    res = requests.get(line.strip())\n",
    "    soup = BeautifulSoup(res.text)\n",
    "    title = soup.select('.no-overflow')[0]\n",
    "    print title\n",
    "Bbb.close()\n",
    "Aaa.close()"
   ]
  }
 ],
 "metadata": {
  "kernelspec": {
   "display_name": "Python 2",
   "language": "python",
   "name": "python2"
  },
  "language_info": {
   "codemirror_mode": {
    "name": "ipython",
    "version": 2
   },
   "file_extension": ".py",
   "mimetype": "text/x-python",
   "name": "python",
   "nbconvert_exporter": "python",
   "pygments_lexer": "ipython2",
   "version": "2.7.9"
  }
 },
 "nbformat": 4,
 "nbformat_minor": 0
}
