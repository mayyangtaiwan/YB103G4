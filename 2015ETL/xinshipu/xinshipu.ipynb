{
 "cells": [
  {
   "cell_type": "code",
   "execution_count": null,
   "metadata": {
    "collapsed": false
   },
   "outputs": [],
   "source": [
    "import requests\n",
    "from bs4 import BeautifulSoup\n",
    "Aaa= open('Xin.txt', 'r')\n",
    "Bbb= open('Xin_recipe_link.txt', 'w')\n",
    "for line in Aaa.readlines():\n",
    "    page_format=line.split(',')[0]+'?page=%d'\n",
    "    for i in range(1,20):\n",
    "        res = requests.get(page_format%(i))\n",
    "        soup = BeautifulSoup(res.text)\n",
    "        qoo = soup.select('.clearfix')[0]\n",
    "        alinks = qoo.findAll('a', {'href':True})\n",
    "        for link in alinks: \n",
    "            Bbb.write('http://www.xinshipu.com'+link['href']+'\\n')\n",
    "Bbb.close()\n",
    "Aaa.close()"
   ]
  },
  {
   "cell_type": "code",
   "execution_count": null,
   "metadata": {
    "collapsed": true
   },
   "outputs": [],
   "source": [
    "import requests\n",
    "from bs4 import BeautifulSoup\n",
    "res = requests.get('http://www.xinshipu.com/zuofadaquan/8061/?page=1')\n",
    "soup = BeautifulSoup(res.text)\n",
    "qoo = soup.select('.clearfix')[0]\n",
    "alinks = qoo.findAll('a', {'href':True})\n",
    "for link in alinks: \n",
    "    print 'http://www.xinshipu.com'+link['href'] "
   ]
  },
  {
   "cell_type": "code",
   "execution_count": 13,
   "metadata": {
    "collapsed": false
   },
   "outputs": [
    {
     "ename": "AttributeError",
     "evalue": "'unicode' object has no attribute 'select'",
     "output_type": "error",
     "traceback": [
      "\u001b[0;31m---------------------------------------------------------------------------\u001b[0m",
      "\u001b[0;31mAttributeError\u001b[0m                            Traceback (most recent call last)",
      "\u001b[0;32m<ipython-input-13-cd40663738f9>\u001b[0m in \u001b[0;36m<module>\u001b[0;34m()\u001b[0m\n\u001b[1;32m      6\u001b[0m \u001b[0msoup\u001b[0m \u001b[0;34m=\u001b[0m \u001b[0mBeautifulSoup\u001b[0m\u001b[0;34m(\u001b[0m\u001b[0mres\u001b[0m\u001b[0;34m.\u001b[0m\u001b[0mtext\u001b[0m\u001b[0;34m)\u001b[0m\u001b[0;34m\u001b[0m\u001b[0m\n\u001b[1;32m      7\u001b[0m \u001b[0mreup\u001b[0m \u001b[0;34m=\u001b[0m \u001b[0msoup\u001b[0m\u001b[0;34m.\u001b[0m\u001b[0mselect\u001b[0m\u001b[0;34m(\u001b[0m\u001b[0;34m'.re-up'\u001b[0m\u001b[0;34m)\u001b[0m\u001b[0;34m[\u001b[0m\u001b[0;36m0\u001b[0m\u001b[0;34m]\u001b[0m\u001b[0;34m.\u001b[0m\u001b[0mtext\u001b[0m\u001b[0;34m.\u001b[0m\u001b[0mstrip\u001b[0m\u001b[0;34m(\u001b[0m\u001b[0;34m)\u001b[0m\u001b[0;34m\u001b[0m\u001b[0m\n\u001b[0;32m----> 8\u001b[0;31m \u001b[0;32mprint\u001b[0m \u001b[0mreup\u001b[0m\u001b[0;34m.\u001b[0m\u001b[0mselect\u001b[0m\u001b[0;34m(\u001b[0m\u001b[0;34m'.font18.no-overflow'\u001b[0m\u001b[0;34m)\u001b[0m\u001b[0;34m\u001b[0m\u001b[0m\n\u001b[0m\u001b[1;32m      9\u001b[0m \u001b[0;34m\u001b[0m\u001b[0m\n\u001b[1;32m     10\u001b[0m \u001b[0;34m\u001b[0m\u001b[0m\n",
      "\u001b[0;31mAttributeError\u001b[0m: 'unicode' object has no attribute 'select'"
     ]
    }
   ],
   "source": [
    "#單頁內容\n",
    "import requests\n",
    "from bs4 import BeautifulSoup\n",
    "header = {'User-Agent':'Mozilla/5.0 (Macintosh; Intel Mac OS X 10_10_2) AppleWebKit/537.36 (KHTML, like Gecko) Chrome/42.0.2311.90 Safari/537.36'}\n",
    "res = requests.get('http://www.xinshipu.com/%E6%95%A3%E5%AF%BF%E5%8F%B8-49391.htm', headers = header)\n",
    "soup = BeautifulSoup(res.text)\n",
    "reup = soup.select('.re-up')[0].text.strip()\n",
    "print reup.select('.font18.no-overflow')\n",
    "\n",
    "\n",
    "Title = soup.select('h1')[1].text\n",
    "print Title\n",
    "Ingredients = soup.select('p')[0].text\n",
    "print Ingredients\n",
    "Qoo = soup.select('meta')[1]\n",
    "Steps = str(Qoo).split('\"')[1]\n",
    "print Steps\n",
    "\n"
   ]
  },
  {
   "cell_type": "code",
   "execution_count": null,
   "metadata": {
    "collapsed": false
   },
   "outputs": [],
   "source": [
    "Aaa= open('Xin_recipe_link.txt', 'r')\n",
    "Bbb= open('Xin_recipe_ingredients.txt', 'w')\n",
    "Ccc= open('Xin_recipe_steps.txt', 'w')\n",
    "Ddd= open('Xin_recipe_views.txt', 'w')\n",
    "Eee= open('Xin_recipe_likes.txt', 'w')\n",
    "for line in Aaa.readlines():\n",
    "    res = requests.get(line.strip())\n",
    "    soup = BeautifulSoup(res.text)\n",
    "    title = soup.select('.no-overflow')[0]\n",
    "    print title\n",
    "Bbb.close()\n",
    "Aaa.close()"
   ]
  },
  {
   "cell_type": "code",
   "execution_count": 1,
   "metadata": {
    "collapsed": true
   },
   "outputs": [],
   "source": []
  },
  {
   "cell_type": "code",
   "execution_count": null,
   "metadata": {
    "collapsed": true
   },
   "outputs": [],
   "source": [
    "in_file1 = open('ingredientsALL.txt','r')\n",
    "in_file2 = open('practiceALL.txt','r')\n",
    "out_file1 = open('ingre_dups.txt','r')\n",
    "out_file2 = open('ingre_no_dups.txt','w')\n",
    "QaaList= []\n",
    "QccList= []\n",
    "for Qaa in in_file.readlines(): #把Calories_table1.txt的每一行放到QaaList\n",
    "    QaaList.append(Qaa)\n",
    "for Qcc in out_file1.readlines(): #把ingre_dups.txt的每一行放到QccList\n",
    "    QccList.append(Qcc)\n",
    "\n",
    "no_dups = []    \n",
    "for Qxx in QaaList: \n",
    "    if Qxx not in QccList:\n",
    "        no_dups.append(Qxx)\n",
    "        out_file2.write(Qxx)\n",
    "out_file2.close()\n",
    "out_file1.close()\n",
    "in_file.close()"
   ]
  }
 ],
 "metadata": {
  "kernelspec": {
   "display_name": "Python 2",
   "language": "python",
   "name": "python2"
  },
  "language_info": {
   "codemirror_mode": {
    "name": "ipython",
    "version": 2
   },
   "file_extension": ".py",
   "mimetype": "text/x-python",
   "name": "python",
   "nbconvert_exporter": "python",
   "pygments_lexer": "ipython2",
   "version": "2.7.9"
  }
 },
 "nbformat": 4,
 "nbformat_minor": 0
}
